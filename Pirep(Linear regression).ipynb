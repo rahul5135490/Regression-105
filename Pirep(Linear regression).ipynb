{
 "cells": [
  {
   "cell_type": "code",
   "execution_count": 336,
   "id": "c8d80c56",
   "metadata": {},
   "outputs": [],
   "source": [
    "import pandas as pd"
   ]
  },
  {
   "cell_type": "code",
   "execution_count": 337,
   "id": "fc71419c",
   "metadata": {},
   "outputs": [],
   "source": [
    "import numpy as np"
   ]
  },
  {
   "cell_type": "code",
   "execution_count": 338,
   "id": "93af5a21",
   "metadata": {},
   "outputs": [],
   "source": [
    "df=pd.read_excel(\"C:\\\\Users\\\\rcmlp.12\\\\Desktop\\\\pirep delay\\\\EFG-E75_delay_piprep_data.xlsx\")"
   ]
  },
  {
   "cell_type": "code",
   "execution_count": 339,
   "id": "7aee1810",
   "metadata": {},
   "outputs": [
    {
     "data": {
      "text/html": [
       "<div>\n",
       "<style scoped>\n",
       "    .dataframe tbody tr th:only-of-type {\n",
       "        vertical-align: middle;\n",
       "    }\n",
       "\n",
       "    .dataframe tbody tr th {\n",
       "        vertical-align: top;\n",
       "    }\n",
       "\n",
       "    .dataframe thead th {\n",
       "        text-align: right;\n",
       "    }\n",
       "</style>\n",
       "<table border=\"1\" class=\"dataframe\">\n",
       "  <thead>\n",
       "    <tr style=\"text-align: right;\">\n",
       "      <th></th>\n",
       "      <th>New_ata_code</th>\n",
       "      <th>MONTH_CODE</th>\n",
       "      <th>Pirep</th>\n",
       "      <th>Inte</th>\n",
       "    </tr>\n",
       "  </thead>\n",
       "  <tbody>\n",
       "    <tr>\n",
       "      <th>0</th>\n",
       "      <td>23</td>\n",
       "      <td>201801</td>\n",
       "      <td>33</td>\n",
       "      <td>5</td>\n",
       "    </tr>\n",
       "    <tr>\n",
       "      <th>1</th>\n",
       "      <td>23</td>\n",
       "      <td>201802</td>\n",
       "      <td>47</td>\n",
       "      <td>9</td>\n",
       "    </tr>\n",
       "    <tr>\n",
       "      <th>2</th>\n",
       "      <td>23</td>\n",
       "      <td>201803</td>\n",
       "      <td>59</td>\n",
       "      <td>10</td>\n",
       "    </tr>\n",
       "    <tr>\n",
       "      <th>3</th>\n",
       "      <td>23</td>\n",
       "      <td>201804</td>\n",
       "      <td>61</td>\n",
       "      <td>17</td>\n",
       "    </tr>\n",
       "    <tr>\n",
       "      <th>4</th>\n",
       "      <td>23</td>\n",
       "      <td>201805</td>\n",
       "      <td>41</td>\n",
       "      <td>7</td>\n",
       "    </tr>\n",
       "  </tbody>\n",
       "</table>\n",
       "</div>"
      ],
      "text/plain": [
       "   New_ata_code  MONTH_CODE  Pirep  Inte\n",
       "0            23      201801     33     5\n",
       "1            23      201802     47     9\n",
       "2            23      201803     59    10\n",
       "3            23      201804     61    17\n",
       "4            23      201805     41     7"
      ]
     },
     "execution_count": 339,
     "metadata": {},
     "output_type": "execute_result"
    }
   ],
   "source": [
    "df.head()"
   ]
  },
  {
   "cell_type": "code",
   "execution_count": 340,
   "id": "9865defe",
   "metadata": {},
   "outputs": [],
   "source": [
    "import numpy as np\n",
    "from sklearn.linear_model import LinearRegression"
   ]
  },
  {
   "cell_type": "code",
   "execution_count": 341,
   "id": "0c47aae3",
   "metadata": {},
   "outputs": [],
   "source": [
    "from sklearn.model_selection import train_test_split"
   ]
  },
  {
   "cell_type": "code",
   "execution_count": 342,
   "id": "9af718d2",
   "metadata": {},
   "outputs": [
    {
     "name": "stdout",
     "output_type": "stream",
     "text": [
      "     Inte\n",
      "0       5\n",
      "1       9\n",
      "2      10\n",
      "3      17\n",
      "4       7\n",
      "..    ...\n",
      "235    28\n",
      "236    29\n",
      "237    14\n",
      "238    12\n",
      "239    23\n",
      "\n",
      "[240 rows x 1 columns]\n"
     ]
    }
   ],
   "source": [
    "print(y)"
   ]
  },
  {
   "cell_type": "code",
   "execution_count": 343,
   "id": "417809bf",
   "metadata": {},
   "outputs": [],
   "source": [
    "model = LinearRegression()\n"
   ]
  },
  {
   "cell_type": "code",
   "execution_count": 344,
   "id": "ac693619",
   "metadata": {},
   "outputs": [
    {
     "data": {
      "text/html": [
       "<div>\n",
       "<style scoped>\n",
       "    .dataframe tbody tr th:only-of-type {\n",
       "        vertical-align: middle;\n",
       "    }\n",
       "\n",
       "    .dataframe tbody tr th {\n",
       "        vertical-align: top;\n",
       "    }\n",
       "\n",
       "    .dataframe thead th {\n",
       "        text-align: right;\n",
       "    }\n",
       "</style>\n",
       "<table border=\"1\" class=\"dataframe\">\n",
       "  <thead>\n",
       "    <tr style=\"text-align: right;\">\n",
       "      <th></th>\n",
       "      <th>New_ata_code</th>\n",
       "      <th>MONTH_CODE</th>\n",
       "      <th>Pirep</th>\n",
       "      <th>Inte</th>\n",
       "    </tr>\n",
       "  </thead>\n",
       "  <tbody>\n",
       "    <tr>\n",
       "      <th>0</th>\n",
       "      <td>23</td>\n",
       "      <td>201801</td>\n",
       "      <td>33</td>\n",
       "      <td>5</td>\n",
       "    </tr>\n",
       "    <tr>\n",
       "      <th>1</th>\n",
       "      <td>23</td>\n",
       "      <td>201802</td>\n",
       "      <td>47</td>\n",
       "      <td>9</td>\n",
       "    </tr>\n",
       "    <tr>\n",
       "      <th>2</th>\n",
       "      <td>23</td>\n",
       "      <td>201803</td>\n",
       "      <td>59</td>\n",
       "      <td>10</td>\n",
       "    </tr>\n",
       "    <tr>\n",
       "      <th>3</th>\n",
       "      <td>23</td>\n",
       "      <td>201804</td>\n",
       "      <td>61</td>\n",
       "      <td>17</td>\n",
       "    </tr>\n",
       "    <tr>\n",
       "      <th>4</th>\n",
       "      <td>23</td>\n",
       "      <td>201805</td>\n",
       "      <td>41</td>\n",
       "      <td>7</td>\n",
       "    </tr>\n",
       "    <tr>\n",
       "      <th>...</th>\n",
       "      <td>...</td>\n",
       "      <td>...</td>\n",
       "      <td>...</td>\n",
       "      <td>...</td>\n",
       "    </tr>\n",
       "    <tr>\n",
       "      <th>235</th>\n",
       "      <td>52</td>\n",
       "      <td>202108</td>\n",
       "      <td>77</td>\n",
       "      <td>28</td>\n",
       "    </tr>\n",
       "    <tr>\n",
       "      <th>236</th>\n",
       "      <td>52</td>\n",
       "      <td>202109</td>\n",
       "      <td>63</td>\n",
       "      <td>29</td>\n",
       "    </tr>\n",
       "    <tr>\n",
       "      <th>237</th>\n",
       "      <td>52</td>\n",
       "      <td>202110</td>\n",
       "      <td>58</td>\n",
       "      <td>14</td>\n",
       "    </tr>\n",
       "    <tr>\n",
       "      <th>238</th>\n",
       "      <td>52</td>\n",
       "      <td>202111</td>\n",
       "      <td>54</td>\n",
       "      <td>12</td>\n",
       "    </tr>\n",
       "    <tr>\n",
       "      <th>239</th>\n",
       "      <td>52</td>\n",
       "      <td>202112</td>\n",
       "      <td>64</td>\n",
       "      <td>23</td>\n",
       "    </tr>\n",
       "  </tbody>\n",
       "</table>\n",
       "<p>240 rows × 4 columns</p>\n",
       "</div>"
      ],
      "text/plain": [
       "     New_ata_code  MONTH_CODE  Pirep  Inte\n",
       "0              23      201801     33     5\n",
       "1              23      201802     47     9\n",
       "2              23      201803     59    10\n",
       "3              23      201804     61    17\n",
       "4              23      201805     41     7\n",
       "..            ...         ...    ...   ...\n",
       "235            52      202108     77    28\n",
       "236            52      202109     63    29\n",
       "237            52      202110     58    14\n",
       "238            52      202111     54    12\n",
       "239            52      202112     64    23\n",
       "\n",
       "[240 rows x 4 columns]"
      ]
     },
     "execution_count": 344,
     "metadata": {},
     "output_type": "execute_result"
    }
   ],
   "source": [
    "df"
   ]
  },
  {
   "cell_type": "code",
   "execution_count": 345,
   "id": "4a78babe",
   "metadata": {},
   "outputs": [
    {
     "data": {
      "text/html": [
       "<div>\n",
       "<style scoped>\n",
       "    .dataframe tbody tr th:only-of-type {\n",
       "        vertical-align: middle;\n",
       "    }\n",
       "\n",
       "    .dataframe tbody tr th {\n",
       "        vertical-align: top;\n",
       "    }\n",
       "\n",
       "    .dataframe thead th {\n",
       "        text-align: right;\n",
       "    }\n",
       "</style>\n",
       "<table border=\"1\" class=\"dataframe\">\n",
       "  <thead>\n",
       "    <tr style=\"text-align: right;\">\n",
       "      <th></th>\n",
       "      <th>Inte</th>\n",
       "    </tr>\n",
       "  </thead>\n",
       "  <tbody>\n",
       "    <tr>\n",
       "      <th>0</th>\n",
       "      <td>5</td>\n",
       "    </tr>\n",
       "    <tr>\n",
       "      <th>1</th>\n",
       "      <td>9</td>\n",
       "    </tr>\n",
       "    <tr>\n",
       "      <th>2</th>\n",
       "      <td>10</td>\n",
       "    </tr>\n",
       "    <tr>\n",
       "      <th>3</th>\n",
       "      <td>17</td>\n",
       "    </tr>\n",
       "    <tr>\n",
       "      <th>4</th>\n",
       "      <td>7</td>\n",
       "    </tr>\n",
       "    <tr>\n",
       "      <th>...</th>\n",
       "      <td>...</td>\n",
       "    </tr>\n",
       "    <tr>\n",
       "      <th>235</th>\n",
       "      <td>28</td>\n",
       "    </tr>\n",
       "    <tr>\n",
       "      <th>236</th>\n",
       "      <td>29</td>\n",
       "    </tr>\n",
       "    <tr>\n",
       "      <th>237</th>\n",
       "      <td>14</td>\n",
       "    </tr>\n",
       "    <tr>\n",
       "      <th>238</th>\n",
       "      <td>12</td>\n",
       "    </tr>\n",
       "    <tr>\n",
       "      <th>239</th>\n",
       "      <td>23</td>\n",
       "    </tr>\n",
       "  </tbody>\n",
       "</table>\n",
       "<p>240 rows × 1 columns</p>\n",
       "</div>"
      ],
      "text/plain": [
       "     Inte\n",
       "0       5\n",
       "1       9\n",
       "2      10\n",
       "3      17\n",
       "4       7\n",
       "..    ...\n",
       "235    28\n",
       "236    29\n",
       "237    14\n",
       "238    12\n",
       "239    23\n",
       "\n",
       "[240 rows x 1 columns]"
      ]
     },
     "execution_count": 345,
     "metadata": {},
     "output_type": "execute_result"
    }
   ],
   "source": [
    "X=df.iloc[:,2:3]\n",
    "y=df.iloc[:,3:4]\n",
    "y"
   ]
  },
  {
   "cell_type": "code",
   "execution_count": 346,
   "id": "1409da90",
   "metadata": {},
   "outputs": [],
   "source": [
    "\n",
    "X_train, X_test, y_train, y_test = train_test_split(x, y, test_size=0.33, random_state=42)\n",
    "\n"
   ]
  },
  {
   "cell_type": "code",
   "execution_count": 347,
   "id": "18d819f7",
   "metadata": {},
   "outputs": [
    {
     "data": {
      "text/plain": [
       "LinearRegression()"
      ]
     },
     "execution_count": 347,
     "metadata": {},
     "output_type": "execute_result"
    }
   ],
   "source": [
    "model.fit(X_train,y_train)\n"
   ]
  },
  {
   "cell_type": "code",
   "execution_count": 348,
   "id": "8b159bd6",
   "metadata": {},
   "outputs": [
    {
     "data": {
      "text/plain": [
       "array([[17.92719503],\n",
       "       [14.2723359 ],\n",
       "       [61.32864725],\n",
       "       [21.27748257],\n",
       "       [14.57690749],\n",
       "       [ 9.55147618],\n",
       "       [17.16576605],\n",
       "       [46.40463912],\n",
       "       [12.90176372],\n",
       "       [18.68862402],\n",
       "       [18.07948083],\n",
       "       [15.33833648],\n",
       "       [16.70890866],\n",
       "       [24.01862692],\n",
       "       [15.18605068],\n",
       "       [14.88147909],\n",
       "       [22.95262634],\n",
       "       [12.14033474],\n",
       "       [11.37890575],\n",
       "       [13.05404952],\n",
       "       [12.90176372],\n",
       "       [19.45005301],\n",
       "       [18.23176663],\n",
       "       [19.14548141],\n",
       "       [14.1200501 ],\n",
       "       [13.81547851],\n",
       "       [12.74947793],\n",
       "       [12.90176372],\n",
       "       [15.33833648],\n",
       "       [14.72919329],\n",
       "       [14.57690749],\n",
       "       [13.20633532],\n",
       "       [16.40433706],\n",
       "       [17.47033764],\n",
       "       [21.12519678],\n",
       "       [40.61777883],\n",
       "       [14.4246217 ],\n",
       "       [34.37406114],\n",
       "       [26.45519968],\n",
       "       [15.18605068],\n",
       "       [11.22661995],\n",
       "       [18.07948083],\n",
       "       [12.29262053],\n",
       "       [15.94747967],\n",
       "       [18.23176663],\n",
       "       [36.04920491],\n",
       "       [17.16576605],\n",
       "       [18.38405243],\n",
       "       [17.77490924],\n",
       "       [33.91720375],\n",
       "       [13.51090691],\n",
       "       [23.40948373],\n",
       "       [13.66319271],\n",
       "       [10.76976256],\n",
       "       [12.74947793],\n",
       "       [13.81547851],\n",
       "       [14.1200501 ],\n",
       "       [ 8.7900472 ],\n",
       "       [39.55177824],\n",
       "       [16.86119445],\n",
       "       [66.50636436],\n",
       "       [15.33833648],\n",
       "       [16.70890866],\n",
       "       [43.20663738],\n",
       "       [18.23176663],\n",
       "       [38.33349187],\n",
       "       [22.03891156],\n",
       "       [41.07463622],\n",
       "       [12.90176372],\n",
       "       [11.07433416],\n",
       "       [15.03376489],\n",
       "       [19.14548141],\n",
       "       [15.03376489],\n",
       "       [11.22661995],\n",
       "       [15.64290807],\n",
       "       [35.74463331],\n",
       "       [16.86119445],\n",
       "       [31.78520258],\n",
       "       [18.23176663],\n",
       "       [14.88147909]])"
      ]
     },
     "execution_count": 348,
     "metadata": {},
     "output_type": "execute_result"
    }
   ],
   "source": [
    "model.predict(X_test)"
   ]
  },
  {
   "cell_type": "code",
   "execution_count": null,
   "id": "f292ff3b",
   "metadata": {},
   "outputs": [],
   "source": [
    "\n"
   ]
  },
  {
   "cell_type": "code",
   "execution_count": null,
   "id": "1c0fa6c9",
   "metadata": {},
   "outputs": [],
   "source": []
  },
  {
   "cell_type": "code",
   "execution_count": null,
   "id": "4056f81f",
   "metadata": {},
   "outputs": [],
   "source": []
  },
  {
   "cell_type": "code",
   "execution_count": null,
   "id": "b63e4205",
   "metadata": {},
   "outputs": [],
   "source": []
  }
 ],
 "metadata": {
  "kernelspec": {
   "display_name": "Python 3",
   "language": "python",
   "name": "python3"
  },
  "language_info": {
   "codemirror_mode": {
    "name": "ipython",
    "version": 3
   },
   "file_extension": ".py",
   "mimetype": "text/x-python",
   "name": "python",
   "nbconvert_exporter": "python",
   "pygments_lexer": "ipython3",
   "version": "3.8.8"
  }
 },
 "nbformat": 4,
 "nbformat_minor": 5
}
