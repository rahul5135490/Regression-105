{
 "cells": [
  {
   "cell_type": "code",
   "execution_count": 33,
   "id": "4aeea12c",
   "metadata": {},
   "outputs": [],
   "source": [
    "import pandas as pd"
   ]
  },
  {
   "cell_type": "code",
   "execution_count": 34,
   "id": "6497c9c7",
   "metadata": {},
   "outputs": [],
   "source": [
    "import numpy as np"
   ]
  },
  {
   "cell_type": "code",
   "execution_count": 35,
   "id": "7807990e",
   "metadata": {},
   "outputs": [],
   "source": [
    "df=pd.read_excel(\"C:\\\\Users\\\\rcmlp.12\\\\Desktop\\\\pirep delay\\\\EFG-E75_delay_piprep_data.xlsx\")"
   ]
  },
  {
   "cell_type": "code",
   "execution_count": 36,
   "id": "8a104f97",
   "metadata": {},
   "outputs": [
    {
     "data": {
      "text/html": [
       "<div>\n",
       "<style scoped>\n",
       "    .dataframe tbody tr th:only-of-type {\n",
       "        vertical-align: middle;\n",
       "    }\n",
       "\n",
       "    .dataframe tbody tr th {\n",
       "        vertical-align: top;\n",
       "    }\n",
       "\n",
       "    .dataframe thead th {\n",
       "        text-align: right;\n",
       "    }\n",
       "</style>\n",
       "<table border=\"1\" class=\"dataframe\">\n",
       "  <thead>\n",
       "    <tr style=\"text-align: right;\">\n",
       "      <th></th>\n",
       "      <th>New_ata_code</th>\n",
       "      <th>MONTH_CODE</th>\n",
       "      <th>Pirep</th>\n",
       "      <th>Inte</th>\n",
       "    </tr>\n",
       "  </thead>\n",
       "  <tbody>\n",
       "    <tr>\n",
       "      <th>0</th>\n",
       "      <td>23</td>\n",
       "      <td>201801</td>\n",
       "      <td>33</td>\n",
       "      <td>5</td>\n",
       "    </tr>\n",
       "    <tr>\n",
       "      <th>1</th>\n",
       "      <td>23</td>\n",
       "      <td>201802</td>\n",
       "      <td>47</td>\n",
       "      <td>9</td>\n",
       "    </tr>\n",
       "    <tr>\n",
       "      <th>2</th>\n",
       "      <td>23</td>\n",
       "      <td>201803</td>\n",
       "      <td>59</td>\n",
       "      <td>10</td>\n",
       "    </tr>\n",
       "    <tr>\n",
       "      <th>3</th>\n",
       "      <td>23</td>\n",
       "      <td>201804</td>\n",
       "      <td>61</td>\n",
       "      <td>17</td>\n",
       "    </tr>\n",
       "    <tr>\n",
       "      <th>4</th>\n",
       "      <td>23</td>\n",
       "      <td>201805</td>\n",
       "      <td>41</td>\n",
       "      <td>7</td>\n",
       "    </tr>\n",
       "    <tr>\n",
       "      <th>...</th>\n",
       "      <td>...</td>\n",
       "      <td>...</td>\n",
       "      <td>...</td>\n",
       "      <td>...</td>\n",
       "    </tr>\n",
       "    <tr>\n",
       "      <th>235</th>\n",
       "      <td>52</td>\n",
       "      <td>202108</td>\n",
       "      <td>77</td>\n",
       "      <td>28</td>\n",
       "    </tr>\n",
       "    <tr>\n",
       "      <th>236</th>\n",
       "      <td>52</td>\n",
       "      <td>202109</td>\n",
       "      <td>63</td>\n",
       "      <td>29</td>\n",
       "    </tr>\n",
       "    <tr>\n",
       "      <th>237</th>\n",
       "      <td>52</td>\n",
       "      <td>202110</td>\n",
       "      <td>58</td>\n",
       "      <td>14</td>\n",
       "    </tr>\n",
       "    <tr>\n",
       "      <th>238</th>\n",
       "      <td>52</td>\n",
       "      <td>202111</td>\n",
       "      <td>54</td>\n",
       "      <td>12</td>\n",
       "    </tr>\n",
       "    <tr>\n",
       "      <th>239</th>\n",
       "      <td>52</td>\n",
       "      <td>202112</td>\n",
       "      <td>64</td>\n",
       "      <td>23</td>\n",
       "    </tr>\n",
       "  </tbody>\n",
       "</table>\n",
       "<p>240 rows × 4 columns</p>\n",
       "</div>"
      ],
      "text/plain": [
       "     New_ata_code  MONTH_CODE  Pirep  Inte\n",
       "0              23      201801     33     5\n",
       "1              23      201802     47     9\n",
       "2              23      201803     59    10\n",
       "3              23      201804     61    17\n",
       "4              23      201805     41     7\n",
       "..            ...         ...    ...   ...\n",
       "235            52      202108     77    28\n",
       "236            52      202109     63    29\n",
       "237            52      202110     58    14\n",
       "238            52      202111     54    12\n",
       "239            52      202112     64    23\n",
       "\n",
       "[240 rows x 4 columns]"
      ]
     },
     "execution_count": 36,
     "metadata": {},
     "output_type": "execute_result"
    }
   ],
   "source": [
    "df"
   ]
  },
  {
   "cell_type": "code",
   "execution_count": 37,
   "id": "ef3198c9",
   "metadata": {},
   "outputs": [
    {
     "data": {
      "text/html": [
       "<div>\n",
       "<style scoped>\n",
       "    .dataframe tbody tr th:only-of-type {\n",
       "        vertical-align: middle;\n",
       "    }\n",
       "\n",
       "    .dataframe tbody tr th {\n",
       "        vertical-align: top;\n",
       "    }\n",
       "\n",
       "    .dataframe thead th {\n",
       "        text-align: right;\n",
       "    }\n",
       "</style>\n",
       "<table border=\"1\" class=\"dataframe\">\n",
       "  <thead>\n",
       "    <tr style=\"text-align: right;\">\n",
       "      <th></th>\n",
       "      <th>Pirep</th>\n",
       "    </tr>\n",
       "  </thead>\n",
       "  <tbody>\n",
       "    <tr>\n",
       "      <th>0</th>\n",
       "      <td>33</td>\n",
       "    </tr>\n",
       "    <tr>\n",
       "      <th>1</th>\n",
       "      <td>47</td>\n",
       "    </tr>\n",
       "    <tr>\n",
       "      <th>2</th>\n",
       "      <td>59</td>\n",
       "    </tr>\n",
       "    <tr>\n",
       "      <th>3</th>\n",
       "      <td>61</td>\n",
       "    </tr>\n",
       "    <tr>\n",
       "      <th>4</th>\n",
       "      <td>41</td>\n",
       "    </tr>\n",
       "    <tr>\n",
       "      <th>...</th>\n",
       "      <td>...</td>\n",
       "    </tr>\n",
       "    <tr>\n",
       "      <th>235</th>\n",
       "      <td>77</td>\n",
       "    </tr>\n",
       "    <tr>\n",
       "      <th>236</th>\n",
       "      <td>63</td>\n",
       "    </tr>\n",
       "    <tr>\n",
       "      <th>237</th>\n",
       "      <td>58</td>\n",
       "    </tr>\n",
       "    <tr>\n",
       "      <th>238</th>\n",
       "      <td>54</td>\n",
       "    </tr>\n",
       "    <tr>\n",
       "      <th>239</th>\n",
       "      <td>64</td>\n",
       "    </tr>\n",
       "  </tbody>\n",
       "</table>\n",
       "<p>240 rows × 1 columns</p>\n",
       "</div>"
      ],
      "text/plain": [
       "     Pirep\n",
       "0       33\n",
       "1       47\n",
       "2       59\n",
       "3       61\n",
       "4       41\n",
       "..     ...\n",
       "235     77\n",
       "236     63\n",
       "237     58\n",
       "238     54\n",
       "239     64\n",
       "\n",
       "[240 rows x 1 columns]"
      ]
     },
     "execution_count": 37,
     "metadata": {},
     "output_type": "execute_result"
    }
   ],
   "source": [
    "X=df.iloc[:,2:3]\n",
    "y=df.iloc[:,3:4]\n",
    "X\n"
   ]
  },
  {
   "cell_type": "code",
   "execution_count": 38,
   "id": "c4133d3c",
   "metadata": {},
   "outputs": [
    {
     "data": {
      "text/html": [
       "<div>\n",
       "<style scoped>\n",
       "    .dataframe tbody tr th:only-of-type {\n",
       "        vertical-align: middle;\n",
       "    }\n",
       "\n",
       "    .dataframe tbody tr th {\n",
       "        vertical-align: top;\n",
       "    }\n",
       "\n",
       "    .dataframe thead th {\n",
       "        text-align: right;\n",
       "    }\n",
       "</style>\n",
       "<table border=\"1\" class=\"dataframe\">\n",
       "  <thead>\n",
       "    <tr style=\"text-align: right;\">\n",
       "      <th></th>\n",
       "      <th>Inte</th>\n",
       "    </tr>\n",
       "  </thead>\n",
       "  <tbody>\n",
       "    <tr>\n",
       "      <th>0</th>\n",
       "      <td>5</td>\n",
       "    </tr>\n",
       "    <tr>\n",
       "      <th>1</th>\n",
       "      <td>9</td>\n",
       "    </tr>\n",
       "    <tr>\n",
       "      <th>2</th>\n",
       "      <td>10</td>\n",
       "    </tr>\n",
       "    <tr>\n",
       "      <th>3</th>\n",
       "      <td>17</td>\n",
       "    </tr>\n",
       "    <tr>\n",
       "      <th>4</th>\n",
       "      <td>7</td>\n",
       "    </tr>\n",
       "    <tr>\n",
       "      <th>...</th>\n",
       "      <td>...</td>\n",
       "    </tr>\n",
       "    <tr>\n",
       "      <th>235</th>\n",
       "      <td>28</td>\n",
       "    </tr>\n",
       "    <tr>\n",
       "      <th>236</th>\n",
       "      <td>29</td>\n",
       "    </tr>\n",
       "    <tr>\n",
       "      <th>237</th>\n",
       "      <td>14</td>\n",
       "    </tr>\n",
       "    <tr>\n",
       "      <th>238</th>\n",
       "      <td>12</td>\n",
       "    </tr>\n",
       "    <tr>\n",
       "      <th>239</th>\n",
       "      <td>23</td>\n",
       "    </tr>\n",
       "  </tbody>\n",
       "</table>\n",
       "<p>240 rows × 1 columns</p>\n",
       "</div>"
      ],
      "text/plain": [
       "     Inte\n",
       "0       5\n",
       "1       9\n",
       "2      10\n",
       "3      17\n",
       "4       7\n",
       "..    ...\n",
       "235    28\n",
       "236    29\n",
       "237    14\n",
       "238    12\n",
       "239    23\n",
       "\n",
       "[240 rows x 1 columns]"
      ]
     },
     "execution_count": 38,
     "metadata": {},
     "output_type": "execute_result"
    }
   ],
   "source": [
    "y"
   ]
  },
  {
   "cell_type": "code",
   "execution_count": 39,
   "id": "932aecf5",
   "metadata": {},
   "outputs": [],
   "source": [
    "from sklearn.tree import DecisionTreeClassifier\n"
   ]
  },
  {
   "cell_type": "code",
   "execution_count": 40,
   "id": "d019ddc5",
   "metadata": {},
   "outputs": [],
   "source": [
    "from sklearn.model_selection import train_test_split"
   ]
  },
  {
   "cell_type": "code",
   "execution_count": 41,
   "id": "69e7bff2",
   "metadata": {},
   "outputs": [],
   "source": [
    "X_train, X_test, y_train, y_test = train_test_split(X, y, test_size=0.33, random_state=42)"
   ]
  },
  {
   "cell_type": "code",
   "execution_count": 44,
   "id": "4b2b7797",
   "metadata": {},
   "outputs": [],
   "source": [
    "classifier= DecisionTreeClassifier()\n"
   ]
  },
  {
   "cell_type": "code",
   "execution_count": 45,
   "id": "17b4f8b0",
   "metadata": {},
   "outputs": [
    {
     "data": {
      "text/plain": [
       "DecisionTreeClassifier()"
      ]
     },
     "execution_count": 45,
     "metadata": {},
     "output_type": "execute_result"
    }
   ],
   "source": [
    "classifier.fit(X_train,y_train)\n"
   ]
  },
  {
   "cell_type": "code",
   "execution_count": 48,
   "id": "65b0023c",
   "metadata": {},
   "outputs": [
    {
     "data": {
      "text/plain": [
       "array([ 6,  7, 73, 15,  9,  2, 12, 36, 29, 18, 30, 12,  3, 22, 17, 10, 23,\n",
       "        9,  7, 30, 29,  7, 10, 21, 33,  7,  7, 29, 12, 12,  9,  9, 32, 10,\n",
       "       54, 31,  4, 25, 23, 17, 12, 30,  9, 19, 10, 36, 12, 24, 34, 35,  6,\n",
       "       18, 10, 14,  7,  7, 33,  4, 47,  3, 62, 12,  3, 36, 10, 34, 11, 31,\n",
       "       29, 10,  6, 21,  6, 12,  8, 36,  3, 30, 10, 10], dtype=int64)"
      ]
     },
     "execution_count": 48,
     "metadata": {},
     "output_type": "execute_result"
    }
   ],
   "source": [
    "classifier.predict(X_test)"
   ]
  },
  {
   "cell_type": "code",
   "execution_count": 49,
   "id": "bb8012ce",
   "metadata": {},
   "outputs": [
    {
     "data": {
      "text/plain": [
       "array([10, 37, 12,  7,  8,  3,  4, 12,  4, 15,  9,  3,  9, 36, 11, 22, 12,\n",
       "       10,  4,  9, 27, 40, 10,  8, 33, 12,  9,  5, 10, 17, 20, 12, 30,  9,\n",
       "        5, 88, 25, 15, 10,  8, 14, 34, 30, 24,  9, 10, 12,  3,  6, 30,  2,\n",
       "        7,  7, 17,  7, 54,  6, 34, 24, 14, 24,  7, 36, 10, 34, 18,  9, 11,\n",
       "       10, 24, 10,  4, 35, 12,  5, 21, 73,  6, 17,  8,  7, 14, 10, 35,  9,\n",
       "        7,  6,  3, 27, 11, 30, 12,  7,  2, 32, 62, 31,  6, 10, 64,  7, 17,\n",
       "       27, 14, 10, 12, 17, 39,  9, 12,  7,  4, 33, 34, 23, 19, 17,  4,  8,\n",
       "       15, 24,  6,  8, 22, 22, 45, 10, 16, 12, 12, 10, 11, 23,  7, 10,  7,\n",
       "        9, 10, 33,  8, 10, 10, 19, 18, 29, 48, 14, 35, 10,  4, 32, 23,  6,\n",
       "        7, 47, 15,  7, 64,  8, 10], dtype=int64)"
      ]
     },
     "execution_count": 49,
     "metadata": {},
     "output_type": "execute_result"
    }
   ],
   "source": [
    "classifier.predict(X_train)"
   ]
  },
  {
   "cell_type": "code",
   "execution_count": 50,
   "id": "2fb2dd60",
   "metadata": {},
   "outputs": [
    {
     "name": "stderr",
     "output_type": "stream",
     "text": [
      "C:\\Users\\rcmlp.12\\Anaconda3\\lib\\site-packages\\sklearn\\base.py:493: FutureWarning: The feature names should match those that were passed during fit. Starting version 1.2, an error will be raised.\n",
      "Feature names unseen at fit time:\n",
      "- Inte\n",
      "Feature names seen at fit time, yet now missing:\n",
      "- Pirep\n",
      "\n",
      "  warnings.warn(message, FutureWarning)\n"
     ]
    },
    {
     "data": {
      "text/plain": [
       "array([ 4,  4,  7,  2,  4,  4,  2,  7,  4, 10,  4,  2,  7,  4,  2,  2,  4,\n",
       "        4,  4,  2,  4,  4, 14,  4,  4,  4,  4,  2,  4,  4,  2,  4,  4,  4,\n",
       "        4,  9,  4,  5,  2,  4,  4,  2,  4,  4,  4,  9,  4,  4,  3,  2,  4,\n",
       "        4,  4,  4,  4,  4,  2,  4,  9,  2, 21,  5,  8,  9,  2,  9,  2,  3,\n",
       "        4,  4,  4,  2,  4,  4,  4,  2,  4,  2,  4,  4], dtype=int64)"
      ]
     },
     "execution_count": 50,
     "metadata": {},
     "output_type": "execute_result"
    }
   ],
   "source": [
    "classifier.predict(y_test)"
   ]
  },
  {
   "cell_type": "code",
   "execution_count": 51,
   "id": "00aba8d1",
   "metadata": {},
   "outputs": [
    {
     "name": "stderr",
     "output_type": "stream",
     "text": [
      "C:\\Users\\rcmlp.12\\Anaconda3\\lib\\site-packages\\sklearn\\base.py:493: FutureWarning: The feature names should match those that were passed during fit. Starting version 1.2, an error will be raised.\n",
      "Feature names unseen at fit time:\n",
      "- Inte\n",
      "Feature names seen at fit time, yet now missing:\n",
      "- Pirep\n",
      "\n",
      "  warnings.warn(message, FutureWarning)\n"
     ]
    },
    {
     "data": {
      "text/plain": [
       "array([ 4,  9,  2,  4, 30,  4,  4,  4,  4,  2,  4,  4,  4, 17, 10,  2,  4,\n",
       "        4,  4,  4, 14, 14,  4,  2,  5,  4,  4,  4,  4,  4,  2, 14, 10,  4,\n",
       "        4, 17,  2,  4,  4,  4,  4, 14, 12,  2,  4,  4,  4,  4,  4, 10,  4,\n",
       "        4,  4,  7,  4, 12,  4, 14,  2,  4,  2,  4, 17,  4, 14,  4,  4,  4,\n",
       "        4,  2,  4,  4,  3,  4,  4,  2, 10,  4,  4,  4,  4,  4,  4,  3,  4,\n",
       "        2,  4,  4, 14,  4, 10,  4,  4,  4,  7, 19, 12,  2,  2, 23,  4,  4,\n",
       "       14,  4,  2,  4,  4,  8,  4, 12,  4,  4,  5, 14,  2,  4,  4,  4,  4,\n",
       "        4,  4,  4,  4, 14,  2,  6,  4,  4,  4,  4,  4,  4,  2,  4,  4,  4,\n",
       "        4,  4,  5,  4,  2,  4,  4,  4,  4,  7,  4,  3,  5, 12,  7,  2,  4,\n",
       "        4, 10,  4,  4, 23,  4,  2], dtype=int64)"
      ]
     },
     "execution_count": 51,
     "metadata": {},
     "output_type": "execute_result"
    }
   ],
   "source": [
    "classifier.predict(y_train)"
   ]
  },
  {
   "cell_type": "code",
   "execution_count": null,
   "id": "6c1f64c6",
   "metadata": {},
   "outputs": [],
   "source": []
  }
 ],
 "metadata": {
  "kernelspec": {
   "display_name": "Python 3",
   "language": "python",
   "name": "python3"
  },
  "language_info": {
   "codemirror_mode": {
    "name": "ipython",
    "version": 3
   },
   "file_extension": ".py",
   "mimetype": "text/x-python",
   "name": "python",
   "nbconvert_exporter": "python",
   "pygments_lexer": "ipython3",
   "version": "3.8.8"
  }
 },
 "nbformat": 4,
 "nbformat_minor": 5
}
