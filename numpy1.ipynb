{
 "cells": [
  {
   "cell_type": "code",
   "execution_count": 12,
   "id": "68f9a836",
   "metadata": {},
   "outputs": [],
   "source": [
    "import numpy as np"
   ]
  },
  {
   "cell_type": "code",
   "execution_count": 13,
   "id": "bea3f1ce",
   "metadata": {},
   "outputs": [],
   "source": [
    "speed=[23,25,85,95,74,74,74,74,75]"
   ]
  },
  {
   "cell_type": "code",
   "execution_count": 14,
   "id": "02107f8a",
   "metadata": {},
   "outputs": [],
   "source": [
    "x=np.mean(speed)"
   ]
  },
  {
   "cell_type": "code",
   "execution_count": 15,
   "id": "15ae8ed4",
   "metadata": {},
   "outputs": [
    {
     "data": {
      "text/plain": [
       "66.55555555555556"
      ]
     },
     "execution_count": 15,
     "metadata": {},
     "output_type": "execute_result"
    }
   ],
   "source": [
    "x"
   ]
  },
  {
   "cell_type": "code",
   "execution_count": 16,
   "id": "d121a387",
   "metadata": {},
   "outputs": [],
   "source": [
    "z=np.median(speed)"
   ]
  },
  {
   "cell_type": "code",
   "execution_count": 17,
   "id": "b7911913",
   "metadata": {},
   "outputs": [
    {
     "data": {
      "text/plain": [
       "74.0"
      ]
     },
     "execution_count": 17,
     "metadata": {},
     "output_type": "execute_result"
    }
   ],
   "source": [
    "z"
   ]
  },
  {
   "cell_type": "code",
   "execution_count": 18,
   "id": "ac7a7743",
   "metadata": {},
   "outputs": [],
   "source": [
    "from scipy import stats"
   ]
  },
  {
   "cell_type": "code",
   "execution_count": 19,
   "id": "8c642c32",
   "metadata": {},
   "outputs": [],
   "source": [
    "m=stats.mode(speed)"
   ]
  },
  {
   "cell_type": "code",
   "execution_count": 20,
   "id": "a9b7b165",
   "metadata": {},
   "outputs": [
    {
     "data": {
      "text/plain": [
       "ModeResult(mode=array([74]), count=array([4]))"
      ]
     },
     "execution_count": 20,
     "metadata": {},
     "output_type": "execute_result"
    }
   ],
   "source": [
    "m"
   ]
  },
  {
   "cell_type": "code",
   "execution_count": 22,
   "id": "bf5e5a0e",
   "metadata": {},
   "outputs": [],
   "source": [
    "n=np.std(speed)"
   ]
  },
  {
   "cell_type": "code",
   "execution_count": 23,
   "id": "cc7b8b9c",
   "metadata": {},
   "outputs": [
    {
     "data": {
      "text/plain": [
       "23.72579988634553"
      ]
     },
     "execution_count": 23,
     "metadata": {},
     "output_type": "execute_result"
    }
   ],
   "source": [
    "n"
   ]
  },
  {
   "cell_type": "code",
   "execution_count": 29,
   "id": "b862e721",
   "metadata": {},
   "outputs": [],
   "source": [
    "p=np.percentile(speed,10)"
   ]
  },
  {
   "cell_type": "code",
   "execution_count": 30,
   "id": "c8514cb5",
   "metadata": {},
   "outputs": [
    {
     "data": {
      "text/plain": [
       "24.6"
      ]
     },
     "execution_count": 30,
     "metadata": {},
     "output_type": "execute_result"
    }
   ],
   "source": [
    "p"
   ]
  },
  {
   "cell_type": "code",
   "execution_count": 36,
   "id": "fac27fca",
   "metadata": {},
   "outputs": [],
   "source": [
    "x=np.random.uniform(0.0,5.0,250)"
   ]
  },
  {
   "cell_type": "code",
   "execution_count": 37,
   "id": "c78ed043",
   "metadata": {},
   "outputs": [
    {
     "data": {
      "text/plain": [
       "array([4.46188521, 2.82707096, 3.5512729 , 2.45741286, 3.21867466,\n",
       "       0.26573024, 3.69829111, 0.49798153, 4.88639652, 1.38219421,\n",
       "       4.72488043, 1.40200436, 3.7207279 , 3.34238628, 4.35566316,\n",
       "       2.54380426, 1.71367622, 0.36572447, 4.14007675, 2.23550612,\n",
       "       0.78075003, 0.98039734, 3.28125819, 2.99531579, 1.50843965,\n",
       "       1.34504849, 2.86311096, 3.54991025, 0.84512573, 3.78529065,\n",
       "       2.91490316, 3.83615597, 2.68874458, 1.17759505, 0.48142339,\n",
       "       2.79232761, 3.17158267, 4.48231096, 4.24797382, 3.86238146,\n",
       "       3.96178709, 2.37185869, 2.8760107 , 0.97781018, 4.05336383,\n",
       "       1.10134023, 2.52226041, 1.89701394, 1.09574252, 1.35994763,\n",
       "       0.61373128, 3.69952226, 3.63462566, 3.85042075, 3.93823473,\n",
       "       4.70978623, 4.88451702, 4.03993801, 2.17247993, 2.70969585,\n",
       "       0.7676556 , 1.04030389, 2.75980486, 2.88767617, 3.96992369,\n",
       "       2.49201853, 1.96257546, 0.7723964 , 3.3333866 , 2.36435937,\n",
       "       1.18451998, 2.24799361, 0.45625692, 0.1931908 , 0.20566774,\n",
       "       0.97021536, 3.16184341, 0.61919505, 0.45613741, 4.44656602,\n",
       "       2.76937738, 2.17586654, 1.67550327, 4.89331008, 1.34096693,\n",
       "       0.39230126, 0.27633363, 2.20237516, 4.45007485, 2.49767161,\n",
       "       0.55820504, 1.31014319, 3.51394777, 2.50310493, 1.03715743,\n",
       "       4.21374912, 1.88423785, 0.53641797, 0.03602469, 1.27164487,\n",
       "       0.35109903, 1.41967027, 1.58557663, 0.90066076, 1.96541787,\n",
       "       1.71020113, 4.1299119 , 4.99572779, 3.03117901, 1.99638208,\n",
       "       4.18257898, 3.83607716, 4.54713734, 4.05426433, 1.22369838,\n",
       "       2.43168968, 0.07647213, 4.46917774, 3.28235861, 3.34186812,\n",
       "       3.19678265, 2.12827114, 3.13847548, 2.17694956, 2.7917561 ,\n",
       "       2.95844015, 2.67395863, 3.79397351, 3.41403041, 4.44713087,\n",
       "       3.14229899, 2.38498156, 2.96825641, 0.45807217, 0.65412432,\n",
       "       4.65034397, 0.53400697, 4.77634527, 4.62601749, 1.30870196,\n",
       "       4.36912742, 2.81548279, 2.68021641, 1.57602153, 2.66020638,\n",
       "       3.00829561, 4.27824595, 2.02412374, 3.94252641, 1.58809896,\n",
       "       1.95028128, 2.27973498, 4.0644865 , 1.56072206, 2.66818397,\n",
       "       3.34731905, 3.87706587, 0.75907887, 1.34808114, 0.42264423,\n",
       "       2.2055315 , 1.22906876, 3.86427279, 1.84641732, 0.57270472,\n",
       "       2.04522126, 3.61632929, 2.72544457, 1.54056964, 3.78897794,\n",
       "       4.53516427, 3.64707829, 2.53790866, 1.03644644, 1.6177485 ,\n",
       "       0.15227062, 2.5861208 , 4.29587968, 0.10770825, 4.47370339,\n",
       "       2.36028941, 1.65589161, 0.45111527, 1.89736686, 3.83450123,\n",
       "       1.46154015, 0.4358832 , 0.08574905, 0.15135475, 3.31302711,\n",
       "       4.27652583, 4.2129507 , 0.57444412, 4.49241838, 1.35269773,\n",
       "       0.97170263, 4.62928806, 0.27638951, 4.448832  , 4.93188969,\n",
       "       0.45676095, 1.97423065, 3.35010941, 1.81956102, 1.50864073,\n",
       "       0.12554441, 1.28786863, 3.80900923, 3.29503374, 1.14774772,\n",
       "       3.47016703, 2.53746917, 1.21906755, 1.36174411, 4.98085095,\n",
       "       2.97507917, 2.51022146, 1.62751002, 3.13546261, 2.29436665,\n",
       "       3.17049485, 0.38596794, 0.53546255, 2.10595944, 3.96157801,\n",
       "       4.85900611, 1.07728719, 2.31457564, 0.19854465, 1.72859149,\n",
       "       0.03922072, 2.17708823, 1.3060182 , 1.46060701, 1.64537939,\n",
       "       0.81266719, 0.50270281, 4.90174969, 3.48396031, 0.85541592,\n",
       "       2.37362086, 2.32825563, 0.50096889, 1.44524904, 4.23164156,\n",
       "       0.61061727, 2.12313581, 4.84750274, 4.63192601, 1.25669081])"
      ]
     },
     "execution_count": 37,
     "metadata": {},
     "output_type": "execute_result"
    }
   ],
   "source": [
    "x"
   ]
  },
  {
   "cell_type": "code",
   "execution_count": 40,
   "id": "87ae0e77",
   "metadata": {},
   "outputs": [
    {
     "data": {
      "application/javascript": [
       "\n",
       "        if (window._pyforest_update_imports_cell) { window._pyforest_update_imports_cell('import matplotlib.pyplot as plt'); }\n",
       "    "
      ],
      "text/plain": [
       "<IPython.core.display.Javascript object>"
      ]
     },
     "metadata": {},
     "output_type": "display_data"
    },
    {
     "data": {
      "text/plain": [
       "(array([51., 55., 55., 46., 43.]),\n",
       " array([0.03602469, 1.02796531, 2.01990593, 3.01184655, 4.00378717,\n",
       "        4.99572779]),\n",
       " <BarContainer object of 5 artists>)"
      ]
     },
     "execution_count": 40,
     "metadata": {},
     "output_type": "execute_result"
    },
    {
     "data": {
      "image/png": "[encoded data removed]",
      "text/plain": [
       "<Figure size 432x288 with 1 Axes>"
      ]
     },
     "metadata": {
      "needs_background": "light"
     },
     "output_type": "display_data"
    }
   ],
   "source": [
    "plt.hist(x,5)"
   ]
  },
  {
   "cell_type": "code",
   "execution_count": 48,
   "id": "4ceb5cb5",
   "metadata": {},
   "outputs": [],
   "source": []
  },
  {
   "cell_type": "code",
   "execution_count": 49,
   "id": "03384dea",
   "metadata": {},
   "outputs": [],
   "source": []
  },
  {
   "cell_type": "code",
   "execution_count": 52,
   "id": "163cee8c",
   "metadata": {},
   "outputs": [],
   "source": [
    "import matplotlib.pyplot as plt"
   ]
  },
  {
   "cell_type": "code",
   "execution_count": 53,
   "id": "87ddd32a",
   "metadata": {},
   "outputs": [],
   "source": [
    "x=[26,25,85,95,105,120]"
   ]
  },
  {
   "cell_type": "code",
   "execution_count": 57,
   "id": "a59ff358",
   "metadata": {},
   "outputs": [],
   "source": [
    "y=[86,95,84,75,420,480]"
   ]
  },
  {
   "cell_type": "code",
   "execution_count": 58,
   "id": "9ac94a0d",
   "metadata": {},
   "outputs": [
    {
     "data": {
      "text/plain": [
       "<matplotlib.collections.PathCollection at 0x1f175c982e0>"
      ]
     },
     "execution_count": 58,
     "metadata": {},
     "output_type": "execute_result"
    },
    {
     "data": {
      "image/png": "[encoded data removed]",
      "text/plain": [
       "<Figure size 432x288 with 1 Axes>"
      ]
     },
     "metadata": {
      "needs_background": "light"
     },
     "output_type": "display_data"
    }
   ],
   "source": [
    "plt.scatter(x,y)"
   ]
  },
  {
   "cell_type": "code",
   "execution_count": 59,
   "id": "b3247348",
   "metadata": {},
   "outputs": [
    {
     "data": {
      "image/png": "[encoded data removed]",
      "text/plain": [
       "<Figure size 432x288 with 1 Axes>"
      ]
     },
     "metadata": {
      "needs_background": "light"
     },
     "output_type": "display_data"
    }
   ],
   "source": [
    "import matplotlib.pyplot as plt\n",
    "from scipy import stats\n",
    "\n",
    "x = [5,7,8,7,2,17,2,9,4,11,12,9,6]\n",
    "y = [99,86,87,88,111,86,103,87,94,78,77,85,86]\n",
    "\n",
    "slope, intercept, r, p, std_err = stats.linregress(x, y)\n",
    "\n",
    "def myfunc(x):\n",
    "  return slope * x + intercept\n",
    "\n",
    "mymodel = list(map(myfunc, x))\n",
    "\n",
    "plt.scatter(x, y)\n",
    "plt.plot(x, mymodel)\n",
    "plt.show()"
   ]
  },
  {
   "cell_type": "code",
   "execution_count": null,
   "id": "bbbeea9e",
   "metadata": {},
   "outputs": [],
   "source": []
  }
 ],
 "metadata": {
  "kernelspec": {
   "display_name": "Python 3",
   "language": "python",
   "name": "python3"
  },
  "language_info": {
   "codemirror_mode": {
    "name": "ipython",
    "version": 3
   },
   "file_extension": ".py",
   "mimetype": "text/x-python",
   "name": "python",
   "nbconvert_exporter": "python",
   "pygments_lexer": "ipython3",
   "version": "3.8.8"
  }
 },
 "nbformat": 4,
 "nbformat_minor": 5
}
