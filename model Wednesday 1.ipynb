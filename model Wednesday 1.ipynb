{
 "cells": [
  {
   "cell_type": "code",
   "execution_count": 1,
   "id": "8883459d",
   "metadata": {},
   "outputs": [],
   "source": [
    "import warnings"
   ]
  },
  {
   "cell_type": "code",
   "execution_count": 2,
   "id": "279fe9b4",
   "metadata": {},
   "outputs": [],
   "source": [
    "import pandas as pd"
   ]
  },
  {
   "cell_type": "code",
   "execution_count": 3,
   "id": "9a0118c2",
   "metadata": {},
   "outputs": [],
   "source": [
    "import numpy as np"
   ]
  },
  {
   "cell_type": "code",
   "execution_count": 4,
   "id": "f1ccebce",
   "metadata": {},
   "outputs": [],
   "source": [
    "import seaborn as sns"
   ]
  },
  {
   "cell_type": "code",
   "execution_count": 5,
   "id": "e379eb25",
   "metadata": {},
   "outputs": [],
   "source": [
    "import matplotlib.pyplot as plt"
   ]
  },
  {
   "cell_type": "code",
   "execution_count": 6,
   "id": "dee49c05",
   "metadata": {},
   "outputs": [],
   "source": [
    "import statsmodels.api as sm"
   ]
  },
  {
   "cell_type": "code",
   "execution_count": 7,
   "id": "320cd8b0",
   "metadata": {},
   "outputs": [],
   "source": [
    "%matplotlib inline"
   ]
  },
  {
   "cell_type": "code",
   "execution_count": 8,
   "id": "045daff2",
   "metadata": {},
   "outputs": [],
   "source": [
    "from math import sqrt"
   ]
  },
  {
   "cell_type": "code",
   "execution_count": 11,
   "id": "f5d8ce39",
   "metadata": {},
   "outputs": [],
   "source": [
    "from sklearn.metrics import mean_squared_error"
   ]
  },
  {
   "cell_type": "code",
   "execution_count": 12,
   "id": "a184ba4f",
   "metadata": {},
   "outputs": [],
   "source": [
    "from matplotlib.pylab import rcParams"
   ]
  },
  {
   "cell_type": "code",
   "execution_count": 13,
   "id": "d74b2abe",
   "metadata": {},
   "outputs": [
    {
     "ename": "ModuleNotFoundError",
     "evalue": "No module named 'xgboost'",
     "output_type": "error",
     "traceback": [
      "\u001b[1;31m---------------------------------------------------------------------------\u001b[0m",
      "\u001b[1;31mModuleNotFoundError\u001b[0m                       Traceback (most recent call last)",
      "\u001b[1;32m<ipython-input-13-2c02f0670723>\u001b[0m in \u001b[0;36m<module>\u001b[1;34m\u001b[0m\n\u001b[1;32m----> 1\u001b[1;33m \u001b[1;32mfrom\u001b[0m \u001b[0mxgboost\u001b[0m \u001b[1;32mimport\u001b[0m \u001b[0mXGBRegressor\u001b[0m\u001b[1;33m\u001b[0m\u001b[1;33m\u001b[0m\u001b[0m\n\u001b[0m",
      "\u001b[1;31mModuleNotFoundError\u001b[0m: No module named 'xgboost'"
     ]
    }
   ],
   "source": [
    "from xgboost import XGBRegressor"
   ]
  },
  {
   "cell_type": "code",
   "execution_count": 14,
   "id": "34d6cf16",
   "metadata": {},
   "outputs": [
    {
     "name": "stdout",
     "output_type": "stream",
     "text": [
      "Collecting package metadata (current_repodata.json): ...working... done\n",
      "Solving environment: ...working... done\n",
      "\n",
      "## Package Plan ##\n",
      "\n",
      "  environment location: C:\\Users\\rcmlp.12\\Anaconda3\n",
      "\n",
      "  added / updated specs:\n",
      "    - xgboost\n",
      "\n",
      "\n",
      "The following packages will be downloaded:\n",
      "\n",
      "    package                    |            build\n",
      "    ---------------------------|-----------------\n",
      "    _py-xgboost-mutex-2.0      |            cpu_0          11 KB  conda-forge\n",
      "    ca-certificates-2021.10.8  |       h5b45459_0         176 KB  conda-forge\n",
      "    certifi-2021.10.8          |   py38haa244fe_1         145 KB  conda-forge\n",
      "    conda-4.11.0               |   py38haa244fe_0        16.9 MB  conda-forge\n",
      "    libxgboost-1.5.1           |       h0e60522_0         2.3 MB  conda-forge\n",
      "    openssl-1.1.1l             |       h8ffe710_0         5.7 MB  conda-forge\n",
      "    py-xgboost-1.5.1           |   py38haa244fe_0         151 KB  conda-forge\n",
      "    python_abi-3.8             |           2_cp38           4 KB  conda-forge\n",
      "    xgboost-1.5.1              |   py38haa244fe_0          12 KB  conda-forge\n",
      "    ------------------------------------------------------------\n",
      "                                           Total:        25.4 MB\n",
      "\n",
      "The following NEW packages will be INSTALLED:\n",
      "\n",
      "  _py-xgboost-mutex  conda-forge/win-64::_py-xgboost-mutex-2.0-cpu_0\n",
      "  libxgboost         conda-forge/win-64::libxgboost-1.5.1-h0e60522_0\n",
      "  py-xgboost         conda-forge/win-64::py-xgboost-1.5.1-py38haa244fe_0\n",
      "  python_abi         conda-forge/win-64::python_abi-3.8-2_cp38\n",
      "  xgboost            conda-forge/win-64::xgboost-1.5.1-py38haa244fe_0\n",
      "\n",
      "The following packages will be UPDATED:\n",
      "\n",
      "  certifi            pkgs/main::certifi-2021.10.8-py38haa9~ --> conda-forge::certifi-2021.10.8-py38haa244fe_1\n",
      "  conda              pkgs/main::conda-4.10.3-py38haa95532_0 --> conda-forge::conda-4.11.0-py38haa244fe_0\n",
      "\n",
      "The following packages will be SUPERSEDED by a higher-priority channel:\n",
      "\n",
      "  ca-certificates    pkgs/main::ca-certificates-2021.10.26~ --> conda-forge::ca-certificates-2021.10.8-h5b45459_0\n",
      "  openssl              pkgs/main::openssl-1.1.1l-h2bbff1b_0 --> conda-forge::openssl-1.1.1l-h8ffe710_0\n",
      "\n",
      "\n",
      "\n",
      "Downloading and Extracting Packages\n",
      "\n",
      "ca-certificates-2021 | 176 KB    |            |   0% \n",
      "ca-certificates-2021 | 176 KB    | ########## | 100% \n",
      "ca-certificates-2021 | 176 KB    | ########## | 100% \n",
      "\n",
      "xgboost-1.5.1        | 12 KB     |            |   0% \n",
      "xgboost-1.5.1        | 12 KB     | ########## | 100% \n",
      "xgboost-1.5.1        | 12 KB     | ########## | 100% \n",
      "\n",
      "openssl-1.1.1l       | 5.7 MB    |            |   0% \n",
      "openssl-1.1.1l       | 5.7 MB    | #1         |  11% \n",
      "openssl-1.1.1l       | 5.7 MB    | ###2       |  32% \n",
      "openssl-1.1.1l       | 5.7 MB    | ####8      |  48% \n",
      "openssl-1.1.1l       | 5.7 MB    | ######3    |  64% \n",
      "openssl-1.1.1l       | 5.7 MB    | ########1  |  81% \n",
      "openssl-1.1.1l       | 5.7 MB    | #########7 |  98% \n",
      "openssl-1.1.1l       | 5.7 MB    | ########## | 100% \n",
      "\n",
      "py-xgboost-1.5.1     | 151 KB    |            |   0% \n",
      "py-xgboost-1.5.1     | 151 KB    | #          |  11% \n",
      "py-xgboost-1.5.1     | 151 KB    | ########## | 100% \n",
      "py-xgboost-1.5.1     | 151 KB    | ########## | 100% \n",
      "\n",
      "python_abi-3.8       | 4 KB      |            |   0% \n",
      "python_abi-3.8       | 4 KB      | ########## | 100% \n",
      "python_abi-3.8       | 4 KB      | ########## | 100% \n",
      "\n",
      "_py-xgboost-mutex-2. | 11 KB     |            |   0% \n",
      "_py-xgboost-mutex-2. | 11 KB     | ########## | 100% \n",
      "_py-xgboost-mutex-2. | 11 KB     | ########## | 100% \n",
      "\n",
      "conda-4.11.0         | 16.9 MB   |            |   0% \n",
      "conda-4.11.0         | 16.9 MB   | 2          |   3% \n",
      "conda-4.11.0         | 16.9 MB   | 8          |   9% \n",
      "conda-4.11.0         | 16.9 MB   | #5         |  16% \n",
      "conda-4.11.0         | 16.9 MB   | ##1        |  21% \n",
      "conda-4.11.0         | 16.9 MB   | ##7        |  28% \n",
      "conda-4.11.0         | 16.9 MB   | ###6       |  36% \n",
      "conda-4.11.0         | 16.9 MB   | ####3      |  43% \n",
      "conda-4.11.0         | 16.9 MB   | #####      |  51% \n",
      "conda-4.11.0         | 16.9 MB   | #####7     |  57% \n",
      "conda-4.11.0         | 16.9 MB   | ######3    |  64% \n",
      "conda-4.11.0         | 16.9 MB   | #######    |  70% \n",
      "conda-4.11.0         | 16.9 MB   | #######6   |  77% \n",
      "conda-4.11.0         | 16.9 MB   | ########3  |  84% \n",
      "conda-4.11.0         | 16.9 MB   | #########  |  90% \n",
      "conda-4.11.0         | 16.9 MB   | #########6 |  96% \n",
      "conda-4.11.0         | 16.9 MB   | ########## | 100% \n",
      "\n",
      "certifi-2021.10.8    | 145 KB    |            |   0% \n",
      "certifi-2021.10.8    | 145 KB    | ###3       |  33% \n",
      "certifi-2021.10.8    | 145 KB    | ########## | 100% \n",
      "certifi-2021.10.8    | 145 KB    | ########## | 100% \n",
      "\n",
      "libxgboost-1.5.1     | 2.3 MB    |            |   0% \n",
      "libxgboost-1.5.1     | 2.3 MB    | #5         |  16% \n",
      "libxgboost-1.5.1     | 2.3 MB    | ####6      |  47% \n",
      "libxgboost-1.5.1     | 2.3 MB    | #######6   |  77% \n",
      "libxgboost-1.5.1     | 2.3 MB    | ########## | 100% \n",
      "Preparing transaction: ...working... done\n",
      "Verifying transaction: ...working... done\n",
      "Executing transaction: ...working... done\n",
      "\n",
      "Note: you may need to restart the kernel to use updated packages.\n"
     ]
    },
    {
     "name": "stderr",
     "output_type": "stream",
     "text": [
      "\n",
      "\n",
      "==> WARNING: A newer version of conda exists. <==\n",
      "  current version: 4.10.3\n",
      "  latest version: 4.11.0\n",
      "\n",
      "Please update conda by running\n",
      "\n",
      "    $ conda update -n base -c defaults conda\n",
      "\n",
      "\n"
     ]
    }
   ],
   "source": [
    "conda install -c conda-forge xgboost"
   ]
  },
  {
   "cell_type": "code",
   "execution_count": 20,
   "id": "f10e5f73",
   "metadata": {},
   "outputs": [
    {
     "name": "stdout",
     "output_type": "stream",
     "text": [
      "Requirement already satisfied: scikit-learn in c:\\users\\rcmlp.12\\anaconda3\\lib\\site-packages (1.0.2)\n",
      "Requirement already satisfied: numpy>=1.14.6 in c:\\users\\rcmlp.12\\anaconda3\\lib\\site-packages (from scikit-learn) (1.20.1)\n",
      "Requirement already satisfied: joblib>=0.11 in c:\\users\\rcmlp.12\\anaconda3\\lib\\site-packages (from scikit-learn) (1.0.1)\n",
      "Requirement already satisfied: scipy>=1.1.0 in c:\\users\\rcmlp.12\\anaconda3\\lib\\site-packages (from scikit-learn) (1.6.2)\n",
      "Requirement already satisfied: threadpoolctl>=2.0.0 in c:\\users\\rcmlp.12\\anaconda3\\lib\\site-packages (from scikit-learn) (2.1.0)\n",
      "Note: you may need to restart the kernel to use updated packages.\n"
     ]
    }
   ],
   "source": [
    "pip install -U scikit-learn"
   ]
  },
  {
   "cell_type": "code",
   "execution_count": 21,
   "id": "dea39926",
   "metadata": {},
   "outputs": [],
   "source": [
    "from xgboost import XGBRegressor"
   ]
  },
  {
   "cell_type": "code",
   "execution_count": 22,
   "id": "15186955",
   "metadata": {},
   "outputs": [],
   "source": [
    "from xgboost import XGBRFRegressor"
   ]
  },
  {
   "cell_type": "code",
   "execution_count": 23,
   "id": "2fee33c6",
   "metadata": {},
   "outputs": [],
   "source": [
    "from sklearn.model_selection import GridSearchCV"
   ]
  },
  {
   "cell_type": "code",
   "execution_count": 24,
   "id": "818662d5",
   "metadata": {},
   "outputs": [],
   "source": [
    "from xgboost import plot_importance, plot_tree"
   ]
  },
  {
   "cell_type": "code",
   "execution_count": 25,
   "id": "89982786",
   "metadata": {},
   "outputs": [],
   "source": [
    "plt.style.use('fivethirtyeight')"
   ]
  },
  {
   "cell_type": "code",
   "execution_count": 26,
   "id": "828a447f",
   "metadata": {},
   "outputs": [],
   "source": [
    "import warnings"
   ]
  },
  {
   "cell_type": "code",
   "execution_count": 27,
   "id": "0ee12e45",
   "metadata": {},
   "outputs": [],
   "source": [
    "warnings.filterwarnings(\"ignore\")"
   ]
  },
  {
   "cell_type": "code",
   "execution_count": 29,
   "id": "a29ffaba",
   "metadata": {},
   "outputs": [],
   "source": [
    "df= pd.read_excel(\"C:\\\\Users\\\\rcmlp.12\\\\Desktop\\\\models hypertune\\\\Second_thursday_plan.xlsx\")\n"
   ]
  },
  {
   "cell_type": "code",
   "execution_count": 35,
   "id": "258f346e",
   "metadata": {},
   "outputs": [
    {
     "data": {
      "text/html": [
       "<div>\n",
       "<style scoped>\n",
       "    .dataframe tbody tr th:only-of-type {\n",
       "        vertical-align: middle;\n",
       "    }\n",
       "\n",
       "    .dataframe tbody tr th {\n",
       "        vertical-align: top;\n",
       "    }\n",
       "\n",
       "    .dataframe thead th {\n",
       "        text-align: right;\n",
       "    }\n",
       "</style>\n",
       "<table border=\"1\" class=\"dataframe\">\n",
       "  <thead>\n",
       "    <tr style=\"text-align: right;\">\n",
       "      <th></th>\n",
       "      <th>DT</th>\n",
       "      <th>PIREP</th>\n",
       "      <th>OOS</th>\n",
       "      <th>CR</th>\n",
       "      <th>INT</th>\n",
       "      <th>Unnamed: 5</th>\n",
       "      <th>Unnamed: 6</th>\n",
       "      <th>Unnamed: 7</th>\n",
       "      <th>Unnamed: 8</th>\n",
       "      <th>Unnamed: 9</th>\n",
       "      <th>...</th>\n",
       "      <th>Unnamed: 179</th>\n",
       "      <th>Unnamed: 180</th>\n",
       "      <th>Unnamed: 181</th>\n",
       "      <th>Unnamed: 182</th>\n",
       "      <th>Unnamed: 183</th>\n",
       "      <th>Unnamed: 184</th>\n",
       "      <th>Unnamed: 185</th>\n",
       "      <th>Unnamed: 186</th>\n",
       "      <th>Unnamed: 187</th>\n",
       "      <th>Unnamed: 188</th>\n",
       "    </tr>\n",
       "  </thead>\n",
       "  <tbody>\n",
       "    <tr>\n",
       "      <th>0</th>\n",
       "      <td>202101</td>\n",
       "      <td>18</td>\n",
       "      <td>NaN</td>\n",
       "      <td>6</td>\n",
       "      <td>1</td>\n",
       "      <td>NaN</td>\n",
       "      <td>NaN</td>\n",
       "      <td>NaN</td>\n",
       "      <td>NaN</td>\n",
       "      <td>NaN</td>\n",
       "      <td>...</td>\n",
       "      <td>NaN</td>\n",
       "      <td>NaN</td>\n",
       "      <td>NaN</td>\n",
       "      <td>NaN</td>\n",
       "      <td>NaN</td>\n",
       "      <td>NaN</td>\n",
       "      <td>NaN</td>\n",
       "      <td>NaN</td>\n",
       "      <td>NaN</td>\n",
       "      <td>NaN</td>\n",
       "    </tr>\n",
       "    <tr>\n",
       "      <th>1</th>\n",
       "      <td>202101</td>\n",
       "      <td>10</td>\n",
       "      <td>96.0</td>\n",
       "      <td>22</td>\n",
       "      <td>1</td>\n",
       "      <td>NaN</td>\n",
       "      <td>NaN</td>\n",
       "      <td>NaN</td>\n",
       "      <td>NaN</td>\n",
       "      <td>NaN</td>\n",
       "      <td>...</td>\n",
       "      <td>NaN</td>\n",
       "      <td>NaN</td>\n",
       "      <td>NaN</td>\n",
       "      <td>NaN</td>\n",
       "      <td>NaN</td>\n",
       "      <td>NaN</td>\n",
       "      <td>NaN</td>\n",
       "      <td>NaN</td>\n",
       "      <td>NaN</td>\n",
       "      <td>NaN</td>\n",
       "    </tr>\n",
       "    <tr>\n",
       "      <th>2</th>\n",
       "      <td>202101</td>\n",
       "      <td>19</td>\n",
       "      <td>17.0</td>\n",
       "      <td>17</td>\n",
       "      <td>2</td>\n",
       "      <td>NaN</td>\n",
       "      <td>NaN</td>\n",
       "      <td>NaN</td>\n",
       "      <td>NaN</td>\n",
       "      <td>NaN</td>\n",
       "      <td>...</td>\n",
       "      <td>NaN</td>\n",
       "      <td>NaN</td>\n",
       "      <td>NaN</td>\n",
       "      <td>NaN</td>\n",
       "      <td>NaN</td>\n",
       "      <td>NaN</td>\n",
       "      <td>NaN</td>\n",
       "      <td>NaN</td>\n",
       "      <td>NaN</td>\n",
       "      <td>NaN</td>\n",
       "    </tr>\n",
       "    <tr>\n",
       "      <th>3</th>\n",
       "      <td>202101</td>\n",
       "      <td>20</td>\n",
       "      <td>57.0</td>\n",
       "      <td>12</td>\n",
       "      <td>1</td>\n",
       "      <td>NaN</td>\n",
       "      <td>NaN</td>\n",
       "      <td>NaN</td>\n",
       "      <td>NaN</td>\n",
       "      <td>NaN</td>\n",
       "      <td>...</td>\n",
       "      <td>NaN</td>\n",
       "      <td>NaN</td>\n",
       "      <td>NaN</td>\n",
       "      <td>NaN</td>\n",
       "      <td>NaN</td>\n",
       "      <td>NaN</td>\n",
       "      <td>NaN</td>\n",
       "      <td>NaN</td>\n",
       "      <td>NaN</td>\n",
       "      <td>NaN</td>\n",
       "    </tr>\n",
       "    <tr>\n",
       "      <th>4</th>\n",
       "      <td>202101</td>\n",
       "      <td>23</td>\n",
       "      <td>17.0</td>\n",
       "      <td>12</td>\n",
       "      <td>3</td>\n",
       "      <td>NaN</td>\n",
       "      <td>NaN</td>\n",
       "      <td>NaN</td>\n",
       "      <td>NaN</td>\n",
       "      <td>NaN</td>\n",
       "      <td>...</td>\n",
       "      <td>NaN</td>\n",
       "      <td>NaN</td>\n",
       "      <td>NaN</td>\n",
       "      <td>NaN</td>\n",
       "      <td>NaN</td>\n",
       "      <td>NaN</td>\n",
       "      <td>NaN</td>\n",
       "      <td>NaN</td>\n",
       "      <td>NaN</td>\n",
       "      <td>NaN</td>\n",
       "    </tr>\n",
       "  </tbody>\n",
       "</table>\n",
       "<p>5 rows × 189 columns</p>\n",
       "</div>"
      ],
      "text/plain": [
       "       DT  PIREP   OOS  CR  INT    Unnamed: 5  Unnamed: 6  Unnamed: 7  \\\n",
       "0  202101     18   NaN   6      1         NaN         NaN         NaN   \n",
       "1  202101     10  96.0  22      1         NaN         NaN         NaN   \n",
       "2  202101     19  17.0  17      2         NaN         NaN         NaN   \n",
       "3  202101     20  57.0  12      1         NaN         NaN         NaN   \n",
       "4  202101     23  17.0  12      3         NaN         NaN         NaN   \n",
       "\n",
       "   Unnamed: 8  Unnamed: 9  ...  Unnamed: 179  Unnamed: 180  Unnamed: 181  \\\n",
       "0         NaN         NaN  ...           NaN           NaN           NaN   \n",
       "1         NaN         NaN  ...           NaN           NaN           NaN   \n",
       "2         NaN         NaN  ...           NaN           NaN           NaN   \n",
       "3         NaN         NaN  ...           NaN           NaN           NaN   \n",
       "4         NaN         NaN  ...           NaN           NaN           NaN   \n",
       "\n",
       "   Unnamed: 182  Unnamed: 183  Unnamed: 184  Unnamed: 185  Unnamed: 186  \\\n",
       "0           NaN           NaN           NaN           NaN           NaN   \n",
       "1           NaN           NaN           NaN           NaN           NaN   \n",
       "2           NaN           NaN           NaN           NaN           NaN   \n",
       "3           NaN           NaN           NaN           NaN           NaN   \n",
       "4           NaN           NaN           NaN           NaN           NaN   \n",
       "\n",
       "   Unnamed: 187  Unnamed: 188  \n",
       "0           NaN           NaN  \n",
       "1           NaN           NaN  \n",
       "2           NaN           NaN  \n",
       "3           NaN           NaN  \n",
       "4           NaN           NaN  \n",
       "\n",
       "[5 rows x 189 columns]"
      ]
     },
     "execution_count": 35,
     "metadata": {},
     "output_type": "execute_result"
    }
   ],
   "source": [
    "df.head()"
   ]
  },
  {
   "cell_type": "code",
   "execution_count": 31,
   "id": "4f404dd5",
   "metadata": {},
   "outputs": [
    {
     "name": "stdout",
     "output_type": "stream",
     "text": [
      "                    DT     PIREP       OOS        CR     INT    Unnamed: 5  \\\n",
      "DT            1.000000  0.195545 -0.060440  0.179975  0.009300         NaN   \n",
      "PIREP         0.195545  1.000000 -0.008253  0.104708  0.283153         NaN   \n",
      "OOS          -0.060440 -0.008253  1.000000  0.056960  0.149175         NaN   \n",
      "CR            0.179975  0.104708  0.056960  1.000000  0.078342         NaN   \n",
      "INT           0.009300  0.283153  0.149175  0.078342  1.000000         NaN   \n",
      "...                ...       ...       ...       ...       ...         ...   \n",
      "Unnamed: 184       NaN       NaN       NaN       NaN       NaN         NaN   \n",
      "Unnamed: 185       NaN       NaN       NaN       NaN       NaN         NaN   \n",
      "Unnamed: 186       NaN       NaN       NaN       NaN       NaN         NaN   \n",
      "Unnamed: 187       NaN       NaN       NaN       NaN       NaN         NaN   \n",
      "Unnamed: 188       NaN       NaN       NaN       NaN       NaN         NaN   \n",
      "\n",
      "              Unnamed: 6  Unnamed: 7  Unnamed: 8  Unnamed: 9  ...  \\\n",
      "DT                   NaN         NaN         NaN         NaN  ...   \n",
      "PIREP                NaN         NaN         NaN         NaN  ...   \n",
      "OOS                  NaN         NaN         NaN         NaN  ...   \n",
      "CR                   NaN         NaN         NaN         NaN  ...   \n",
      "INT                  NaN         NaN         NaN         NaN  ...   \n",
      "...                  ...         ...         ...         ...  ...   \n",
      "Unnamed: 184         NaN         NaN         NaN         NaN  ...   \n",
      "Unnamed: 185         NaN         NaN         NaN         NaN  ...   \n",
      "Unnamed: 186         NaN         NaN         NaN         NaN  ...   \n",
      "Unnamed: 187         NaN         NaN         NaN         NaN  ...   \n",
      "Unnamed: 188         NaN         NaN         NaN         NaN  ...   \n",
      "\n",
      "              Unnamed: 179  Unnamed: 180  Unnamed: 181  Unnamed: 182  \\\n",
      "DT                     NaN           NaN           NaN           NaN   \n",
      "PIREP                  NaN           NaN           NaN           NaN   \n",
      "OOS                    NaN           NaN           NaN           NaN   \n",
      "CR                     NaN           NaN           NaN           NaN   \n",
      "INT                    NaN           NaN           NaN           NaN   \n",
      "...                    ...           ...           ...           ...   \n",
      "Unnamed: 184           NaN           NaN           NaN           NaN   \n",
      "Unnamed: 185           NaN           NaN           NaN           NaN   \n",
      "Unnamed: 186           NaN           NaN           NaN           NaN   \n",
      "Unnamed: 187           NaN           NaN           NaN           NaN   \n",
      "Unnamed: 188           NaN           NaN           NaN           NaN   \n",
      "\n",
      "              Unnamed: 183  Unnamed: 184  Unnamed: 185  Unnamed: 186  \\\n",
      "DT                     NaN           NaN           NaN           NaN   \n",
      "PIREP                  NaN           NaN           NaN           NaN   \n",
      "OOS                    NaN           NaN           NaN           NaN   \n",
      "CR                     NaN           NaN           NaN           NaN   \n",
      "INT                    NaN           NaN           NaN           NaN   \n",
      "...                    ...           ...           ...           ...   \n",
      "Unnamed: 184           NaN           NaN           NaN           NaN   \n",
      "Unnamed: 185           NaN           NaN           NaN           NaN   \n",
      "Unnamed: 186           NaN           NaN           NaN           NaN   \n",
      "Unnamed: 187           NaN           NaN           NaN           NaN   \n",
      "Unnamed: 188           NaN           NaN           NaN           NaN   \n",
      "\n",
      "              Unnamed: 187  Unnamed: 188  \n",
      "DT                     NaN           NaN  \n",
      "PIREP                  NaN           NaN  \n",
      "OOS                    NaN           NaN  \n",
      "CR                     NaN           NaN  \n",
      "INT                    NaN           NaN  \n",
      "...                    ...           ...  \n",
      "Unnamed: 184           NaN           NaN  \n",
      "Unnamed: 185           NaN           NaN  \n",
      "Unnamed: 186           NaN           NaN  \n",
      "Unnamed: 187           NaN           NaN  \n",
      "Unnamed: 188           NaN           NaN  \n",
      "\n",
      "[189 rows x 189 columns]\n"
     ]
    }
   ],
   "source": [
    "print(df.corr())"
   ]
  },
  {
   "cell_type": "code",
   "execution_count": 37,
   "id": "50c41a61",
   "metadata": {},
   "outputs": [],
   "source": [
    "df1=df.iloc[:,0:5]"
   ]
  },
  {
   "cell_type": "code",
   "execution_count": 38,
   "id": "f2d07c29",
   "metadata": {},
   "outputs": [
    {
     "data": {
      "text/html": [
       "<div>\n",
       "<style scoped>\n",
       "    .dataframe tbody tr th:only-of-type {\n",
       "        vertical-align: middle;\n",
       "    }\n",
       "\n",
       "    .dataframe tbody tr th {\n",
       "        vertical-align: top;\n",
       "    }\n",
       "\n",
       "    .dataframe thead th {\n",
       "        text-align: right;\n",
       "    }\n",
       "</style>\n",
       "<table border=\"1\" class=\"dataframe\">\n",
       "  <thead>\n",
       "    <tr style=\"text-align: right;\">\n",
       "      <th></th>\n",
       "      <th>DT</th>\n",
       "      <th>PIREP</th>\n",
       "      <th>OOS</th>\n",
       "      <th>CR</th>\n",
       "      <th>INT</th>\n",
       "    </tr>\n",
       "  </thead>\n",
       "  <tbody>\n",
       "    <tr>\n",
       "      <th>0</th>\n",
       "      <td>202101</td>\n",
       "      <td>18</td>\n",
       "      <td>NaN</td>\n",
       "      <td>6</td>\n",
       "      <td>1</td>\n",
       "    </tr>\n",
       "    <tr>\n",
       "      <th>1</th>\n",
       "      <td>202101</td>\n",
       "      <td>10</td>\n",
       "      <td>96.0</td>\n",
       "      <td>22</td>\n",
       "      <td>1</td>\n",
       "    </tr>\n",
       "    <tr>\n",
       "      <th>2</th>\n",
       "      <td>202101</td>\n",
       "      <td>19</td>\n",
       "      <td>17.0</td>\n",
       "      <td>17</td>\n",
       "      <td>2</td>\n",
       "    </tr>\n",
       "    <tr>\n",
       "      <th>3</th>\n",
       "      <td>202101</td>\n",
       "      <td>20</td>\n",
       "      <td>57.0</td>\n",
       "      <td>12</td>\n",
       "      <td>1</td>\n",
       "    </tr>\n",
       "    <tr>\n",
       "      <th>4</th>\n",
       "      <td>202101</td>\n",
       "      <td>23</td>\n",
       "      <td>17.0</td>\n",
       "      <td>12</td>\n",
       "      <td>3</td>\n",
       "    </tr>\n",
       "  </tbody>\n",
       "</table>\n",
       "</div>"
      ],
      "text/plain": [
       "       DT  PIREP   OOS  CR  INT  \n",
       "0  202101     18   NaN   6      1\n",
       "1  202101     10  96.0  22      1\n",
       "2  202101     19  17.0  17      2\n",
       "3  202101     20  57.0  12      1\n",
       "4  202101     23  17.0  12      3"
      ]
     },
     "execution_count": 38,
     "metadata": {},
     "output_type": "execute_result"
    }
   ],
   "source": [
    "df1.head()"
   ]
  },
  {
   "cell_type": "code",
   "execution_count": 40,
   "id": "8b2caf04",
   "metadata": {},
   "outputs": [
    {
     "data": {
      "image/png": "[encoded data removed]",
      "text/plain": [
       "<Figure size 576x576 with 2 Axes>"
      ]
     },
     "metadata": {},
     "output_type": "display_data"
    }
   ],
   "source": [
    "# HEATMAP TO CHECK MULTICOLINEARITY :: \n",
    "plt.figure(figsize=(8,8))\n",
    "dfplot = sns.heatmap(df1.corr(),  cmap=\"YlGnBu\", annot=True)\n",
    "plt.show()"
   ]
  },
  {
   "cell_type": "code",
   "execution_count": null,
   "id": "d12d3dc3",
   "metadata": {},
   "outputs": [],
   "source": []
  },
  {
   "cell_type": "code",
   "execution_count": null,
   "id": "6408504e",
   "metadata": {},
   "outputs": [],
   "source": []
  }
 ],
 "metadata": {
  "kernelspec": {
   "display_name": "Python 3",
   "language": "python",
   "name": "python3"
  },
  "language_info": {
   "codemirror_mode": {
    "name": "ipython",
    "version": 3
   },
   "file_extension": ".py",
   "mimetype": "text/x-python",
   "name": "python",
   "nbconvert_exporter": "python",
   "pygments_lexer": "ipython3",
   "version": "3.8.8"
  }
 },
 "nbformat": 4,
 "nbformat_minor": 5
}
