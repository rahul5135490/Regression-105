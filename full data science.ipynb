{
 "cells": [
  {
   "cell_type": "code",
   "execution_count": null,
   "id": "464c393f",
   "metadata": {},
   "outputs": [],
   "source": []
  },
  {
   "cell_type": "code",
   "execution_count": 551,
   "id": "4528df24",
   "metadata": {},
   "outputs": [],
   "source": [
    "import pandas as pd\n"
   ]
  },
  {
   "cell_type": "code",
   "execution_count": 552,
   "id": "976d4531",
   "metadata": {},
   "outputs": [],
   "source": [
    "import numpy as np"
   ]
  },
  {
   "cell_type": "code",
   "execution_count": 553,
   "id": "0ebd151a",
   "metadata": {},
   "outputs": [],
   "source": [
    "from sklearn import linear_model"
   ]
  },
  {
   "cell_type": "code",
   "execution_count": 554,
   "id": "ec0a041b",
   "metadata": {},
   "outputs": [],
   "source": [
    "df=pd.read_csv(\"homeprices.csv\")\n"
   ]
  },
  {
   "cell_type": "code",
   "execution_count": 555,
   "id": "4be908d0",
   "metadata": {},
   "outputs": [
    {
     "data": {
      "text/html": [
       "<div>\n",
       "<style scoped>\n",
       "    .dataframe tbody tr th:only-of-type {\n",
       "        vertical-align: middle;\n",
       "    }\n",
       "\n",
       "    .dataframe tbody tr th {\n",
       "        vertical-align: top;\n",
       "    }\n",
       "\n",
       "    .dataframe thead th {\n",
       "        text-align: right;\n",
       "    }\n",
       "</style>\n",
       "<table border=\"1\" class=\"dataframe\">\n",
       "  <thead>\n",
       "    <tr style=\"text-align: right;\">\n",
       "      <th></th>\n",
       "      <th>area</th>\n",
       "      <th>price</th>\n",
       "    </tr>\n",
       "  </thead>\n",
       "  <tbody>\n",
       "    <tr>\n",
       "      <th>0</th>\n",
       "      <td>2000</td>\n",
       "      <td>555000</td>\n",
       "    </tr>\n",
       "    <tr>\n",
       "      <th>1</th>\n",
       "      <td>3000</td>\n",
       "      <td>655000</td>\n",
       "    </tr>\n",
       "    <tr>\n",
       "      <th>2</th>\n",
       "      <td>4000</td>\n",
       "      <td>752364</td>\n",
       "    </tr>\n",
       "    <tr>\n",
       "      <th>3</th>\n",
       "      <td>5000</td>\n",
       "      <td>852654</td>\n",
       "    </tr>\n",
       "  </tbody>\n",
       "</table>\n",
       "</div>"
      ],
      "text/plain": [
       "   area   price\n",
       "0  2000  555000\n",
       "1  3000  655000\n",
       "2  4000  752364\n",
       "3  5000  852654"
      ]
     },
     "execution_count": 555,
     "metadata": {},
     "output_type": "execute_result"
    }
   ],
   "source": [
    "df=pd.read_csv(\"homeprices.csv\")\n",
    "df.head()"
   ]
  },
  {
   "cell_type": "code",
   "execution_count": 556,
   "id": "f0ee7894",
   "metadata": {},
   "outputs": [
    {
     "ename": "SyntaxError",
     "evalue": "unmatched ')' (<ipython-input-556-82252ff8187c>, line 2)",
     "output_type": "error",
     "traceback": [
      "\u001b[1;36m  File \u001b[1;32m\"<ipython-input-556-82252ff8187c>\"\u001b[1;36m, line \u001b[1;32m2\u001b[0m\n\u001b[1;33m    model.fit(df[\"area\"]),df.price)\u001b[0m\n\u001b[1;37m                                  ^\u001b[0m\n\u001b[1;31mSyntaxError\u001b[0m\u001b[1;31m:\u001b[0m unmatched ')'\n"
     ]
    }
   ],
   "source": [
    "model=linear_model.linearRegression()\n",
    "model.fit(df[\"area\"]),df.price)"
   ]
  },
  {
   "cell_type": "code",
   "execution_count": null,
   "id": "f8462fa3",
   "metadata": {},
   "outputs": [],
   "source": [
    "df.info()\n"
   ]
  },
  {
   "cell_type": "code",
   "execution_count": null,
   "id": "88737cd6",
   "metadata": {},
   "outputs": [],
   "source": []
  },
  {
   "cell_type": "code",
   "execution_count": null,
   "id": "fa210452",
   "metadata": {},
   "outputs": [],
   "source": []
  },
  {
   "cell_type": "code",
   "execution_count": null,
   "id": "dd3f20e9",
   "metadata": {},
   "outputs": [],
   "source": []
  },
  {
   "cell_type": "code",
   "execution_count": null,
   "id": "c147b3aa",
   "metadata": {},
   "outputs": [],
   "source": []
  },
  {
   "cell_type": "code",
   "execution_count": null,
   "id": "44fc025e",
   "metadata": {},
   "outputs": [],
   "source": []
  },
  {
   "cell_type": "code",
   "execution_count": null,
   "id": "def528c8",
   "metadata": {},
   "outputs": [],
   "source": []
  },
  {
   "cell_type": "code",
   "execution_count": 557,
   "id": "745b0c9a",
   "metadata": {},
   "outputs": [],
   "source": [
    "import pandas as pd"
   ]
  },
  {
   "cell_type": "code",
   "execution_count": 558,
   "id": "e9436c38",
   "metadata": {},
   "outputs": [],
   "source": [
    "df=pd.read_csv(\"weather.csv\")"
   ]
  },
  {
   "cell_type": "code",
   "execution_count": 559,
   "id": "997e7f5b",
   "metadata": {},
   "outputs": [],
   "source": [
    "import pandas as pd\n"
   ]
  },
  {
   "cell_type": "code",
   "execution_count": 560,
   "id": "83285df4",
   "metadata": {},
   "outputs": [],
   "source": [
    "import numpy as np"
   ]
  },
  {
   "cell_type": "code",
   "execution_count": 561,
   "id": "0ef38198",
   "metadata": {},
   "outputs": [],
   "source": [
    "from sklearn import linear_model"
   ]
  },
  {
   "cell_type": "code",
   "execution_count": 562,
   "id": "6f5081ec",
   "metadata": {},
   "outputs": [],
   "source": [
    "df=pd.read_csv(\"weather.csv\")"
   ]
  },
  {
   "cell_type": "code",
   "execution_count": 563,
   "id": "1aad8d01",
   "metadata": {},
   "outputs": [
    {
     "ename": "NameError",
     "evalue": "name 'weather' is not defined",
     "output_type": "error",
     "traceback": [
      "\u001b[1;31m---------------------------------------------------------------------------\u001b[0m",
      "\u001b[1;31mNameError\u001b[0m                                 Traceback (most recent call last)",
      "\u001b[1;32m<ipython-input-563-580cf3bfbc8a>\u001b[0m in \u001b[0;36m<module>\u001b[1;34m\u001b[0m\n\u001b[1;32m----> 1\u001b[1;33m \u001b[0mweather\u001b[0m\u001b[1;33m\u001b[0m\u001b[1;33m\u001b[0m\u001b[0m\n\u001b[0m",
      "\u001b[1;31mNameError\u001b[0m: name 'weather' is not defined"
     ]
    }
   ],
   "source": [
    "weather"
   ]
  },
  {
   "cell_type": "code",
   "execution_count": 564,
   "id": "e291480b",
   "metadata": {},
   "outputs": [
    {
     "data": {
      "text/plain": [
       "[2, 3, 3, 4, 5, 5, 5, 6]"
      ]
     },
     "execution_count": 564,
     "metadata": {},
     "output_type": "execute_result"
    }
   ],
   "source": [
    "data"
   ]
  },
  {
   "cell_type": "code",
   "execution_count": 565,
   "id": "bd0f756b",
   "metadata": {},
   "outputs": [
    {
     "data": {
      "text/html": [
       "<div>\n",
       "<style scoped>\n",
       "    .dataframe tbody tr th:only-of-type {\n",
       "        vertical-align: middle;\n",
       "    }\n",
       "\n",
       "    .dataframe tbody tr th {\n",
       "        vertical-align: top;\n",
       "    }\n",
       "\n",
       "    .dataframe thead th {\n",
       "        text-align: right;\n",
       "    }\n",
       "</style>\n",
       "<table border=\"1\" class=\"dataframe\">\n",
       "  <thead>\n",
       "    <tr style=\"text-align: right;\">\n",
       "      <th></th>\n",
       "      <th>Date/Time</th>\n",
       "      <th>Temp_C</th>\n",
       "      <th>Dew Point Temp_C</th>\n",
       "      <th>Rel Hum_%</th>\n",
       "      <th>Wind Speed_km/h</th>\n",
       "      <th>Visibility_km</th>\n",
       "      <th>Press_kPa</th>\n",
       "      <th>Weather</th>\n",
       "    </tr>\n",
       "  </thead>\n",
       "  <tbody>\n",
       "    <tr>\n",
       "      <th>0</th>\n",
       "      <td>1/1/2012 0:00</td>\n",
       "      <td>-1.8</td>\n",
       "      <td>-3.9</td>\n",
       "      <td>86</td>\n",
       "      <td>4</td>\n",
       "      <td>8.0</td>\n",
       "      <td>101.24</td>\n",
       "      <td>Fog</td>\n",
       "    </tr>\n",
       "    <tr>\n",
       "      <th>1</th>\n",
       "      <td>1/1/2012 1:00</td>\n",
       "      <td>-1.8</td>\n",
       "      <td>-3.7</td>\n",
       "      <td>87</td>\n",
       "      <td>4</td>\n",
       "      <td>8.0</td>\n",
       "      <td>101.24</td>\n",
       "      <td>Fog</td>\n",
       "    </tr>\n",
       "    <tr>\n",
       "      <th>2</th>\n",
       "      <td>1/1/2012 2:00</td>\n",
       "      <td>-1.8</td>\n",
       "      <td>-3.4</td>\n",
       "      <td>89</td>\n",
       "      <td>7</td>\n",
       "      <td>4.0</td>\n",
       "      <td>101.26</td>\n",
       "      <td>Freezing Drizzle,Fog</td>\n",
       "    </tr>\n",
       "    <tr>\n",
       "      <th>3</th>\n",
       "      <td>1/1/2012 3:00</td>\n",
       "      <td>-1.5</td>\n",
       "      <td>-3.2</td>\n",
       "      <td>88</td>\n",
       "      <td>6</td>\n",
       "      <td>4.0</td>\n",
       "      <td>101.27</td>\n",
       "      <td>Freezing Drizzle,Fog</td>\n",
       "    </tr>\n",
       "    <tr>\n",
       "      <th>4</th>\n",
       "      <td>1/1/2012 4:00</td>\n",
       "      <td>-1.5</td>\n",
       "      <td>-3.3</td>\n",
       "      <td>88</td>\n",
       "      <td>7</td>\n",
       "      <td>4.8</td>\n",
       "      <td>101.23</td>\n",
       "      <td>Fog</td>\n",
       "    </tr>\n",
       "    <tr>\n",
       "      <th>...</th>\n",
       "      <td>...</td>\n",
       "      <td>...</td>\n",
       "      <td>...</td>\n",
       "      <td>...</td>\n",
       "      <td>...</td>\n",
       "      <td>...</td>\n",
       "      <td>...</td>\n",
       "      <td>...</td>\n",
       "    </tr>\n",
       "    <tr>\n",
       "      <th>8779</th>\n",
       "      <td>12/31/2012 19:00</td>\n",
       "      <td>0.1</td>\n",
       "      <td>-2.7</td>\n",
       "      <td>81</td>\n",
       "      <td>30</td>\n",
       "      <td>9.7</td>\n",
       "      <td>100.13</td>\n",
       "      <td>Snow</td>\n",
       "    </tr>\n",
       "    <tr>\n",
       "      <th>8780</th>\n",
       "      <td>12/31/2012 20:00</td>\n",
       "      <td>0.2</td>\n",
       "      <td>-2.4</td>\n",
       "      <td>83</td>\n",
       "      <td>24</td>\n",
       "      <td>9.7</td>\n",
       "      <td>100.03</td>\n",
       "      <td>Snow</td>\n",
       "    </tr>\n",
       "    <tr>\n",
       "      <th>8781</th>\n",
       "      <td>12/31/2012 21:00</td>\n",
       "      <td>-0.5</td>\n",
       "      <td>-1.5</td>\n",
       "      <td>93</td>\n",
       "      <td>28</td>\n",
       "      <td>4.8</td>\n",
       "      <td>99.95</td>\n",
       "      <td>Snow</td>\n",
       "    </tr>\n",
       "    <tr>\n",
       "      <th>8782</th>\n",
       "      <td>12/31/2012 22:00</td>\n",
       "      <td>-0.2</td>\n",
       "      <td>-1.8</td>\n",
       "      <td>89</td>\n",
       "      <td>28</td>\n",
       "      <td>9.7</td>\n",
       "      <td>99.91</td>\n",
       "      <td>Snow</td>\n",
       "    </tr>\n",
       "    <tr>\n",
       "      <th>8783</th>\n",
       "      <td>12/31/2012 23:00</td>\n",
       "      <td>0.0</td>\n",
       "      <td>-2.1</td>\n",
       "      <td>86</td>\n",
       "      <td>30</td>\n",
       "      <td>11.3</td>\n",
       "      <td>99.89</td>\n",
       "      <td>Snow</td>\n",
       "    </tr>\n",
       "  </tbody>\n",
       "</table>\n",
       "<p>8784 rows × 8 columns</p>\n",
       "</div>"
      ],
      "text/plain": [
       "             Date/Time  Temp_C  Dew Point Temp_C  Rel Hum_%  Wind Speed_km/h  \\\n",
       "0        1/1/2012 0:00    -1.8              -3.9         86                4   \n",
       "1        1/1/2012 1:00    -1.8              -3.7         87                4   \n",
       "2        1/1/2012 2:00    -1.8              -3.4         89                7   \n",
       "3        1/1/2012 3:00    -1.5              -3.2         88                6   \n",
       "4        1/1/2012 4:00    -1.5              -3.3         88                7   \n",
       "...                ...     ...               ...        ...              ...   \n",
       "8779  12/31/2012 19:00     0.1              -2.7         81               30   \n",
       "8780  12/31/2012 20:00     0.2              -2.4         83               24   \n",
       "8781  12/31/2012 21:00    -0.5              -1.5         93               28   \n",
       "8782  12/31/2012 22:00    -0.2              -1.8         89               28   \n",
       "8783  12/31/2012 23:00     0.0              -2.1         86               30   \n",
       "\n",
       "      Visibility_km  Press_kPa               Weather  \n",
       "0               8.0     101.24                   Fog  \n",
       "1               8.0     101.24                   Fog  \n",
       "2               4.0     101.26  Freezing Drizzle,Fog  \n",
       "3               4.0     101.27  Freezing Drizzle,Fog  \n",
       "4               4.8     101.23                   Fog  \n",
       "...             ...        ...                   ...  \n",
       "8779            9.7     100.13                  Snow  \n",
       "8780            9.7     100.03                  Snow  \n",
       "8781            4.8      99.95                  Snow  \n",
       "8782            9.7      99.91                  Snow  \n",
       "8783           11.3      99.89                  Snow  \n",
       "\n",
       "[8784 rows x 8 columns]"
      ]
     },
     "execution_count": 565,
     "metadata": {},
     "output_type": "execute_result"
    }
   ],
   "source": [
    "df"
   ]
  },
  {
   "cell_type": "code",
   "execution_count": 566,
   "id": "7e46380f",
   "metadata": {},
   "outputs": [
    {
     "data": {
      "text/html": [
       "<div>\n",
       "<style scoped>\n",
       "    .dataframe tbody tr th:only-of-type {\n",
       "        vertical-align: middle;\n",
       "    }\n",
       "\n",
       "    .dataframe tbody tr th {\n",
       "        vertical-align: top;\n",
       "    }\n",
       "\n",
       "    .dataframe thead th {\n",
       "        text-align: right;\n",
       "    }\n",
       "</style>\n",
       "<table border=\"1\" class=\"dataframe\">\n",
       "  <thead>\n",
       "    <tr style=\"text-align: right;\">\n",
       "      <th></th>\n",
       "      <th>Date/Time</th>\n",
       "      <th>Temp_C</th>\n",
       "      <th>Dew Point Temp_C</th>\n",
       "      <th>Rel Hum_%</th>\n",
       "      <th>Wind Speed_km/h</th>\n",
       "      <th>Visibility_km</th>\n",
       "      <th>Press_kPa</th>\n",
       "      <th>Weather</th>\n",
       "    </tr>\n",
       "  </thead>\n",
       "  <tbody>\n",
       "    <tr>\n",
       "      <th>0</th>\n",
       "      <td>1/1/2012 0:00</td>\n",
       "      <td>-1.8</td>\n",
       "      <td>-3.9</td>\n",
       "      <td>86</td>\n",
       "      <td>4</td>\n",
       "      <td>8.0</td>\n",
       "      <td>101.24</td>\n",
       "      <td>Fog</td>\n",
       "    </tr>\n",
       "    <tr>\n",
       "      <th>1</th>\n",
       "      <td>1/1/2012 1:00</td>\n",
       "      <td>-1.8</td>\n",
       "      <td>-3.7</td>\n",
       "      <td>87</td>\n",
       "      <td>4</td>\n",
       "      <td>8.0</td>\n",
       "      <td>101.24</td>\n",
       "      <td>Fog</td>\n",
       "    </tr>\n",
       "    <tr>\n",
       "      <th>2</th>\n",
       "      <td>1/1/2012 2:00</td>\n",
       "      <td>-1.8</td>\n",
       "      <td>-3.4</td>\n",
       "      <td>89</td>\n",
       "      <td>7</td>\n",
       "      <td>4.0</td>\n",
       "      <td>101.26</td>\n",
       "      <td>Freezing Drizzle,Fog</td>\n",
       "    </tr>\n",
       "    <tr>\n",
       "      <th>3</th>\n",
       "      <td>1/1/2012 3:00</td>\n",
       "      <td>-1.5</td>\n",
       "      <td>-3.2</td>\n",
       "      <td>88</td>\n",
       "      <td>6</td>\n",
       "      <td>4.0</td>\n",
       "      <td>101.27</td>\n",
       "      <td>Freezing Drizzle,Fog</td>\n",
       "    </tr>\n",
       "    <tr>\n",
       "      <th>4</th>\n",
       "      <td>1/1/2012 4:00</td>\n",
       "      <td>-1.5</td>\n",
       "      <td>-3.3</td>\n",
       "      <td>88</td>\n",
       "      <td>7</td>\n",
       "      <td>4.8</td>\n",
       "      <td>101.23</td>\n",
       "      <td>Fog</td>\n",
       "    </tr>\n",
       "  </tbody>\n",
       "</table>\n",
       "</div>"
      ],
      "text/plain": [
       "       Date/Time  Temp_C  Dew Point Temp_C  Rel Hum_%  Wind Speed_km/h  \\\n",
       "0  1/1/2012 0:00    -1.8              -3.9         86                4   \n",
       "1  1/1/2012 1:00    -1.8              -3.7         87                4   \n",
       "2  1/1/2012 2:00    -1.8              -3.4         89                7   \n",
       "3  1/1/2012 3:00    -1.5              -3.2         88                6   \n",
       "4  1/1/2012 4:00    -1.5              -3.3         88                7   \n",
       "\n",
       "   Visibility_km  Press_kPa               Weather  \n",
       "0            8.0     101.24                   Fog  \n",
       "1            8.0     101.24                   Fog  \n",
       "2            4.0     101.26  Freezing Drizzle,Fog  \n",
       "3            4.0     101.27  Freezing Drizzle,Fog  \n",
       "4            4.8     101.23                   Fog  "
      ]
     },
     "execution_count": 566,
     "metadata": {},
     "output_type": "execute_result"
    }
   ],
   "source": [
    "df.head()"
   ]
  },
  {
   "cell_type": "code",
   "execution_count": 567,
   "id": "b177bf70",
   "metadata": {},
   "outputs": [
    {
     "data": {
      "text/plain": [
       "(8784, 8)"
      ]
     },
     "execution_count": 567,
     "metadata": {},
     "output_type": "execute_result"
    }
   ],
   "source": [
    "df.shape"
   ]
  },
  {
   "cell_type": "code",
   "execution_count": 568,
   "id": "094b2041",
   "metadata": {},
   "outputs": [
    {
     "data": {
      "text/plain": [
       "RangeIndex(start=0, stop=8784, step=1)"
      ]
     },
     "execution_count": 568,
     "metadata": {},
     "output_type": "execute_result"
    }
   ],
   "source": [
    "df.index"
   ]
  },
  {
   "cell_type": "code",
   "execution_count": 569,
   "id": "c83847f8",
   "metadata": {},
   "outputs": [
    {
     "ename": "AttributeError",
     "evalue": "'DataFrame' object has no attribute 'colunms'",
     "output_type": "error",
     "traceback": [
      "\u001b[1;31m---------------------------------------------------------------------------\u001b[0m",
      "\u001b[1;31mAttributeError\u001b[0m                            Traceback (most recent call last)",
      "\u001b[1;32m<ipython-input-569-3ef9535aa752>\u001b[0m in \u001b[0;36m<module>\u001b[1;34m\u001b[0m\n\u001b[1;32m----> 1\u001b[1;33m \u001b[0mdf\u001b[0m\u001b[1;33m.\u001b[0m\u001b[0mcolunms\u001b[0m\u001b[1;33m\u001b[0m\u001b[1;33m\u001b[0m\u001b[0m\n\u001b[0m",
      "\u001b[1;32m~\\Anaconda3\\lib\\site-packages\\pandas\\core\\generic.py\u001b[0m in \u001b[0;36m__getattr__\u001b[1;34m(self, name)\u001b[0m\n\u001b[0;32m   5463\u001b[0m             \u001b[1;32mif\u001b[0m \u001b[0mself\u001b[0m\u001b[1;33m.\u001b[0m\u001b[0m_info_axis\u001b[0m\u001b[1;33m.\u001b[0m\u001b[0m_can_hold_identifiers_and_holds_name\u001b[0m\u001b[1;33m(\u001b[0m\u001b[0mname\u001b[0m\u001b[1;33m)\u001b[0m\u001b[1;33m:\u001b[0m\u001b[1;33m\u001b[0m\u001b[1;33m\u001b[0m\u001b[0m\n\u001b[0;32m   5464\u001b[0m                 \u001b[1;32mreturn\u001b[0m \u001b[0mself\u001b[0m\u001b[1;33m[\u001b[0m\u001b[0mname\u001b[0m\u001b[1;33m]\u001b[0m\u001b[1;33m\u001b[0m\u001b[1;33m\u001b[0m\u001b[0m\n\u001b[1;32m-> 5465\u001b[1;33m             \u001b[1;32mreturn\u001b[0m \u001b[0mobject\u001b[0m\u001b[1;33m.\u001b[0m\u001b[0m__getattribute__\u001b[0m\u001b[1;33m(\u001b[0m\u001b[0mself\u001b[0m\u001b[1;33m,\u001b[0m \u001b[0mname\u001b[0m\u001b[1;33m)\u001b[0m\u001b[1;33m\u001b[0m\u001b[1;33m\u001b[0m\u001b[0m\n\u001b[0m\u001b[0;32m   5466\u001b[0m \u001b[1;33m\u001b[0m\u001b[0m\n\u001b[0;32m   5467\u001b[0m     \u001b[1;32mdef\u001b[0m \u001b[0m__setattr__\u001b[0m\u001b[1;33m(\u001b[0m\u001b[0mself\u001b[0m\u001b[1;33m,\u001b[0m \u001b[0mname\u001b[0m\u001b[1;33m:\u001b[0m \u001b[0mstr\u001b[0m\u001b[1;33m,\u001b[0m \u001b[0mvalue\u001b[0m\u001b[1;33m)\u001b[0m \u001b[1;33m->\u001b[0m \u001b[1;32mNone\u001b[0m\u001b[1;33m:\u001b[0m\u001b[1;33m\u001b[0m\u001b[1;33m\u001b[0m\u001b[0m\n",
      "\u001b[1;31mAttributeError\u001b[0m: 'DataFrame' object has no attribute 'colunms'"
     ]
    }
   ],
   "source": [
    "df.colunms"
   ]
  },
  {
   "cell_type": "code",
   "execution_count": 570,
   "id": "c44c20fb",
   "metadata": {},
   "outputs": [
    {
     "data": {
      "text/plain": [
       "Index(['Date/Time', 'Temp_C', 'Dew Point Temp_C', 'Rel Hum_%',\n",
       "       'Wind Speed_km/h', 'Visibility_km', 'Press_kPa', 'Weather'],\n",
       "      dtype='object')"
      ]
     },
     "execution_count": 570,
     "metadata": {},
     "output_type": "execute_result"
    }
   ],
   "source": [
    "df.columns\n"
   ]
  },
  {
   "cell_type": "code",
   "execution_count": 571,
   "id": "5d010634",
   "metadata": {},
   "outputs": [
    {
     "data": {
      "text/plain": [
       "Date/Time            object\n",
       "Temp_C              float64\n",
       "Dew Point Temp_C    float64\n",
       "Rel Hum_%             int64\n",
       "Wind Speed_km/h       int64\n",
       "Visibility_km       float64\n",
       "Press_kPa           float64\n",
       "Weather              object\n",
       "dtype: object"
      ]
     },
     "execution_count": 571,
     "metadata": {},
     "output_type": "execute_result"
    }
   ],
   "source": [
    "df.dtypes"
   ]
  },
  {
   "cell_type": "code",
   "execution_count": 572,
   "id": "e71d8292",
   "metadata": {},
   "outputs": [
    {
     "data": {
      "text/plain": [
       "array(['Fog', 'Freezing Drizzle,Fog', 'Mostly Cloudy', 'Cloudy', 'Rain',\n",
       "       'Rain Showers', 'Mainly Clear', 'Snow Showers', 'Snow', 'Clear',\n",
       "       'Freezing Rain,Fog', 'Freezing Rain', 'Freezing Drizzle',\n",
       "       'Rain,Snow', 'Moderate Snow', 'Freezing Drizzle,Snow',\n",
       "       'Freezing Rain,Snow Grains', 'Snow,Blowing Snow', 'Freezing Fog',\n",
       "       'Haze', 'Rain,Fog', 'Drizzle,Fog', 'Drizzle',\n",
       "       'Freezing Drizzle,Haze', 'Freezing Rain,Haze', 'Snow,Haze',\n",
       "       'Snow,Fog', 'Snow,Ice Pellets', 'Rain,Haze', 'Thunderstorms,Rain',\n",
       "       'Thunderstorms,Rain Showers', 'Thunderstorms,Heavy Rain Showers',\n",
       "       'Thunderstorms,Rain Showers,Fog', 'Thunderstorms',\n",
       "       'Thunderstorms,Rain,Fog',\n",
       "       'Thunderstorms,Moderate Rain Showers,Fog', 'Rain Showers,Fog',\n",
       "       'Rain Showers,Snow Showers', 'Snow Pellets', 'Rain,Snow,Fog',\n",
       "       'Moderate Rain,Fog', 'Freezing Rain,Ice Pellets,Fog',\n",
       "       'Drizzle,Ice Pellets,Fog', 'Drizzle,Snow', 'Rain,Ice Pellets',\n",
       "       'Drizzle,Snow,Fog', 'Rain,Snow Grains', 'Rain,Snow,Ice Pellets',\n",
       "       'Snow Showers,Fog', 'Moderate Snow,Blowing Snow'], dtype=object)"
      ]
     },
     "execution_count": 572,
     "metadata": {},
     "output_type": "execute_result"
    }
   ],
   "source": [
    "df[\"Weather\"].unique()"
   ]
  },
  {
   "cell_type": "code",
   "execution_count": 573,
   "id": "1d6038f0",
   "metadata": {},
   "outputs": [
    {
     "data": {
      "text/plain": [
       "array([ 4,  7,  6,  9, 15, 13, 20, 22, 19, 24, 30, 35, 39, 32, 33, 26, 44,\n",
       "       43, 48, 37, 28, 17, 11,  0, 83, 70, 57, 46, 41, 52, 50, 63, 54,  2],\n",
       "      dtype=int64)"
      ]
     },
     "execution_count": 573,
     "metadata": {},
     "output_type": "execute_result"
    }
   ],
   "source": [
    "df[\"Wind Speed_km/h\"].unique()"
   ]
  },
  {
   "cell_type": "code",
   "execution_count": 574,
   "id": "235395a9",
   "metadata": {},
   "outputs": [
    {
     "data": {
      "text/plain": [
       "array([101.24, 101.26, 101.27, 101.23, 101.29, 101.2 , 101.15, 100.98,\n",
       "       100.79, 100.58, 100.31, 100.07,  99.93,  99.81,  99.74,  99.68,\n",
       "        99.5 ,  99.39,  99.32,  99.31,  99.26,  99.3 ,  99.21,  99.18,\n",
       "        99.14,  99.19,  99.27,  99.33,  99.41,  99.66,  99.86, 100.  ,\n",
       "       100.15, 100.26, 100.27, 100.35, 100.43, 100.53, 100.61, 100.68,\n",
       "       100.76, 100.85, 100.95, 101.07, 101.33, 101.34, 101.38, 101.44,\n",
       "       101.51, 101.58, 101.64, 101.74, 101.82, 101.86, 101.87, 101.88,\n",
       "       101.89, 101.77, 101.75, 101.73, 101.68, 101.54, 101.41, 101.25,\n",
       "       100.97, 100.89, 100.69, 100.65, 100.54, 100.5 , 100.42, 100.32,\n",
       "       100.29, 100.28, 100.24, 100.21, 100.19, 100.39, 100.45, 100.41,\n",
       "       100.38, 100.4 , 100.46, 100.52, 100.6 , 100.71, 100.8 , 100.83,\n",
       "       100.81, 100.84, 100.7 , 100.51, 100.47, 100.36, 100.23, 100.13,\n",
       "       100.06, 100.1 , 100.12, 100.16, 100.11, 100.08, 100.05, 100.09,\n",
       "       100.33, 100.48, 100.62, 100.72, 101.13, 101.21, 101.47, 101.59,\n",
       "       101.7 , 101.81, 101.92, 101.9 , 101.94, 101.97, 102.04, 102.09,\n",
       "       102.17, 102.23, 102.26, 102.28, 102.22, 102.13, 102.15, 102.11,\n",
       "       102.02, 101.93, 101.8 , 101.4 , 101.05, 100.96, 100.9 , 100.77,\n",
       "       100.64, 100.02, 100.04, 100.91, 101.04, 101.32, 101.43, 101.49,\n",
       "       101.57, 101.66, 101.72, 101.78, 101.63, 101.56, 101.61, 101.6 ,\n",
       "       101.19, 101.17, 101.08, 101.02, 100.93, 100.22,  99.97,  99.9 ,\n",
       "        99.88,  99.83,  99.76,  99.72,  99.64,  99.56,  99.47,  99.4 ,\n",
       "        99.24,  99.22,  99.13,  99.06,  98.94,  98.84,  98.69,  98.56,\n",
       "        98.44,  98.22,  98.07,  97.99,  98.1 ,  98.16,  98.23,  98.32,\n",
       "        98.6 ,  98.89,  99.09,  99.28,  99.51,  99.67,  99.85, 100.01,\n",
       "       100.73, 101.14, 101.16, 101.18, 101.3 , 101.36, 101.46, 101.62,\n",
       "       101.65, 101.79, 101.99, 102.12, 102.19, 102.37, 102.45, 102.57,\n",
       "       102.66, 102.68, 102.67, 102.65, 102.71, 102.79, 102.85, 102.89,\n",
       "       102.94, 102.98, 103.02, 103.07, 103.09, 103.05, 103.08, 103.01,\n",
       "       102.96, 102.9 , 102.75, 102.62, 102.44, 101.71, 101.31, 101.12,\n",
       "       100.94, 100.88, 100.75, 100.59,  99.69,  99.57,  99.38,  98.98,\n",
       "        98.71,  98.47,  98.31,  98.36,  98.62,  99.  ,  99.36,  99.7 ,\n",
       "       100.78, 100.92, 101.  , 101.09, 101.45, 101.67, 101.83, 101.85,\n",
       "       101.84, 101.42, 101.22, 101.03, 100.66, 100.63, 100.87, 101.96,\n",
       "       101.98, 102.21, 102.27, 102.33, 102.34, 102.36, 102.29, 102.18,\n",
       "       102.08, 102.06, 102.03, 102.01, 102.16, 102.24, 102.47, 102.52,\n",
       "       102.54, 102.64, 102.84, 102.91, 103.04, 102.97, 102.86, 102.74,\n",
       "       102.6 , 102.38, 102.14, 102.1 , 101.76, 101.69, 101.01, 100.86,\n",
       "       100.25, 100.37, 100.49, 100.82, 101.06, 101.11, 101.37, 101.52,\n",
       "       102.05, 102.07, 101.95, 101.53, 101.28, 100.99,  99.98,  99.8 ,\n",
       "        99.61,  99.34,  99.08,  98.91,  98.76,  98.65,  98.74,  98.97,\n",
       "        99.54,  99.75, 100.03, 100.34, 100.74, 100.14,  99.95,  99.87,\n",
       "        99.96, 100.67, 101.55, 100.56, 102.31, 102.35, 102.39, 102.4 ,\n",
       "       102.42, 102.51, 102.59, 102.61, 102.46, 102.25, 102.32, 101.91,\n",
       "       101.48, 100.57, 101.39, 102.2 , 101.1 , 100.55, 100.3 , 100.44,\n",
       "       102.  , 101.5 , 100.2 ,  99.77,  99.59,  99.52,  99.29,  99.23,\n",
       "        99.17,  99.11,  99.16,  99.2 ,  99.42,  99.49,  99.53,  99.6 ,\n",
       "        99.82,  99.91,  99.07,  98.88,  98.81,  98.55,  98.39,  98.29,\n",
       "        98.18,  98.06,  98.  ,  97.97,  98.03,  98.11,  98.2 ,  98.33,\n",
       "        98.45,  98.75,  99.05, 102.41, 102.49, 102.55, 102.63, 102.72,\n",
       "       102.58, 102.5 , 102.69, 102.53, 102.56, 102.3 ,  99.55,  99.02,\n",
       "        98.79,  98.7 ,  98.86,  98.82,  98.73,  98.68,  98.67,  98.92,\n",
       "        98.96,  99.46,  99.63,  99.84,  99.94, 100.18, 102.7 , 103.  ,\n",
       "       103.06, 103.1 , 103.12, 102.81,  99.99,  99.78, 102.73, 102.95,\n",
       "       102.99, 101.35, 100.17, 102.48, 102.43,  99.45,  99.48,  99.92,\n",
       "        99.89,  99.71,  99.12,  99.1 ,  99.43,  99.37,  99.58,  99.15,\n",
       "        98.9 ,  98.8 ,  98.66,  98.61,  98.54,  98.51,  98.58,  98.64,\n",
       "        98.5 ,  98.53,  98.63,  98.72,  98.78,  99.01,  99.79,  99.65,\n",
       "        99.62,  99.73,  99.44,  99.35,  99.25, 103.15, 103.25, 103.29,\n",
       "       103.31, 103.34, 103.2 , 103.16, 103.17, 103.18, 102.93, 103.13,\n",
       "       103.24, 103.28, 103.39, 103.47, 103.51, 103.52, 103.5 , 103.43,\n",
       "       103.46, 103.49, 103.54, 103.56, 103.58, 103.59, 103.63, 103.61,\n",
       "       103.65, 103.38, 103.36, 103.3 , 103.27, 103.22, 103.11, 103.03,\n",
       "       102.92, 102.83, 102.78, 102.82, 103.14, 103.26, 103.21, 103.19,\n",
       "       103.23,  97.93,  97.76,  97.56,  97.52,  97.58,  97.64,  97.75,\n",
       "        97.79,  97.81,  97.84,  97.89,  97.98,  98.19])"
      ]
     },
     "execution_count": 574,
     "metadata": {},
     "output_type": "execute_result"
    }
   ],
   "source": [
    "df[\"Press_kPa\"].unique()"
   ]
  },
  {
   "cell_type": "code",
   "execution_count": 575,
   "id": "3ab5b3df",
   "metadata": {},
   "outputs": [
    {
     "data": {
      "text/plain": [
       "array([ 86,  87,  89,  88,  85,  91,  82,  81,  84,  79,  77,  72,  71,\n",
       "        69,  70,  68,  67,  66,  56,  57,  59,  55,  54,  58,  65,  53,\n",
       "        60,  61,  63,  52,  50,  49,  62,  51,  75,  73,  80,  83,  76,\n",
       "        64,  74,  78,  47,  90,  48,  45,  46,  92,  93,  42,  43,  40,\n",
       "        39,  44,  94,  37,  41,  38,  96,  98,  99,  97,  95, 100,  29,\n",
       "        28,  27,  19,  20,  18,  25,  26,  30,  24,  34,  33,  31,  32,\n",
       "        35,  36,  21,  22,  23], dtype=int64)"
      ]
     },
     "execution_count": 575,
     "metadata": {},
     "output_type": "execute_result"
    }
   ],
   "source": [
    "df[\"Rel Hum_%\"].unique()"
   ]
  },
  {
   "cell_type": "code",
   "execution_count": 576,
   "id": "bee93761",
   "metadata": {},
   "outputs": [
    {
     "data": {
      "text/plain": [
       "Date/Time           8784\n",
       "Temp_C               533\n",
       "Dew Point Temp_C     489\n",
       "Rel Hum_%             83\n",
       "Wind Speed_km/h       34\n",
       "Visibility_km         24\n",
       "Press_kPa            518\n",
       "Weather               50\n",
       "dtype: int64"
      ]
     },
     "execution_count": 576,
     "metadata": {},
     "output_type": "execute_result"
    }
   ],
   "source": [
    "df.nunique()"
   ]
  },
  {
   "cell_type": "code",
   "execution_count": 577,
   "id": "1fddc42e",
   "metadata": {},
   "outputs": [
    {
     "data": {
      "text/plain": [
       "Date/Time           8784\n",
       "Temp_C              8784\n",
       "Dew Point Temp_C    8784\n",
       "Rel Hum_%           8784\n",
       "Wind Speed_km/h     8784\n",
       "Visibility_km       8784\n",
       "Press_kPa           8784\n",
       "Weather             8784\n",
       "dtype: int64"
      ]
     },
     "execution_count": 577,
     "metadata": {},
     "output_type": "execute_result"
    }
   ],
   "source": [
    "df.count()"
   ]
  },
  {
   "cell_type": "code",
   "execution_count": 578,
   "id": "1a0d5bd0",
   "metadata": {},
   "outputs": [
    {
     "data": {
      "text/plain": [
       "Mainly Clear                               2106\n",
       "Mostly Cloudy                              2069\n",
       "Cloudy                                     1728\n",
       "Clear                                      1326\n",
       "Snow                                        390\n",
       "Rain                                        306\n",
       "Rain Showers                                188\n",
       "Fog                                         150\n",
       "Rain,Fog                                    116\n",
       "Drizzle,Fog                                  80\n",
       "Snow Showers                                 60\n",
       "Drizzle                                      41\n",
       "Snow,Fog                                     37\n",
       "Snow,Blowing Snow                            19\n",
       "Rain,Snow                                    18\n",
       "Haze                                         16\n",
       "Thunderstorms,Rain Showers                   16\n",
       "Drizzle,Snow,Fog                             15\n",
       "Freezing Rain                                14\n",
       "Freezing Drizzle,Snow                        11\n",
       "Freezing Drizzle                              7\n",
       "Snow,Ice Pellets                              6\n",
       "Freezing Drizzle,Fog                          6\n",
       "Snow,Haze                                     5\n",
       "Rain,Snow,Ice Pellets                         4\n",
       "Freezing Fog                                  4\n",
       "Moderate Snow                                 4\n",
       "Snow Showers,Fog                              4\n",
       "Freezing Rain,Fog                             4\n",
       "Thunderstorms,Rain                            3\n",
       "Freezing Drizzle,Haze                         3\n",
       "Rain,Haze                                     3\n",
       "Thunderstorms,Rain Showers,Fog                3\n",
       "Freezing Rain,Haze                            2\n",
       "Thunderstorms                                 2\n",
       "Drizzle,Snow                                  2\n",
       "Moderate Snow,Blowing Snow                    2\n",
       "Rain Showers,Snow Showers                     2\n",
       "Thunderstorms,Heavy Rain Showers              1\n",
       "Rain,Snow,Fog                                 1\n",
       "Drizzle,Ice Pellets,Fog                       1\n",
       "Rain Showers,Fog                              1\n",
       "Freezing Rain,Ice Pellets,Fog                 1\n",
       "Thunderstorms,Rain,Fog                        1\n",
       "Snow Pellets                                  1\n",
       "Rain,Snow Grains                              1\n",
       "Freezing Rain,Snow Grains                     1\n",
       "Rain,Ice Pellets                              1\n",
       "Moderate Rain,Fog                             1\n",
       "Thunderstorms,Moderate Rain Showers,Fog       1\n",
       "Name: Weather, dtype: int64"
      ]
     },
     "execution_count": 578,
     "metadata": {},
     "output_type": "execute_result"
    }
   ],
   "source": [
    "df[\"Weather\"].value_counts()"
   ]
  },
  {
   "cell_type": "code",
   "execution_count": 579,
   "id": "a5479ff0",
   "metadata": {},
   "outputs": [
    {
     "ename": "NameError",
     "evalue": "name 'Weather' is not defined",
     "output_type": "error",
     "traceback": [
      "\u001b[1;31m---------------------------------------------------------------------------\u001b[0m",
      "\u001b[1;31mNameError\u001b[0m                                 Traceback (most recent call last)",
      "\u001b[1;32m<ipython-input-579-7e38281df55d>\u001b[0m in \u001b[0;36m<module>\u001b[1;34m\u001b[0m\n\u001b[1;32m----> 1\u001b[1;33m \u001b[0mWeather\u001b[0m\u001b[1;33m\u001b[0m\u001b[1;33m\u001b[0m\u001b[0m\n\u001b[0m",
      "\u001b[1;31mNameError\u001b[0m: name 'Weather' is not defined"
     ]
    }
   ],
   "source": [
    "Weather"
   ]
  },
  {
   "cell_type": "code",
   "execution_count": 580,
   "id": "b8defa58",
   "metadata": {},
   "outputs": [
    {
     "data": {
      "text/plain": [
       "0                        Fog\n",
       "1                        Fog\n",
       "2       Freezing Drizzle,Fog\n",
       "3       Freezing Drizzle,Fog\n",
       "4                        Fog\n",
       "                ...         \n",
       "8779                    Snow\n",
       "8780                    Snow\n",
       "8781                    Snow\n",
       "8782                    Snow\n",
       "8783                    Snow\n",
       "Name: Weather, Length: 8784, dtype: object"
      ]
     },
     "execution_count": 580,
     "metadata": {},
     "output_type": "execute_result"
    }
   ],
   "source": [
    "df.Weather"
   ]
  },
  {
   "cell_type": "code",
   "execution_count": 581,
   "id": "4018561a",
   "metadata": {},
   "outputs": [],
   "source": [
    "#Gui, jupyter notebook\n",
    "\n",
    "# Python tutorial"
   ]
  },
  {
   "cell_type": "code",
   "execution_count": 582,
   "id": "5a0d16a0",
   "metadata": {},
   "outputs": [
    {
     "name": "stdout",
     "output_type": "stream",
     "text": [
      "This is sparta\n"
     ]
    }
   ],
   "source": [
    "print(\"This is sparta\")"
   ]
  },
  {
   "cell_type": "code",
   "execution_count": 583,
   "id": "941da0ed",
   "metadata": {},
   "outputs": [],
   "source": [
    "# How to store"
   ]
  },
  {
   "cell_type": "code",
   "execution_count": 584,
   "id": "8d87933e",
   "metadata": {},
   "outputs": [
    {
     "ename": "SyntaxError",
     "evalue": "invalid syntax (<ipython-input-584-fb66c51ea1fb>, line 1)",
     "output_type": "error",
     "traceback": [
      "\u001b[1;36m  File \u001b[1;32m\"<ipython-input-584-fb66c51ea1fb>\"\u001b[1;36m, line \u001b[1;32m1\u001b[0m\n\u001b[1;33m    variable store john\u001b[0m\n\u001b[1;37m             ^\u001b[0m\n\u001b[1;31mSyntaxError\u001b[0m\u001b[1;31m:\u001b[0m invalid syntax\n"
     ]
    }
   ],
   "source": [
    "variable store john"
   ]
  },
  {
   "cell_type": "code",
   "execution_count": 585,
   "id": "221419fe",
   "metadata": {},
   "outputs": [],
   "source": [
    "student=\"John\""
   ]
  },
  {
   "cell_type": "code",
   "execution_count": 586,
   "id": "8b62d6cf",
   "metadata": {},
   "outputs": [],
   "source": [
    "student=\"sam\""
   ]
  },
  {
   "cell_type": "code",
   "execution_count": 587,
   "id": "2156e2d5",
   "metadata": {},
   "outputs": [],
   "source": [
    "student=\"Mat\""
   ]
  },
  {
   "cell_type": "code",
   "execution_count": 588,
   "id": "675b60d3",
   "metadata": {},
   "outputs": [],
   "source": [
    "student=\"Bob\""
   ]
  },
  {
   "cell_type": "code",
   "execution_count": 589,
   "id": "6f5ea510",
   "metadata": {},
   "outputs": [
    {
     "data": {
      "text/plain": [
       "10"
      ]
     },
     "execution_count": 589,
     "metadata": {},
     "output_type": "execute_result"
    }
   ],
   "source": [
    "a1=10\n",
    "a1"
   ]
  },
  {
   "cell_type": "code",
   "execution_count": 590,
   "id": "85c2dd50",
   "metadata": {},
   "outputs": [
    {
     "data": {
      "text/plain": [
       "int"
      ]
     },
     "execution_count": 590,
     "metadata": {},
     "output_type": "execute_result"
    }
   ],
   "source": [
    "type(a1)"
   ]
  },
  {
   "cell_type": "code",
   "execution_count": 591,
   "id": "08de4d07",
   "metadata": {},
   "outputs": [],
   "source": [
    "a1=2.45"
   ]
  },
  {
   "cell_type": "code",
   "execution_count": 592,
   "id": "ba5071d7",
   "metadata": {},
   "outputs": [
    {
     "data": {
      "text/plain": [
       "float"
      ]
     },
     "execution_count": 592,
     "metadata": {},
     "output_type": "execute_result"
    }
   ],
   "source": [
    "type(a1)"
   ]
  },
  {
   "cell_type": "code",
   "execution_count": 593,
   "id": "ecde670c",
   "metadata": {},
   "outputs": [],
   "source": [
    "a1=True"
   ]
  },
  {
   "cell_type": "code",
   "execution_count": 594,
   "id": "43570224",
   "metadata": {},
   "outputs": [
    {
     "data": {
      "text/plain": [
       "bool"
      ]
     },
     "execution_count": 594,
     "metadata": {},
     "output_type": "execute_result"
    }
   ],
   "source": [
    "type(a1)"
   ]
  },
  {
   "cell_type": "code",
   "execution_count": 595,
   "id": "affd9a45",
   "metadata": {},
   "outputs": [],
   "source": [
    "a1=\"Hello World\""
   ]
  },
  {
   "cell_type": "code",
   "execution_count": 596,
   "id": "309d033f",
   "metadata": {},
   "outputs": [],
   "source": [
    "a1=3+4j"
   ]
  },
  {
   "cell_type": "code",
   "execution_count": 597,
   "id": "960f8aa0",
   "metadata": {},
   "outputs": [
    {
     "data": {
      "text/plain": [
       "complex"
      ]
     },
     "execution_count": 597,
     "metadata": {},
     "output_type": "execute_result"
    }
   ],
   "source": [
    "type(a1)"
   ]
  },
  {
   "cell_type": "code",
   "execution_count": 598,
   "id": "f0c94702",
   "metadata": {},
   "outputs": [],
   "source": [
    "a=10\n",
    "b=20"
   ]
  },
  {
   "cell_type": "code",
   "execution_count": 599,
   "id": "6390ad96",
   "metadata": {},
   "outputs": [
    {
     "data": {
      "text/plain": [
       "(10, 20)"
      ]
     },
     "execution_count": 599,
     "metadata": {},
     "output_type": "execute_result"
    }
   ],
   "source": [
    "a,b"
   ]
  },
  {
   "cell_type": "code",
   "execution_count": 600,
   "id": "cc5f3d34",
   "metadata": {},
   "outputs": [
    {
     "data": {
      "text/plain": [
       "-10"
      ]
     },
     "execution_count": 600,
     "metadata": {},
     "output_type": "execute_result"
    }
   ],
   "source": [
    "a-b"
   ]
  },
  {
   "cell_type": "code",
   "execution_count": 601,
   "id": "3c3e5e9b",
   "metadata": {},
   "outputs": [
    {
     "data": {
      "text/plain": [
       "0.5"
      ]
     },
     "execution_count": 601,
     "metadata": {},
     "output_type": "execute_result"
    }
   ],
   "source": [
    "a/b"
   ]
  },
  {
   "cell_type": "code",
   "execution_count": 602,
   "id": "39eaa103",
   "metadata": {},
   "outputs": [],
   "source": [
    "#relational operators<,.<=\n"
   ]
  },
  {
   "cell_type": "code",
   "execution_count": 603,
   "id": "8ae535ea",
   "metadata": {},
   "outputs": [],
   "source": [
    "a=50\n",
    "b=100"
   ]
  },
  {
   "cell_type": "code",
   "execution_count": 604,
   "id": "669a052a",
   "metadata": {},
   "outputs": [
    {
     "data": {
      "text/plain": [
       "False"
      ]
     },
     "execution_count": 604,
     "metadata": {},
     "output_type": "execute_result"
    }
   ],
   "source": [
    "a>b"
   ]
  },
  {
   "cell_type": "code",
   "execution_count": 605,
   "id": "7a151786",
   "metadata": {},
   "outputs": [
    {
     "data": {
      "text/plain": [
       "True"
      ]
     },
     "execution_count": 605,
     "metadata": {},
     "output_type": "execute_result"
    }
   ],
   "source": [
    "a<b"
   ]
  },
  {
   "cell_type": "code",
   "execution_count": 606,
   "id": "ead14b5d",
   "metadata": {},
   "outputs": [
    {
     "data": {
      "text/plain": [
       "False"
      ]
     },
     "execution_count": 606,
     "metadata": {},
     "output_type": "execute_result"
    }
   ],
   "source": [
    "a==b"
   ]
  },
  {
   "cell_type": "code",
   "execution_count": 607,
   "id": "bbe0cfa8",
   "metadata": {},
   "outputs": [
    {
     "data": {
      "text/plain": [
       "True"
      ]
     },
     "execution_count": 607,
     "metadata": {},
     "output_type": "execute_result"
    }
   ],
   "source": [
    "a!=b"
   ]
  },
  {
   "cell_type": "code",
   "execution_count": 608,
   "id": "4624465a",
   "metadata": {},
   "outputs": [],
   "source": [
    "# logical operators"
   ]
  },
  {
   "cell_type": "code",
   "execution_count": 609,
   "id": "79b4dc82",
   "metadata": {},
   "outputs": [],
   "source": [
    "a=True\n",
    "b=False"
   ]
  },
  {
   "cell_type": "code",
   "execution_count": 610,
   "id": "4d85a635",
   "metadata": {},
   "outputs": [
    {
     "data": {
      "text/plain": [
       "True"
      ]
     },
     "execution_count": 610,
     "metadata": {},
     "output_type": "execute_result"
    }
   ],
   "source": [
    "a & a"
   ]
  },
  {
   "cell_type": "code",
   "execution_count": 611,
   "id": "88e10611",
   "metadata": {},
   "outputs": [
    {
     "data": {
      "text/plain": [
       "False"
      ]
     },
     "execution_count": 611,
     "metadata": {},
     "output_type": "execute_result"
    }
   ],
   "source": [
    "a & b"
   ]
  },
  {
   "cell_type": "code",
   "execution_count": 612,
   "id": "5d81468c",
   "metadata": {},
   "outputs": [
    {
     "data": {
      "text/plain": [
       "False"
      ]
     },
     "execution_count": 612,
     "metadata": {},
     "output_type": "execute_result"
    }
   ],
   "source": [
    "b & a"
   ]
  },
  {
   "cell_type": "code",
   "execution_count": 613,
   "id": "c5f084bd",
   "metadata": {},
   "outputs": [
    {
     "data": {
      "text/plain": [
       "False"
      ]
     },
     "execution_count": 613,
     "metadata": {},
     "output_type": "execute_result"
    }
   ],
   "source": [
    "b & b"
   ]
  },
  {
   "cell_type": "code",
   "execution_count": 614,
   "id": "0327dd3e",
   "metadata": {},
   "outputs": [],
   "source": [
    "student = \"Julie\""
   ]
  },
  {
   "cell_type": "code",
   "execution_count": 615,
   "id": "509389ff",
   "metadata": {},
   "outputs": [],
   "source": [
    "Student=\"Martha\"\n"
   ]
  },
  {
   "cell_type": "code",
   "execution_count": 616,
   "id": "f1c440be",
   "metadata": {},
   "outputs": [
    {
     "data": {
      "text/plain": [
       "'Julie'"
      ]
     },
     "execution_count": 616,
     "metadata": {},
     "output_type": "execute_result"
    }
   ],
   "source": [
    "student"
   ]
  },
  {
   "cell_type": "code",
   "execution_count": 617,
   "id": "1aa6e84d",
   "metadata": {},
   "outputs": [],
   "source": [
    "a= \"Hello World\""
   ]
  },
  {
   "cell_type": "code",
   "execution_count": 618,
   "id": "bcf5a7fd",
   "metadata": {},
   "outputs": [],
   "source": [
    "z=\"strings are sequence of characters\""
   ]
  },
  {
   "cell_type": "code",
   "execution_count": 619,
   "id": "d1477921",
   "metadata": {},
   "outputs": [],
   "source": [
    "str1=\"This is my first string\""
   ]
  },
  {
   "cell_type": "code",
   "execution_count": 620,
   "id": "34dce44c",
   "metadata": {},
   "outputs": [],
   "source": [
    "str2=\"This string\\ has lots of\\ lines\""
   ]
  },
  {
   "cell_type": "code",
   "execution_count": 621,
   "id": "680f8419",
   "metadata": {},
   "outputs": [],
   "source": [
    "my_string =\"My name is john\""
   ]
  },
  {
   "cell_type": "code",
   "execution_count": 622,
   "id": "11bdd117",
   "metadata": {},
   "outputs": [],
   "source": [
    "my_string = \"This is sparta\""
   ]
  },
  {
   "cell_type": "code",
   "execution_count": 623,
   "id": "5bded486",
   "metadata": {},
   "outputs": [
    {
     "data": {
      "text/plain": [
       "'T'"
      ]
     },
     "execution_count": 623,
     "metadata": {},
     "output_type": "execute_result"
    }
   ],
   "source": [
    "my_string[0]"
   ]
  },
  {
   "cell_type": "code",
   "execution_count": 624,
   "id": "6d648948",
   "metadata": {},
   "outputs": [
    {
     "data": {
      "text/plain": [
       "'a'"
      ]
     },
     "execution_count": 624,
     "metadata": {},
     "output_type": "execute_result"
    }
   ],
   "source": [
    "my_string[-1]"
   ]
  },
  {
   "cell_type": "code",
   "execution_count": 625,
   "id": "c4a0c47a",
   "metadata": {},
   "outputs": [
    {
     "data": {
      "text/plain": [
       "' is sp'"
      ]
     },
     "execution_count": 625,
     "metadata": {},
     "output_type": "execute_result"
    }
   ],
   "source": [
    "my_string[4:10]"
   ]
  },
  {
   "cell_type": "code",
   "execution_count": 626,
   "id": "ffa2c554",
   "metadata": {},
   "outputs": [
    {
     "data": {
      "text/plain": [
       "14"
      ]
     },
     "execution_count": 626,
     "metadata": {},
     "output_type": "execute_result"
    }
   ],
   "source": [
    "len(my_string)"
   ]
  },
  {
   "cell_type": "code",
   "execution_count": 627,
   "id": "01ab5cd3",
   "metadata": {},
   "outputs": [
    {
     "data": {
      "text/plain": [
       "'this is sparta'"
      ]
     },
     "execution_count": 627,
     "metadata": {},
     "output_type": "execute_result"
    }
   ],
   "source": [
    "my_string.lower()"
   ]
  },
  {
   "cell_type": "code",
   "execution_count": 628,
   "id": "64e8468e",
   "metadata": {},
   "outputs": [
    {
     "data": {
      "text/plain": [
       "'THIS IS SPARTA'"
      ]
     },
     "execution_count": 628,
     "metadata": {},
     "output_type": "execute_result"
    }
   ],
   "source": [
    "my_string.upper()"
   ]
  },
  {
   "cell_type": "code",
   "execution_count": 629,
   "id": "7b5e84ef",
   "metadata": {},
   "outputs": [
    {
     "data": {
      "text/plain": [
       "14"
      ]
     },
     "execution_count": 629,
     "metadata": {},
     "output_type": "execute_result"
    }
   ],
   "source": [
    "len(my_string)"
   ]
  },
  {
   "cell_type": "code",
   "execution_count": 630,
   "id": "76bcd521",
   "metadata": {},
   "outputs": [
    {
     "data": {
      "text/plain": [
       "'this is sparta'"
      ]
     },
     "execution_count": 630,
     "metadata": {},
     "output_type": "execute_result"
    }
   ],
   "source": [
    "my_string.lower()"
   ]
  },
  {
   "cell_type": "code",
   "execution_count": 631,
   "id": "b02f461f",
   "metadata": {},
   "outputs": [
    {
     "data": {
      "text/plain": [
       "'THIS IS SPARTA'"
      ]
     },
     "execution_count": 631,
     "metadata": {},
     "output_type": "execute_result"
    }
   ],
   "source": [
    "my_string.upper()"
   ]
  },
  {
   "cell_type": "code",
   "execution_count": 632,
   "id": "4a117eea",
   "metadata": {},
   "outputs": [
    {
     "data": {
      "text/plain": [
       "'Thas as sparta'"
      ]
     },
     "execution_count": 632,
     "metadata": {},
     "output_type": "execute_result"
    }
   ],
   "source": [
    "my_string.replace(\"i\",\"a\")"
   ]
  },
  {
   "cell_type": "code",
   "execution_count": 633,
   "id": "7deb9b3d",
   "metadata": {},
   "outputs": [],
   "source": [
    "new_string=\"hello hello hello world\""
   ]
  },
  {
   "cell_type": "code",
   "execution_count": 634,
   "id": "7dd1a67a",
   "metadata": {},
   "outputs": [
    {
     "data": {
      "text/plain": [
       "3"
      ]
     },
     "execution_count": 634,
     "metadata": {},
     "output_type": "execute_result"
    }
   ],
   "source": [
    "new_string.count(\"hello\")"
   ]
  },
  {
   "cell_type": "code",
   "execution_count": 635,
   "id": "ce7290c4",
   "metadata": {},
   "outputs": [
    {
     "data": {
      "text/plain": [
       "'Thare are sparta'"
      ]
     },
     "execution_count": 635,
     "metadata": {},
     "output_type": "execute_result"
    }
   ],
   "source": [
    "my_string.replace(\"is\",\"are\")"
   ]
  },
  {
   "cell_type": "code",
   "execution_count": 636,
   "id": "33c5e371",
   "metadata": {},
   "outputs": [],
   "source": [
    "str_new = \"sparta sparta 300 300 300 \""
   ]
  },
  {
   "cell_type": "code",
   "execution_count": 637,
   "id": "412cbae1",
   "metadata": {},
   "outputs": [
    {
     "data": {
      "text/plain": [
       "2"
      ]
     },
     "execution_count": 637,
     "metadata": {},
     "output_type": "execute_result"
    }
   ],
   "source": [
    "str_new.count(\"sparta\")"
   ]
  },
  {
   "cell_type": "code",
   "execution_count": 638,
   "id": "5d052348",
   "metadata": {},
   "outputs": [
    {
     "data": {
      "text/plain": [
       "2"
      ]
     },
     "execution_count": 638,
     "metadata": {},
     "output_type": "execute_result"
    }
   ],
   "source": [
    "str_new.count(\"s\")"
   ]
  },
  {
   "cell_type": "code",
   "execution_count": 639,
   "id": "17c62212",
   "metadata": {},
   "outputs": [],
   "source": [
    "s1= \"This is sparta\""
   ]
  },
  {
   "cell_type": "code",
   "execution_count": 640,
   "id": "afd2dc06",
   "metadata": {},
   "outputs": [
    {
     "data": {
      "text/plain": [
       "8"
      ]
     },
     "execution_count": 640,
     "metadata": {},
     "output_type": "execute_result"
    }
   ],
   "source": [
    "s1.find(\"sparta\")"
   ]
  },
  {
   "cell_type": "code",
   "execution_count": 641,
   "id": "d19b5e1f",
   "metadata": {},
   "outputs": [],
   "source": [
    "fruit=(\"I like apples, mangoes, bananas\")"
   ]
  },
  {
   "cell_type": "code",
   "execution_count": 642,
   "id": "8f7a4b7c",
   "metadata": {},
   "outputs": [
    {
     "data": {
      "text/plain": [
       "['I like apples', ' mangoes', ' bananas']"
      ]
     },
     "execution_count": 642,
     "metadata": {},
     "output_type": "execute_result"
    }
   ],
   "source": [
    "fruit.split(\",\")"
   ]
  },
  {
   "cell_type": "code",
   "execution_count": 643,
   "id": "0da01588",
   "metadata": {},
   "outputs": [],
   "source": [
    "my_string=\"Hello world is awesome\""
   ]
  },
  {
   "cell_type": "code",
   "execution_count": 644,
   "id": "19280e3a",
   "metadata": {},
   "outputs": [
    {
     "data": {
      "text/plain": [
       "12"
      ]
     },
     "execution_count": 644,
     "metadata": {},
     "output_type": "execute_result"
    }
   ],
   "source": [
    "my_string.find(\"i\")"
   ]
  },
  {
   "cell_type": "code",
   "execution_count": 645,
   "id": "39304753",
   "metadata": {},
   "outputs": [],
   "source": [
    "str_final=\"President obama is the best president of united states\""
   ]
  },
  {
   "cell_type": "code",
   "execution_count": 646,
   "id": "3bc84559",
   "metadata": {},
   "outputs": [
    {
     "data": {
      "text/plain": [
       "['Pr',\n",
       " 'sid',\n",
       " 'nt obama is th',\n",
       " ' b',\n",
       " 'st pr',\n",
       " 'sid',\n",
       " 'nt of unit',\n",
       " 'd stat',\n",
       " 's']"
      ]
     },
     "execution_count": 646,
     "metadata": {},
     "output_type": "execute_result"
    }
   ],
   "source": [
    "str_final.split(\"e\")"
   ]
  },
  {
   "cell_type": "code",
   "execution_count": 647,
   "id": "a7a2fe01",
   "metadata": {},
   "outputs": [],
   "source": [
    "# Tuple is an ordered collection of elements enclosed within ()"
   ]
  },
  {
   "cell_type": "code",
   "execution_count": 648,
   "id": "6cf83e1f",
   "metadata": {},
   "outputs": [],
   "source": [
    "tup1= (1,\"a\", True)"
   ]
  },
  {
   "cell_type": "code",
   "execution_count": 649,
   "id": "570c4e02",
   "metadata": {},
   "outputs": [
    {
     "data": {
      "text/plain": [
       "(1, 'a', True)"
      ]
     },
     "execution_count": 649,
     "metadata": {},
     "output_type": "execute_result"
    }
   ],
   "source": [
    "tup1"
   ]
  },
  {
   "cell_type": "code",
   "execution_count": 650,
   "id": "970dd20a",
   "metadata": {},
   "outputs": [
    {
     "data": {
      "text/plain": [
       "tuple"
      ]
     },
     "execution_count": 650,
     "metadata": {},
     "output_type": "execute_result"
    }
   ],
   "source": [
    "type(tup1)"
   ]
  },
  {
   "cell_type": "code",
   "execution_count": 651,
   "id": "dfad7f3c",
   "metadata": {},
   "outputs": [
    {
     "ename": "NameError",
     "evalue": "name 'TUP1' is not defined",
     "output_type": "error",
     "traceback": [
      "\u001b[1;31m---------------------------------------------------------------------------\u001b[0m",
      "\u001b[1;31mNameError\u001b[0m                                 Traceback (most recent call last)",
      "\u001b[1;32m<ipython-input-651-7ba5f78b0747>\u001b[0m in \u001b[0;36m<module>\u001b[1;34m\u001b[0m\n\u001b[1;32m----> 1\u001b[1;33m \u001b[0mTUP1\u001b[0m\u001b[1;33m[\u001b[0m\u001b[1;36m0\u001b[0m\u001b[1;33m]\u001b[0m\u001b[1;33m\u001b[0m\u001b[1;33m\u001b[0m\u001b[0m\n\u001b[0m",
      "\u001b[1;31mNameError\u001b[0m: name 'TUP1' is not defined"
     ]
    }
   ],
   "source": [
    "TUP1[0]"
   ]
  },
  {
   "cell_type": "code",
   "execution_count": 652,
   "id": "00d4311a",
   "metadata": {},
   "outputs": [
    {
     "data": {
      "text/plain": [
       "1"
      ]
     },
     "execution_count": 652,
     "metadata": {},
     "output_type": "execute_result"
    }
   ],
   "source": [
    "tup1[0]"
   ]
  },
  {
   "cell_type": "code",
   "execution_count": 653,
   "id": "9ab08ab8",
   "metadata": {},
   "outputs": [
    {
     "data": {
      "text/plain": [
       "True"
      ]
     },
     "execution_count": 653,
     "metadata": {},
     "output_type": "execute_result"
    }
   ],
   "source": [
    "tup1[-1]"
   ]
  },
  {
   "cell_type": "code",
   "execution_count": 654,
   "id": "29c53927",
   "metadata": {},
   "outputs": [
    {
     "ename": "TypeError",
     "evalue": "'tuple' object does not support item assignment",
     "output_type": "error",
     "traceback": [
      "\u001b[1;31m---------------------------------------------------------------------------\u001b[0m",
      "\u001b[1;31mTypeError\u001b[0m                                 Traceback (most recent call last)",
      "\u001b[1;32m<ipython-input-654-2fc16622751e>\u001b[0m in \u001b[0;36m<module>\u001b[1;34m\u001b[0m\n\u001b[1;32m----> 1\u001b[1;33m \u001b[0mtup1\u001b[0m\u001b[1;33m[\u001b[0m\u001b[1;36m2\u001b[0m\u001b[1;33m]\u001b[0m\u001b[1;33m=\u001b[0m\u001b[1;34m\"hello\"\u001b[0m\u001b[1;33m\u001b[0m\u001b[1;33m\u001b[0m\u001b[0m\n\u001b[0m",
      "\u001b[1;31mTypeError\u001b[0m: 'tuple' object does not support item assignment"
     ]
    }
   ],
   "source": [
    "tup1[2]=\"hello\""
   ]
  },
  {
   "cell_type": "code",
   "execution_count": null,
   "id": "1a4d24b7",
   "metadata": {},
   "outputs": [],
   "source": [
    "len(tup1)"
   ]
  },
  {
   "cell_type": "code",
   "execution_count": 655,
   "id": "794b228a",
   "metadata": {},
   "outputs": [],
   "source": [
    "# concatinate tuples"
   ]
  },
  {
   "cell_type": "code",
   "execution_count": 656,
   "id": "2f042740",
   "metadata": {},
   "outputs": [],
   "source": [
    "tup1=(1,2,3)"
   ]
  },
  {
   "cell_type": "code",
   "execution_count": 657,
   "id": "0ea63e11",
   "metadata": {},
   "outputs": [],
   "source": [
    "tup2=(4,5,6)"
   ]
  },
  {
   "cell_type": "code",
   "execution_count": 658,
   "id": "c5eb26be",
   "metadata": {},
   "outputs": [
    {
     "data": {
      "text/plain": [
       "(1, 2, 3, 4, 5, 6)"
      ]
     },
     "execution_count": 658,
     "metadata": {},
     "output_type": "execute_result"
    }
   ],
   "source": [
    "tup1+tup2"
   ]
  },
  {
   "cell_type": "code",
   "execution_count": 659,
   "id": "44716ce3",
   "metadata": {},
   "outputs": [
    {
     "data": {
      "text/plain": [
       "((1, 2, 3), (4, 5, 6))"
      ]
     },
     "execution_count": 659,
     "metadata": {},
     "output_type": "execute_result"
    }
   ],
   "source": [
    "tup1,tup2"
   ]
  },
  {
   "cell_type": "code",
   "execution_count": 660,
   "id": "4f947dae",
   "metadata": {},
   "outputs": [
    {
     "data": {
      "text/plain": [
       "(4, 5, 6, 1, 2, 3)"
      ]
     },
     "execution_count": 660,
     "metadata": {},
     "output_type": "execute_result"
    }
   ],
   "source": [
    "tup2+tup1"
   ]
  },
  {
   "cell_type": "code",
   "execution_count": 661,
   "id": "b614181f",
   "metadata": {},
   "outputs": [
    {
     "data": {
      "text/plain": [
       "(1, 2, 3, 1, 2, 3, 1, 2, 3)"
      ]
     },
     "execution_count": 661,
     "metadata": {},
     "output_type": "execute_result"
    }
   ],
   "source": [
    "tup1*3"
   ]
  },
  {
   "cell_type": "code",
   "execution_count": 662,
   "id": "a8a73cf0",
   "metadata": {},
   "outputs": [
    {
     "data": {
      "text/plain": [
       "(1, 2, 3, 1, 2, 3, 1, 2, 3, 4, 5, 6)"
      ]
     },
     "execution_count": 662,
     "metadata": {},
     "output_type": "execute_result"
    }
   ],
   "source": [
    "tup1*3+tup2"
   ]
  },
  {
   "cell_type": "code",
   "execution_count": 663,
   "id": "30404c34",
   "metadata": {},
   "outputs": [],
   "source": [
    "tup1=(10,20,30,40)"
   ]
  },
  {
   "cell_type": "code",
   "execution_count": 664,
   "id": "c472fe60",
   "metadata": {},
   "outputs": [
    {
     "data": {
      "text/plain": [
       "10"
      ]
     },
     "execution_count": 664,
     "metadata": {},
     "output_type": "execute_result"
    }
   ],
   "source": [
    "min(tup1)"
   ]
  },
  {
   "cell_type": "code",
   "execution_count": 665,
   "id": "1f6aa250",
   "metadata": {},
   "outputs": [
    {
     "data": {
      "text/plain": [
       "40"
      ]
     },
     "execution_count": 665,
     "metadata": {},
     "output_type": "execute_result"
    }
   ],
   "source": [
    "max(tup1)"
   ]
  },
  {
   "cell_type": "code",
   "execution_count": 666,
   "id": "09529713",
   "metadata": {},
   "outputs": [],
   "source": [
    "#list is mutable,list is defined by square bracket, while tuple is defined by small bracket "
   ]
  },
  {
   "cell_type": "code",
   "execution_count": 667,
   "id": "f9e4e654",
   "metadata": {},
   "outputs": [],
   "source": [
    "\n",
    "l1=[1,\"abc\",5.23,True]"
   ]
  },
  {
   "cell_type": "code",
   "execution_count": 668,
   "id": "1858e980",
   "metadata": {},
   "outputs": [
    {
     "data": {
      "text/plain": [
       "1"
      ]
     },
     "execution_count": 668,
     "metadata": {},
     "output_type": "execute_result"
    }
   ],
   "source": [
    "l1[0]"
   ]
  },
  {
   "cell_type": "code",
   "execution_count": 669,
   "id": "19fab42f",
   "metadata": {},
   "outputs": [
    {
     "data": {
      "text/plain": [
       "5.23"
      ]
     },
     "execution_count": 669,
     "metadata": {},
     "output_type": "execute_result"
    }
   ],
   "source": [
    "l1[2]"
   ]
  },
  {
   "cell_type": "code",
   "execution_count": 670,
   "id": "b5ac3b9c",
   "metadata": {},
   "outputs": [],
   "source": [
    "l1=[1,\"a\",2,\"a\",\"b\"]"
   ]
  },
  {
   "cell_type": "code",
   "execution_count": 671,
   "id": "0f93d5f4",
   "metadata": {},
   "outputs": [
    {
     "data": {
      "text/plain": [
       "[1, 'a', 2, 'a', 'b']"
      ]
     },
     "execution_count": 671,
     "metadata": {},
     "output_type": "execute_result"
    }
   ],
   "source": [
    "l1"
   ]
  },
  {
   "cell_type": "code",
   "execution_count": 672,
   "id": "4f11ddab",
   "metadata": {},
   "outputs": [],
   "source": [
    "l1[0]=100"
   ]
  },
  {
   "cell_type": "code",
   "execution_count": 673,
   "id": "63099428",
   "metadata": {},
   "outputs": [],
   "source": [
    "l1[2]=200"
   ]
  },
  {
   "cell_type": "code",
   "execution_count": 674,
   "id": "378e432d",
   "metadata": {},
   "outputs": [],
   "source": [
    "l1[3]=500"
   ]
  },
  {
   "cell_type": "code",
   "execution_count": 675,
   "id": "194f1a06",
   "metadata": {},
   "outputs": [
    {
     "data": {
      "text/plain": [
       "[100, 'a', 200, 500, 'b']"
      ]
     },
     "execution_count": 675,
     "metadata": {},
     "output_type": "execute_result"
    }
   ],
   "source": [
    "l1"
   ]
  },
  {
   "cell_type": "code",
   "execution_count": 676,
   "id": "523c4ecf",
   "metadata": {},
   "outputs": [],
   "source": [
    "tup1=(1,2,3,4,5)"
   ]
  },
  {
   "cell_type": "code",
   "execution_count": 677,
   "id": "9d1e5b8c",
   "metadata": {},
   "outputs": [
    {
     "data": {
      "text/plain": [
       "5"
      ]
     },
     "execution_count": 677,
     "metadata": {},
     "output_type": "execute_result"
    }
   ],
   "source": [
    "max(tup1)"
   ]
  },
  {
   "cell_type": "code",
   "execution_count": 678,
   "id": "499071ff",
   "metadata": {},
   "outputs": [
    {
     "data": {
      "text/plain": [
       "1"
      ]
     },
     "execution_count": 678,
     "metadata": {},
     "output_type": "execute_result"
    }
   ],
   "source": [
    "min(tup1)"
   ]
  },
  {
   "cell_type": "code",
   "execution_count": 679,
   "id": "0a7a9024",
   "metadata": {},
   "outputs": [],
   "source": [
    "tup1=(10,39,90)"
   ]
  },
  {
   "cell_type": "code",
   "execution_count": 680,
   "id": "9be81747",
   "metadata": {},
   "outputs": [
    {
     "data": {
      "text/plain": [
       "90"
      ]
     },
     "execution_count": 680,
     "metadata": {},
     "output_type": "execute_result"
    }
   ],
   "source": [
    "max(tup1)"
   ]
  },
  {
   "cell_type": "code",
   "execution_count": 681,
   "id": "8a12de59",
   "metadata": {},
   "outputs": [],
   "source": [
    "l1=[1,\"sparta\",3.1,True]"
   ]
  },
  {
   "cell_type": "code",
   "execution_count": 682,
   "id": "e2eff2f6",
   "metadata": {},
   "outputs": [
    {
     "data": {
      "text/plain": [
       "list"
      ]
     },
     "execution_count": 682,
     "metadata": {},
     "output_type": "execute_result"
    }
   ],
   "source": [
    "type(l1)"
   ]
  },
  {
   "cell_type": "code",
   "execution_count": 683,
   "id": "0213db93",
   "metadata": {},
   "outputs": [
    {
     "data": {
      "text/plain": [
       "3.1"
      ]
     },
     "execution_count": 683,
     "metadata": {},
     "output_type": "execute_result"
    }
   ],
   "source": [
    "l1[2]"
   ]
  },
  {
   "cell_type": "code",
   "execution_count": 684,
   "id": "561f261d",
   "metadata": {},
   "outputs": [
    {
     "data": {
      "text/plain": [
       "1"
      ]
     },
     "execution_count": 684,
     "metadata": {},
     "output_type": "execute_result"
    }
   ],
   "source": [
    "l1[0]"
   ]
  },
  {
   "cell_type": "code",
   "execution_count": 685,
   "id": "e95d262d",
   "metadata": {},
   "outputs": [
    {
     "ename": "SyntaxError",
     "evalue": "invalid syntax (<ipython-input-685-54eec154a44b>, line 1)",
     "output_type": "error",
     "traceback": [
      "\u001b[1;36m  File \u001b[1;32m\"<ipython-input-685-54eec154a44b>\"\u001b[1;36m, line \u001b[1;32m1\u001b[0m\n\u001b[1;33m    l1[1;5]\u001b[0m\n\u001b[1;37m        ^\u001b[0m\n\u001b[1;31mSyntaxError\u001b[0m\u001b[1;31m:\u001b[0m invalid syntax\n"
     ]
    }
   ],
   "source": [
    "l1[1;5]"
   ]
  },
  {
   "cell_type": "code",
   "execution_count": 686,
   "id": "fb76ff5f",
   "metadata": {},
   "outputs": [
    {
     "data": {
      "text/plain": [
       "['sparta', 3.1, True]"
      ]
     },
     "execution_count": 686,
     "metadata": {},
     "output_type": "execute_result"
    }
   ],
   "source": [
    "l1[1:5]"
   ]
  },
  {
   "cell_type": "code",
   "execution_count": 687,
   "id": "d94e7010",
   "metadata": {},
   "outputs": [],
   "source": [
    "l1[0]=200"
   ]
  },
  {
   "cell_type": "code",
   "execution_count": 688,
   "id": "e2ffea3f",
   "metadata": {},
   "outputs": [
    {
     "data": {
      "text/plain": [
       "[200, 'sparta', 3.1, True]"
      ]
     },
     "execution_count": 688,
     "metadata": {},
     "output_type": "execute_result"
    }
   ],
   "source": [
    "l1"
   ]
  },
  {
   "cell_type": "code",
   "execution_count": 689,
   "id": "668ba8b5",
   "metadata": {},
   "outputs": [
    {
     "data": {
      "text/plain": [
       "True"
      ]
     },
     "execution_count": 689,
     "metadata": {},
     "output_type": "execute_result"
    }
   ],
   "source": [
    "l1.pop()"
   ]
  },
  {
   "cell_type": "code",
   "execution_count": 690,
   "id": "ff017482",
   "metadata": {},
   "outputs": [],
   "source": [
    "l1.reverse()"
   ]
  },
  {
   "cell_type": "code",
   "execution_count": 691,
   "id": "22601a67",
   "metadata": {},
   "outputs": [
    {
     "data": {
      "text/plain": [
       "[3.1, 'sparta', 200]"
      ]
     },
     "execution_count": 691,
     "metadata": {},
     "output_type": "execute_result"
    }
   ],
   "source": [
    "l1"
   ]
  },
  {
   "cell_type": "markdown",
   "id": "0c3f59a0",
   "metadata": {},
   "source": [
    "# "
   ]
  },
  {
   "cell_type": "code",
   "execution_count": 692,
   "id": "0c49dc36",
   "metadata": {},
   "outputs": [
    {
     "data": {
      "text/plain": [
       "<function list.reverse()>"
      ]
     },
     "execution_count": 692,
     "metadata": {},
     "output_type": "execute_result"
    }
   ],
   "source": [
    "l1.reverse"
   ]
  },
  {
   "cell_type": "code",
   "execution_count": 693,
   "id": "cebbb9a8",
   "metadata": {},
   "outputs": [
    {
     "data": {
      "text/plain": [
       "[3.1, 'sparta', 200]"
      ]
     },
     "execution_count": 693,
     "metadata": {},
     "output_type": "execute_result"
    }
   ],
   "source": [
    "l1"
   ]
  },
  {
   "cell_type": "code",
   "execution_count": 694,
   "id": "aa553c8e",
   "metadata": {},
   "outputs": [
    {
     "data": {
      "text/plain": [
       "'sparta'"
      ]
     },
     "execution_count": 694,
     "metadata": {},
     "output_type": "execute_result"
    }
   ],
   "source": [
    "l1[1]"
   ]
  },
  {
   "cell_type": "code",
   "execution_count": 695,
   "id": "2f9558ff",
   "metadata": {},
   "outputs": [
    {
     "data": {
      "text/plain": [
       "200"
      ]
     },
     "execution_count": 695,
     "metadata": {},
     "output_type": "execute_result"
    }
   ],
   "source": [
    "l1[-1]"
   ]
  },
  {
   "cell_type": "code",
   "execution_count": 696,
   "id": "7945160a",
   "metadata": {},
   "outputs": [],
   "source": [
    "l1[0]=2000"
   ]
  },
  {
   "cell_type": "code",
   "execution_count": 697,
   "id": "07941805",
   "metadata": {},
   "outputs": [],
   "source": [
    "l1.append(-4.25)"
   ]
  },
  {
   "cell_type": "code",
   "execution_count": 698,
   "id": "2b8d9bba",
   "metadata": {},
   "outputs": [
    {
     "data": {
      "text/plain": [
       "[2000, 'sparta', 200, -4.25]"
      ]
     },
     "execution_count": 698,
     "metadata": {},
     "output_type": "execute_result"
    }
   ],
   "source": [
    "l1"
   ]
  },
  {
   "cell_type": "code",
   "execution_count": 699,
   "id": "4d0ab932",
   "metadata": {},
   "outputs": [],
   "source": [
    "l1.reverse()"
   ]
  },
  {
   "cell_type": "code",
   "execution_count": 700,
   "id": "7ea4eaf2",
   "metadata": {},
   "outputs": [
    {
     "data": {
      "text/plain": [
       "[-4.25, 200, 'sparta', 2000]"
      ]
     },
     "execution_count": 700,
     "metadata": {},
     "output_type": "execute_result"
    }
   ],
   "source": [
    "l1"
   ]
  },
  {
   "cell_type": "code",
   "execution_count": 701,
   "id": "dd8bf54a",
   "metadata": {},
   "outputs": [
    {
     "data": {
      "text/plain": [
       "<function list.reverse()>"
      ]
     },
     "execution_count": 701,
     "metadata": {},
     "output_type": "execute_result"
    }
   ],
   "source": [
    "l1.reverse"
   ]
  },
  {
   "cell_type": "code",
   "execution_count": 702,
   "id": "0dbb681d",
   "metadata": {},
   "outputs": [
    {
     "data": {
      "text/plain": [
       "[-4.25, 200, 'sparta', 2000]"
      ]
     },
     "execution_count": 702,
     "metadata": {},
     "output_type": "execute_result"
    }
   ],
   "source": [
    "l1"
   ]
  },
  {
   "cell_type": "code",
   "execution_count": 703,
   "id": "bd33ad70",
   "metadata": {},
   "outputs": [],
   "source": [
    "l1.insert(0,help\n",
    "         )"
   ]
  },
  {
   "cell_type": "code",
   "execution_count": 704,
   "id": "2dfde9a6",
   "metadata": {},
   "outputs": [
    {
     "data": {
      "text/plain": [
       "Type help() for interactive help, or help(object) for help about object."
      ]
     },
     "execution_count": 704,
     "metadata": {},
     "output_type": "execute_result"
    }
   ],
   "source": [
    "help"
   ]
  },
  {
   "cell_type": "code",
   "execution_count": 705,
   "id": "b6270b45",
   "metadata": {},
   "outputs": [],
   "source": [
    "l1.insert(3,\"hello\")"
   ]
  },
  {
   "cell_type": "code",
   "execution_count": 706,
   "id": "c8c8198b",
   "metadata": {},
   "outputs": [
    {
     "data": {
      "text/plain": [
       "[Type help() for interactive help, or help(object) for help about object.,\n",
       " -4.25,\n",
       " 200,\n",
       " 'hello',\n",
       " 'sparta',\n",
       " 2000]"
      ]
     },
     "execution_count": 706,
     "metadata": {},
     "output_type": "execute_result"
    }
   ],
   "source": [
    "l1"
   ]
  },
  {
   "cell_type": "code",
   "execution_count": 707,
   "id": "d1d1c000",
   "metadata": {},
   "outputs": [
    {
     "data": {
      "text/plain": [
       "[Type help() for interactive help, or help(object) for help about object.,\n",
       " -4.25,\n",
       " 200,\n",
       " 'hello',\n",
       " 'sparta',\n",
       " 2000]"
      ]
     },
     "execution_count": 707,
     "metadata": {},
     "output_type": "execute_result"
    }
   ],
   "source": [
    "l1"
   ]
  },
  {
   "cell_type": "code",
   "execution_count": 708,
   "id": "509b8ba6",
   "metadata": {},
   "outputs": [],
   "source": [
    "l1=[5,8,9,0,7,7]"
   ]
  },
  {
   "cell_type": "code",
   "execution_count": 709,
   "id": "9f338e29",
   "metadata": {},
   "outputs": [
    {
     "ename": "AttributeError",
     "evalue": "'list' object has no attribute 'short'",
     "output_type": "error",
     "traceback": [
      "\u001b[1;31m---------------------------------------------------------------------------\u001b[0m",
      "\u001b[1;31mAttributeError\u001b[0m                            Traceback (most recent call last)",
      "\u001b[1;32m<ipython-input-709-f6957e21e77e>\u001b[0m in \u001b[0;36m<module>\u001b[1;34m\u001b[0m\n\u001b[1;32m----> 1\u001b[1;33m \u001b[0ml1\u001b[0m\u001b[1;33m.\u001b[0m\u001b[0mshort\u001b[0m\u001b[1;33m(\u001b[0m\u001b[1;33m)\u001b[0m\u001b[1;33m\u001b[0m\u001b[1;33m\u001b[0m\u001b[0m\n\u001b[0m",
      "\u001b[1;31mAttributeError\u001b[0m: 'list' object has no attribute 'short'"
     ]
    }
   ],
   "source": [
    "l1.short()"
   ]
  },
  {
   "cell_type": "code",
   "execution_count": 710,
   "id": "5098b4c7",
   "metadata": {},
   "outputs": [],
   "source": [
    "l2=[\"apple\",\"\"]"
   ]
  },
  {
   "cell_type": "code",
   "execution_count": 711,
   "id": "414c3526",
   "metadata": {},
   "outputs": [
    {
     "data": {
      "text/plain": [
       "[5, 8, 9, 0, 7, 7, 'apple', '']"
      ]
     },
     "execution_count": 711,
     "metadata": {},
     "output_type": "execute_result"
    }
   ],
   "source": [
    "l1+l2"
   ]
  },
  {
   "cell_type": "code",
   "execution_count": 712,
   "id": "b5066e70",
   "metadata": {},
   "outputs": [],
   "source": [
    "# Dictonary is unordered collection of key value pair"
   ]
  },
  {
   "cell_type": "code",
   "execution_count": 713,
   "id": "03ce7b4a",
   "metadata": {},
   "outputs": [],
   "source": [
    "# Dictonary is mutable"
   ]
  },
  {
   "cell_type": "code",
   "execution_count": 714,
   "id": "5d30a595",
   "metadata": {},
   "outputs": [],
   "source": [
    "Fruit={\"Apple\":10, \"orange\":20}"
   ]
  },
  {
   "cell_type": "code",
   "execution_count": 715,
   "id": "eb90f6f6",
   "metadata": {},
   "outputs": [
    {
     "data": {
      "text/plain": [
       "'I like apples, mangoes, bananas'"
      ]
     },
     "execution_count": 715,
     "metadata": {},
     "output_type": "execute_result"
    }
   ],
   "source": [
    "fruit"
   ]
  },
  {
   "cell_type": "code",
   "execution_count": 716,
   "id": "c01e0166",
   "metadata": {},
   "outputs": [
    {
     "data": {
      "text/plain": [
       "{'Apple': 10, 'orange': 20}"
      ]
     },
     "execution_count": 716,
     "metadata": {},
     "output_type": "execute_result"
    }
   ],
   "source": [
    "Fruit"
   ]
  },
  {
   "cell_type": "code",
   "execution_count": 717,
   "id": "56c03746",
   "metadata": {},
   "outputs": [],
   "source": [
    "import pandas as pd"
   ]
  },
  {
   "cell_type": "code",
   "execution_count": 718,
   "id": "50e5970a",
   "metadata": {},
   "outputs": [],
   "source": [
    "import numpy as np"
   ]
  },
  {
   "cell_type": "code",
   "execution_count": 719,
   "id": "489ec3f8",
   "metadata": {},
   "outputs": [],
   "source": [
    "d1={\"apple\":50, \"banana\": 400, \"mango\": 150}"
   ]
  },
  {
   "cell_type": "code",
   "execution_count": 720,
   "id": "7ca1b958",
   "metadata": {},
   "outputs": [
    {
     "ename": "NameError",
     "evalue": "name 'typ' is not defined",
     "output_type": "error",
     "traceback": [
      "\u001b[1;31m---------------------------------------------------------------------------\u001b[0m",
      "\u001b[1;31mNameError\u001b[0m                                 Traceback (most recent call last)",
      "\u001b[1;32m<ipython-input-720-b33e9f77ae3e>\u001b[0m in \u001b[0;36m<module>\u001b[1;34m\u001b[0m\n\u001b[1;32m----> 1\u001b[1;33m \u001b[0mtyp\u001b[0m\u001b[1;33m(\u001b[0m\u001b[0md1\u001b[0m\u001b[1;33m)\u001b[0m\u001b[1;33m\u001b[0m\u001b[1;33m\u001b[0m\u001b[0m\n\u001b[0m",
      "\u001b[1;31mNameError\u001b[0m: name 'typ' is not defined"
     ]
    }
   ],
   "source": [
    "typ(d1)"
   ]
  },
  {
   "cell_type": "code",
   "execution_count": 721,
   "id": "fdf394a3",
   "metadata": {},
   "outputs": [
    {
     "data": {
      "text/plain": [
       "dict"
      ]
     },
     "execution_count": 721,
     "metadata": {},
     "output_type": "execute_result"
    }
   ],
   "source": [
    "type(d1)"
   ]
  },
  {
   "cell_type": "code",
   "execution_count": 722,
   "id": "b5ab17e0",
   "metadata": {},
   "outputs": [
    {
     "data": {
      "text/plain": [
       "dict_keys(['apple', 'banana', 'mango'])"
      ]
     },
     "execution_count": 722,
     "metadata": {},
     "output_type": "execute_result"
    }
   ],
   "source": [
    "d1.keys()"
   ]
  },
  {
   "cell_type": "code",
   "execution_count": 723,
   "id": "8f07a8cb",
   "metadata": {},
   "outputs": [
    {
     "data": {
      "text/plain": [
       "dict_values([50, 400, 150])"
      ]
     },
     "execution_count": 723,
     "metadata": {},
     "output_type": "execute_result"
    }
   ],
   "source": [
    "d1.values()"
   ]
  },
  {
   "cell_type": "code",
   "execution_count": 724,
   "id": "15741661",
   "metadata": {},
   "outputs": [
    {
     "ename": "NameError",
     "evalue": "name 'mango' is not defined",
     "output_type": "error",
     "traceback": [
      "\u001b[1;31m---------------------------------------------------------------------------\u001b[0m",
      "\u001b[1;31mNameError\u001b[0m                                 Traceback (most recent call last)",
      "\u001b[1;32m<ipython-input-724-cdc1d560b3d2>\u001b[0m in \u001b[0;36m<module>\u001b[1;34m\u001b[0m\n\u001b[1;32m----> 1\u001b[1;33m \u001b[0md1\u001b[0m\u001b[1;33m[\u001b[0m\u001b[0mmango\u001b[0m\u001b[1;33m]\u001b[0m\u001b[1;33m=\u001b[0m\u001b[1;36m50\u001b[0m\u001b[1;33m\u001b[0m\u001b[1;33m\u001b[0m\u001b[0m\n\u001b[0m",
      "\u001b[1;31mNameError\u001b[0m: name 'mango' is not defined"
     ]
    }
   ],
   "source": [
    "d1[mango]=50"
   ]
  },
  {
   "cell_type": "code",
   "execution_count": 725,
   "id": "8e551257",
   "metadata": {},
   "outputs": [
    {
     "ename": "TypeError",
     "evalue": "'str' object does not support item assignment",
     "output_type": "error",
     "traceback": [
      "\u001b[1;31m---------------------------------------------------------------------------\u001b[0m",
      "\u001b[1;31mTypeError\u001b[0m                                 Traceback (most recent call last)",
      "\u001b[1;32m<ipython-input-725-b69d9182eed3>\u001b[0m in \u001b[0;36m<module>\u001b[1;34m\u001b[0m\n\u001b[1;32m----> 1\u001b[1;33m \u001b[0mfruit\u001b[0m\u001b[1;33m[\u001b[0m\u001b[1;34m\"mango\"\u001b[0m\u001b[1;33m]\u001b[0m\u001b[1;33m=\u001b[0m\u001b[1;36m50\u001b[0m\u001b[1;33m\u001b[0m\u001b[1;33m\u001b[0m\u001b[0m\n\u001b[0m",
      "\u001b[1;31mTypeError\u001b[0m: 'str' object does not support item assignment"
     ]
    }
   ],
   "source": [
    "fruit[\"mango\"]=50"
   ]
  },
  {
   "cell_type": "code",
   "execution_count": 726,
   "id": "672f5553",
   "metadata": {},
   "outputs": [
    {
     "data": {
      "text/plain": [
       "{'apple': 50, 'banana': 400, 'mango': 150}"
      ]
     },
     "execution_count": 726,
     "metadata": {},
     "output_type": "execute_result"
    }
   ],
   "source": [
    "d1"
   ]
  },
  {
   "cell_type": "code",
   "execution_count": 727,
   "id": "16a4a063",
   "metadata": {},
   "outputs": [],
   "source": [
    "d1[\"orange\"]=5"
   ]
  },
  {
   "cell_type": "code",
   "execution_count": 728,
   "id": "79e78104",
   "metadata": {},
   "outputs": [
    {
     "data": {
      "text/plain": [
       "{'apple': 50, 'banana': 400, 'mango': 150, 'orange': 5}"
      ]
     },
     "execution_count": 728,
     "metadata": {},
     "output_type": "execute_result"
    }
   ],
   "source": [
    "d1"
   ]
  },
  {
   "cell_type": "code",
   "execution_count": 729,
   "id": "219fb739",
   "metadata": {},
   "outputs": [],
   "source": [
    "d2={\"watermelon\":1100,\"grapes\":50, \"muskmelon\":580}"
   ]
  },
  {
   "cell_type": "code",
   "execution_count": 730,
   "id": "34c84a8a",
   "metadata": {},
   "outputs": [],
   "source": [
    "d1.update(d2)"
   ]
  },
  {
   "cell_type": "code",
   "execution_count": 731,
   "id": "c76c8b8c",
   "metadata": {},
   "outputs": [
    {
     "data": {
      "text/plain": [
       "{'apple': 50,\n",
       " 'banana': 400,\n",
       " 'mango': 150,\n",
       " 'orange': 5,\n",
       " 'watermelon': 1100,\n",
       " 'grapes': 50,\n",
       " 'muskmelon': 580}"
      ]
     },
     "execution_count": 731,
     "metadata": {},
     "output_type": "execute_result"
    }
   ],
   "source": [
    "d1"
   ]
  },
  {
   "cell_type": "code",
   "execution_count": 732,
   "id": "5c13f397",
   "metadata": {},
   "outputs": [],
   "source": [
    "s1={1,3.14,\"sparta\"}"
   ]
  },
  {
   "cell_type": "code",
   "execution_count": 733,
   "id": "27721c8b",
   "metadata": {},
   "outputs": [
    {
     "data": {
      "text/plain": [
       "{1, 3.14, 'sparta'}"
      ]
     },
     "execution_count": 733,
     "metadata": {},
     "output_type": "execute_result"
    }
   ],
   "source": [
    "s1"
   ]
  },
  {
   "cell_type": "code",
   "execution_count": 734,
   "id": "5ab5e22b",
   "metadata": {},
   "outputs": [],
   "source": [
    "s1.add(False)"
   ]
  },
  {
   "cell_type": "code",
   "execution_count": 735,
   "id": "7b761b8d",
   "metadata": {},
   "outputs": [
    {
     "data": {
      "text/plain": [
       "{1, 3.14, False, 'sparta'}"
      ]
     },
     "execution_count": 735,
     "metadata": {},
     "output_type": "execute_result"
    }
   ],
   "source": [
    "s1"
   ]
  },
  {
   "cell_type": "code",
   "execution_count": 736,
   "id": "e1d7988b",
   "metadata": {},
   "outputs": [],
   "source": [
    "s1.remove(1)"
   ]
  },
  {
   "cell_type": "code",
   "execution_count": 737,
   "id": "a1fca319",
   "metadata": {},
   "outputs": [],
   "source": [
    "s1.remove(False)"
   ]
  },
  {
   "cell_type": "code",
   "execution_count": 738,
   "id": "d791f7c1",
   "metadata": {},
   "outputs": [],
   "source": [
    "s1={1,2,3,4,5,6,7}"
   ]
  },
  {
   "cell_type": "code",
   "execution_count": 739,
   "id": "1cdbbabf",
   "metadata": {},
   "outputs": [],
   "source": [
    "s2={4,5,6,7,8,9}"
   ]
  },
  {
   "cell_type": "code",
   "execution_count": 740,
   "id": "da525c09",
   "metadata": {},
   "outputs": [
    {
     "data": {
      "text/plain": [
       "{1, 2, 3, 4, 5, 6, 7, 8, 9}"
      ]
     },
     "execution_count": 740,
     "metadata": {},
     "output_type": "execute_result"
    }
   ],
   "source": [
    "s1.union(s2)"
   ]
  },
  {
   "cell_type": "code",
   "execution_count": 741,
   "id": "f15733ab",
   "metadata": {},
   "outputs": [
    {
     "data": {
      "text/plain": [
       "{1, 2, 3, 4, 5, 6, 7}"
      ]
     },
     "execution_count": 741,
     "metadata": {},
     "output_type": "execute_result"
    }
   ],
   "source": [
    "s1"
   ]
  },
  {
   "cell_type": "code",
   "execution_count": 742,
   "id": "bde01ee5",
   "metadata": {},
   "outputs": [
    {
     "data": {
      "text/plain": [
       "{4, 5, 6, 7, 8, 9}"
      ]
     },
     "execution_count": 742,
     "metadata": {},
     "output_type": "execute_result"
    }
   ],
   "source": [
    "s2"
   ]
  },
  {
   "cell_type": "code",
   "execution_count": 743,
   "id": "ed9904c6",
   "metadata": {},
   "outputs": [],
   "source": [
    "s3={5,6,7,8,9}"
   ]
  },
  {
   "cell_type": "code",
   "execution_count": 744,
   "id": "63d7bd6c",
   "metadata": {},
   "outputs": [
    {
     "data": {
      "text/plain": [
       "{5, 6, 7}"
      ]
     },
     "execution_count": 744,
     "metadata": {},
     "output_type": "execute_result"
    }
   ],
   "source": [
    "s1.intersection(s3)"
   ]
  },
  {
   "cell_type": "code",
   "execution_count": 745,
   "id": "53a87216",
   "metadata": {},
   "outputs": [],
   "source": [
    "#if statement"
   ]
  },
  {
   "cell_type": "code",
   "execution_count": 746,
   "id": "0234f01f",
   "metadata": {},
   "outputs": [],
   "source": [
    "# if it rains : sit inside\n"
   ]
  },
  {
   "cell_type": "code",
   "execution_count": 747,
   "id": "103f7b1f",
   "metadata": {},
   "outputs": [],
   "source": [
    "# else Go out and play football"
   ]
  },
  {
   "cell_type": "code",
   "execution_count": 748,
   "id": "8960eac0",
   "metadata": {},
   "outputs": [],
   "source": [
    "# if Marks>70 Get ice cream, else give practice test"
   ]
  },
  {
   "cell_type": "code",
   "execution_count": 749,
   "id": "1b950d40",
   "metadata": {},
   "outputs": [
    {
     "ename": "SyntaxError",
     "evalue": "invalid syntax (<ipython-input-749-17fd547207d2>, line 2)",
     "output_type": "error",
     "traceback": [
      "\u001b[1;36m  File \u001b[1;32m\"<ipython-input-749-17fd547207d2>\"\u001b[1;36m, line \u001b[1;32m2\u001b[0m\n\u001b[1;33m    else {statement to be executed}\u001b[0m\n\u001b[1;37m    ^\u001b[0m\n\u001b[1;31mSyntaxError\u001b[0m\u001b[1;31m:\u001b[0m invalid syntax\n"
     ]
    }
   ],
   "source": [
    "# If (condition){statement to be excuted}\n",
    "else {statement to be executed}"
   ]
  },
  {
   "cell_type": "code",
   "execution_count": 750,
   "id": "d2e91a2f",
   "metadata": {},
   "outputs": [],
   "source": [
    "a=10\n",
    "b=20"
   ]
  },
  {
   "cell_type": "code",
   "execution_count": 751,
   "id": "d4e489c7",
   "metadata": {},
   "outputs": [],
   "source": [
    "if a>b:\n",
    " print(\"B is greater than A\")"
   ]
  },
  {
   "cell_type": "code",
   "execution_count": 752,
   "id": "dfcbd7e9",
   "metadata": {},
   "outputs": [
    {
     "name": "stdout",
     "output_type": "stream",
     "text": [
      "B is greater than A\n"
     ]
    }
   ],
   "source": [
    "if a>b:\n",
    "  print(\"A is greater than B\")\n",
    "else:\n",
    "  print (\"B is greater than A\")\n"
   ]
  },
  {
   "cell_type": "code",
   "execution_count": 753,
   "id": "1df60360",
   "metadata": {},
   "outputs": [],
   "source": [
    "c=40\n",
    "d=50"
   ]
  },
  {
   "cell_type": "code",
   "execution_count": 754,
   "id": "52c9cd6f",
   "metadata": {},
   "outputs": [
    {
     "name": "stdout",
     "output_type": "stream",
     "text": [
      "D is greater than C\n"
     ]
    }
   ],
   "source": [
    "if c>d:\n",
    "      print(\"C is greater than D\")\n",
    "else:\n",
    "       print(\"D is greater than C\")"
   ]
  },
  {
   "cell_type": "code",
   "execution_count": 755,
   "id": "7a3c47b7",
   "metadata": {},
   "outputs": [],
   "source": [
    "a=10\n",
    "b=20\n",
    "c=30"
   ]
  },
  {
   "cell_type": "code",
   "execution_count": 756,
   "id": "62218d8a",
   "metadata": {},
   "outputs": [
    {
     "name": "stdout",
     "output_type": "stream",
     "text": [
      "C is the greatest\n"
     ]
    }
   ],
   "source": [
    "if (a>b) & (a>c):\n",
    "     print (\"A is the greatest\")\n",
    "elif (b>a) & (b>c):\n",
    "            print (\"B is the greatest\")\n",
    "else:\n",
    "                 print (\"C is the greatest\")"
   ]
  },
  {
   "cell_type": "code",
   "execution_count": 757,
   "id": "c40485ec",
   "metadata": {},
   "outputs": [],
   "source": [
    "# if with tuple"
   ]
  },
  {
   "cell_type": "code",
   "execution_count": 758,
   "id": "46e692e6",
   "metadata": {},
   "outputs": [],
   "source": [
    "tup1=(\"a\",\"b\",\"c\")"
   ]
  },
  {
   "cell_type": "code",
   "execution_count": 759,
   "id": "a05e7c26",
   "metadata": {},
   "outputs": [
    {
     "name": "stdout",
     "output_type": "stream",
     "text": [
      "value a is in tup1\n"
     ]
    }
   ],
   "source": [
    "if \"a\" in tup1:\n",
    "    print (\"value a is in tup1\" )"
   ]
  },
  {
   "cell_type": "code",
   "execution_count": 760,
   "id": "7f740c03",
   "metadata": {},
   "outputs": [
    {
     "name": "stdout",
     "output_type": "stream",
     "text": [
      "value z is not present in tup1\n"
     ]
    }
   ],
   "source": [
    "if \"z\" in tup1:\n",
    "    print (\"value a is in tup1\" )\n",
    "else:\n",
    "    print (\"value z is not present in tup1\")"
   ]
  },
  {
   "cell_type": "code",
   "execution_count": 761,
   "id": "6667235f",
   "metadata": {},
   "outputs": [],
   "source": [
    "# if with list"
   ]
  },
  {
   "cell_type": "code",
   "execution_count": 762,
   "id": "1a533a45",
   "metadata": {},
   "outputs": [],
   "source": [
    "# looping statement"
   ]
  },
  {
   "cell_type": "code",
   "execution_count": 763,
   "id": "da98c1d5",
   "metadata": {},
   "outputs": [
    {
     "ename": "IndentationError",
     "evalue": "unexpected indent (<ipython-input-763-3fd13d8f6e62>, line 4)",
     "output_type": "error",
     "traceback": [
      "\u001b[1;36m  File \u001b[1;32m\"<ipython-input-763-3fd13d8f6e62>\"\u001b[1;36m, line \u001b[1;32m4\u001b[0m\n\u001b[1;33m    i= i+1`\u001b[0m\n\u001b[1;37m    ^\u001b[0m\n\u001b[1;31mIndentationError\u001b[0m\u001b[1;31m:\u001b[0m unexpected indent\n"
     ]
    }
   ],
   "source": [
    "i=1\n",
    "while i<=10:\n",
    "    print(i)\n",
    "     i= i+1`"
   ]
  },
  {
   "cell_type": "code",
   "execution_count": 764,
   "id": "3cdc7010",
   "metadata": {},
   "outputs": [
    {
     "ename": "SyntaxError",
     "evalue": "unexpected EOF while parsing (<ipython-input-764-465f908194af>, line 3)",
     "output_type": "error",
     "traceback": [
      "\u001b[1;36m  File \u001b[1;32m\"<ipython-input-764-465f908194af>\"\u001b[1;36m, line \u001b[1;32m3\u001b[0m\n\u001b[1;33m    while i<=10:\u001b[0m\n\u001b[1;37m                ^\u001b[0m\n\u001b[1;31mSyntaxError\u001b[0m\u001b[1;31m:\u001b[0m unexpected EOF while parsing\n"
     ]
    }
   ],
   "source": [
    "i=1\n",
    "n=2\n",
    "while i<=10:"
   ]
  },
  {
   "cell_type": "code",
   "execution_count": 765,
   "id": "f132c88e",
   "metadata": {},
   "outputs": [],
   "source": [
    "l1=[1,3,4,5]"
   ]
  },
  {
   "cell_type": "code",
   "execution_count": 766,
   "id": "abe68a55",
   "metadata": {},
   "outputs": [],
   "source": [
    "l1=[\"mango\",\"grapes\",\"orange\"]"
   ]
  },
  {
   "cell_type": "code",
   "execution_count": 767,
   "id": "d81848e8",
   "metadata": {},
   "outputs": [
    {
     "name": "stdout",
     "output_type": "stream",
     "text": [
      "mango\n",
      "grapes\n",
      "orange\n"
     ]
    }
   ],
   "source": [
    "for i in l1:\n",
    "    print(i)"
   ]
  },
  {
   "cell_type": "code",
   "execution_count": 768,
   "id": "6421bcce",
   "metadata": {},
   "outputs": [],
   "source": [
    "l1=[\"orange\",\"white\",\"black\"]"
   ]
  },
  {
   "cell_type": "code",
   "execution_count": 769,
   "id": "c04bb964",
   "metadata": {},
   "outputs": [],
   "source": [
    "l2=[\"chair\", \"book\",\"laptop\"]"
   ]
  },
  {
   "cell_type": "code",
   "execution_count": 770,
   "id": "88be2367",
   "metadata": {},
   "outputs": [
    {
     "name": "stdout",
     "output_type": "stream",
     "text": [
      "orange chair\n",
      "orange book\n",
      "orange laptop\n",
      "white chair\n",
      "white book\n",
      "white laptop\n",
      "black chair\n",
      "black book\n",
      "black laptop\n"
     ]
    }
   ],
   "source": [
    "for i in l1:\n",
    "    for j in l2:\n",
    "        print(i,j)"
   ]
  },
  {
   "cell_type": "code",
   "execution_count": 771,
   "id": "ccafde53",
   "metadata": {},
   "outputs": [],
   "source": [
    "def hello():\n",
    "    print(\"hello world\")"
   ]
  },
  {
   "cell_type": "code",
   "execution_count": 772,
   "id": "67425624",
   "metadata": {},
   "outputs": [
    {
     "name": "stdout",
     "output_type": "stream",
     "text": [
      "hello world\n"
     ]
    }
   ],
   "source": [
    "hello()"
   ]
  },
  {
   "cell_type": "code",
   "execution_count": 773,
   "id": "2657f756",
   "metadata": {},
   "outputs": [],
   "source": [
    "def add_10(x):\n",
    "    return x+10"
   ]
  },
  {
   "cell_type": "code",
   "execution_count": 774,
   "id": "57a64e8a",
   "metadata": {},
   "outputs": [
    {
     "data": {
      "text/plain": [
       "19"
      ]
     },
     "execution_count": 774,
     "metadata": {},
     "output_type": "execute_result"
    }
   ],
   "source": [
    "add_10(9)"
   ]
  },
  {
   "cell_type": "code",
   "execution_count": 775,
   "id": "b8bc0abe",
   "metadata": {},
   "outputs": [],
   "source": [
    "import numpy as np"
   ]
  },
  {
   "cell_type": "code",
   "execution_count": 776,
   "id": "e9369111",
   "metadata": {},
   "outputs": [],
   "source": [
    "n1=np.array([10,20,30,40])"
   ]
  },
  {
   "cell_type": "code",
   "execution_count": 777,
   "id": "7ed2b5e8",
   "metadata": {},
   "outputs": [
    {
     "data": {
      "text/plain": [
       "array([10, 20, 30, 40])"
      ]
     },
     "execution_count": 777,
     "metadata": {},
     "output_type": "execute_result"
    }
   ],
   "source": [
    "n1"
   ]
  },
  {
   "cell_type": "code",
   "execution_count": 778,
   "id": "8548bd3b",
   "metadata": {},
   "outputs": [],
   "source": [
    "n2=np.array([[10,20,30,40],[40,30,20,10]])"
   ]
  },
  {
   "cell_type": "code",
   "execution_count": 779,
   "id": "d6e61234",
   "metadata": {},
   "outputs": [
    {
     "data": {
      "text/plain": [
       "array([[10, 20, 30, 40],\n",
       "       [40, 30, 20, 10]])"
      ]
     },
     "execution_count": 779,
     "metadata": {},
     "output_type": "execute_result"
    }
   ],
   "source": [
    "n2"
   ]
  },
  {
   "cell_type": "code",
   "execution_count": 780,
   "id": "550437c9",
   "metadata": {},
   "outputs": [
    {
     "data": {
      "text/plain": [
       "numpy.ndarray"
      ]
     },
     "execution_count": 780,
     "metadata": {},
     "output_type": "execute_result"
    }
   ],
   "source": [
    "type(n2)"
   ]
  },
  {
   "cell_type": "code",
   "execution_count": 781,
   "id": "65501186",
   "metadata": {},
   "outputs": [],
   "source": [
    "n1=np.zeros((1,2))"
   ]
  },
  {
   "cell_type": "code",
   "execution_count": 782,
   "id": "dbb5a906",
   "metadata": {},
   "outputs": [
    {
     "data": {
      "text/plain": [
       "array([[0., 0.]])"
      ]
     },
     "execution_count": 782,
     "metadata": {},
     "output_type": "execute_result"
    }
   ],
   "source": [
    "n1"
   ]
  },
  {
   "cell_type": "code",
   "execution_count": 783,
   "id": "800646d6",
   "metadata": {},
   "outputs": [],
   "source": [
    "n3=np.zeros((10,10))"
   ]
  },
  {
   "cell_type": "code",
   "execution_count": 784,
   "id": "cf3fd976",
   "metadata": {},
   "outputs": [
    {
     "data": {
      "text/plain": [
       "array([[0., 0., 0., 0., 0., 0., 0., 0., 0., 0.],\n",
       "       [0., 0., 0., 0., 0., 0., 0., 0., 0., 0.],\n",
       "       [0., 0., 0., 0., 0., 0., 0., 0., 0., 0.],\n",
       "       [0., 0., 0., 0., 0., 0., 0., 0., 0., 0.],\n",
       "       [0., 0., 0., 0., 0., 0., 0., 0., 0., 0.],\n",
       "       [0., 0., 0., 0., 0., 0., 0., 0., 0., 0.],\n",
       "       [0., 0., 0., 0., 0., 0., 0., 0., 0., 0.],\n",
       "       [0., 0., 0., 0., 0., 0., 0., 0., 0., 0.],\n",
       "       [0., 0., 0., 0., 0., 0., 0., 0., 0., 0.],\n",
       "       [0., 0., 0., 0., 0., 0., 0., 0., 0., 0.]])"
      ]
     },
     "execution_count": 784,
     "metadata": {},
     "output_type": "execute_result"
    }
   ],
   "source": [
    "n3"
   ]
  },
  {
   "cell_type": "code",
   "execution_count": 785,
   "id": "16f7accc",
   "metadata": {},
   "outputs": [],
   "source": [
    "n1=np.full((2,2),10)"
   ]
  },
  {
   "cell_type": "code",
   "execution_count": 786,
   "id": "ed5acbd1",
   "metadata": {},
   "outputs": [
    {
     "data": {
      "text/plain": [
       "array([[10, 10],\n",
       "       [10, 10]])"
      ]
     },
     "execution_count": 786,
     "metadata": {},
     "output_type": "execute_result"
    }
   ],
   "source": [
    "n1"
   ]
  },
  {
   "cell_type": "code",
   "execution_count": 787,
   "id": "9bae56ae",
   "metadata": {},
   "outputs": [
    {
     "data": {
      "text/plain": [
       "array([[10, 10],\n",
       "       [10, 10]])"
      ]
     },
     "execution_count": 787,
     "metadata": {},
     "output_type": "execute_result"
    }
   ],
   "source": [
    "n1"
   ]
  },
  {
   "cell_type": "code",
   "execution_count": 788,
   "id": "2b90cfcd",
   "metadata": {},
   "outputs": [],
   "source": [
    "n4=np.full((4,4),6)"
   ]
  },
  {
   "cell_type": "code",
   "execution_count": 789,
   "id": "c123dc33",
   "metadata": {},
   "outputs": [
    {
     "data": {
      "text/plain": [
       "array([[6, 6, 6, 6],\n",
       "       [6, 6, 6, 6],\n",
       "       [6, 6, 6, 6],\n",
       "       [6, 6, 6, 6]])"
      ]
     },
     "execution_count": 789,
     "metadata": {},
     "output_type": "execute_result"
    }
   ],
   "source": [
    "n4"
   ]
  },
  {
   "cell_type": "code",
   "execution_count": 790,
   "id": "19ba8ad7",
   "metadata": {},
   "outputs": [],
   "source": [
    "n1=np.arange(10,20)"
   ]
  },
  {
   "cell_type": "code",
   "execution_count": 791,
   "id": "db5ad19a",
   "metadata": {},
   "outputs": [
    {
     "data": {
      "text/plain": [
       "array([10, 11, 12, 13, 14, 15, 16, 17, 18, 19])"
      ]
     },
     "execution_count": 791,
     "metadata": {},
     "output_type": "execute_result"
    }
   ],
   "source": [
    "n1"
   ]
  },
  {
   "cell_type": "code",
   "execution_count": 792,
   "id": "5fa664c3",
   "metadata": {},
   "outputs": [],
   "source": [
    "n1=np.arange(10,50,5)"
   ]
  },
  {
   "cell_type": "code",
   "execution_count": 793,
   "id": "3d8b5cca",
   "metadata": {},
   "outputs": [
    {
     "data": {
      "text/plain": [
       "array([10, 15, 20, 25, 30, 35, 40, 45])"
      ]
     },
     "execution_count": 793,
     "metadata": {},
     "output_type": "execute_result"
    }
   ],
   "source": [
    "n1"
   ]
  },
  {
   "cell_type": "code",
   "execution_count": 794,
   "id": "eb0ebdf6",
   "metadata": {},
   "outputs": [],
   "source": [
    "n1=np.random.randint(1,100,5)"
   ]
  },
  {
   "cell_type": "code",
   "execution_count": 795,
   "id": "0728a956",
   "metadata": {},
   "outputs": [
    {
     "data": {
      "text/plain": [
       "array([22, 13, 16, 82, 57])"
      ]
     },
     "execution_count": 795,
     "metadata": {},
     "output_type": "execute_result"
    }
   ],
   "source": [
    "n1"
   ]
  },
  {
   "cell_type": "code",
   "execution_count": 796,
   "id": "4c68149a",
   "metadata": {},
   "outputs": [],
   "source": [
    "n1=np.array([[1,2,3],[4,5,6]])"
   ]
  },
  {
   "cell_type": "code",
   "execution_count": 797,
   "id": "a1692add",
   "metadata": {},
   "outputs": [
    {
     "data": {
      "text/plain": [
       "array([[1, 2, 3],\n",
       "       [4, 5, 6]])"
      ]
     },
     "execution_count": 797,
     "metadata": {},
     "output_type": "execute_result"
    }
   ],
   "source": [
    "n1"
   ]
  },
  {
   "cell_type": "code",
   "execution_count": 798,
   "id": "8c6a5486",
   "metadata": {},
   "outputs": [
    {
     "data": {
      "text/plain": [
       "(2, 3)"
      ]
     },
     "execution_count": 798,
     "metadata": {},
     "output_type": "execute_result"
    }
   ],
   "source": [
    "n1.shape"
   ]
  },
  {
   "cell_type": "code",
   "execution_count": 799,
   "id": "571da5e9",
   "metadata": {},
   "outputs": [],
   "source": [
    "n1.shape=(3,2)"
   ]
  },
  {
   "cell_type": "code",
   "execution_count": 800,
   "id": "18bb252f",
   "metadata": {},
   "outputs": [
    {
     "data": {
      "text/plain": [
       "array([[1, 2],\n",
       "       [3, 4],\n",
       "       [5, 6]])"
      ]
     },
     "execution_count": 800,
     "metadata": {},
     "output_type": "execute_result"
    }
   ],
   "source": [
    "n1"
   ]
  },
  {
   "cell_type": "code",
   "execution_count": 801,
   "id": "d50e983e",
   "metadata": {},
   "outputs": [],
   "source": [
    "n1=np.array([10,20,30])"
   ]
  },
  {
   "cell_type": "code",
   "execution_count": 802,
   "id": "269ea34e",
   "metadata": {},
   "outputs": [],
   "source": [
    "n2=np.array([40,50,60])"
   ]
  },
  {
   "cell_type": "code",
   "execution_count": 803,
   "id": "8acb5af3",
   "metadata": {},
   "outputs": [
    {
     "data": {
      "text/plain": [
       "array([[10, 20, 30],\n",
       "       [40, 50, 60]])"
      ]
     },
     "execution_count": 803,
     "metadata": {},
     "output_type": "execute_result"
    }
   ],
   "source": [
    "np.vstack((n1,n2))"
   ]
  },
  {
   "cell_type": "code",
   "execution_count": 804,
   "id": "0226b290",
   "metadata": {},
   "outputs": [
    {
     "data": {
      "text/plain": [
       "array([10, 20, 30, 40, 50, 60])"
      ]
     },
     "execution_count": 804,
     "metadata": {},
     "output_type": "execute_result"
    }
   ],
   "source": [
    "np.hstack((n1,n2))"
   ]
  },
  {
   "cell_type": "code",
   "execution_count": 805,
   "id": "54aab823",
   "metadata": {},
   "outputs": [
    {
     "data": {
      "text/plain": [
       "array([[10, 40],\n",
       "       [20, 50],\n",
       "       [30, 60]])"
      ]
     },
     "execution_count": 805,
     "metadata": {},
     "output_type": "execute_result"
    }
   ],
   "source": [
    "np.column_stack((n1,n2))"
   ]
  },
  {
   "cell_type": "code",
   "execution_count": 806,
   "id": "87c6b6c6",
   "metadata": {},
   "outputs": [],
   "source": [
    "n1=np.array([10,20,30,40,50,60])"
   ]
  },
  {
   "cell_type": "code",
   "execution_count": 807,
   "id": "f98cae04",
   "metadata": {},
   "outputs": [],
   "source": [
    "n2=np.array([50,60,70,80,90])"
   ]
  },
  {
   "cell_type": "code",
   "execution_count": 808,
   "id": "869d2d24",
   "metadata": {},
   "outputs": [
    {
     "data": {
      "text/plain": [
       "array([50, 60])"
      ]
     },
     "execution_count": 808,
     "metadata": {},
     "output_type": "execute_result"
    }
   ],
   "source": [
    "np.intersect1d(n1,n2)"
   ]
  },
  {
   "cell_type": "code",
   "execution_count": 809,
   "id": "1b23b994",
   "metadata": {},
   "outputs": [
    {
     "data": {
      "text/plain": [
       "array([50, 60])"
      ]
     },
     "execution_count": 809,
     "metadata": {},
     "output_type": "execute_result"
    }
   ],
   "source": [
    "np.intersect1d(n1,n2)"
   ]
  },
  {
   "cell_type": "code",
   "execution_count": 810,
   "id": "5a8931cd",
   "metadata": {},
   "outputs": [
    {
     "data": {
      "text/plain": [
       "array([10, 20, 30, 40])"
      ]
     },
     "execution_count": 810,
     "metadata": {},
     "output_type": "execute_result"
    }
   ],
   "source": [
    "np.setdiff1d(n1,n2)"
   ]
  },
  {
   "cell_type": "code",
   "execution_count": 811,
   "id": "4eb581c9",
   "metadata": {},
   "outputs": [
    {
     "ename": "SyntaxError",
     "evalue": "cannot assign to function call (<ipython-input-811-fd64d8a46151>, line 1)",
     "output_type": "error",
     "traceback": [
      "\u001b[1;36m  File \u001b[1;32m\"<ipython-input-811-fd64d8a46151>\"\u001b[1;36m, line \u001b[1;32m1\u001b[0m\n\u001b[1;33m    np.sum([n1,n2]), axis=0\u001b[0m\n\u001b[1;37m    ^\u001b[0m\n\u001b[1;31mSyntaxError\u001b[0m\u001b[1;31m:\u001b[0m cannot assign to function call\n"
     ]
    }
   ],
   "source": [
    "np.sum([n1,n2]), axis=0"
   ]
  },
  {
   "cell_type": "markdown",
   "id": "c99fcd89",
   "metadata": {},
   "source": [
    "n1=np.array([10,20])"
   ]
  },
  {
   "cell_type": "code",
   "execution_count": 812,
   "id": "d2039d98",
   "metadata": {},
   "outputs": [],
   "source": [
    "n1=np.array([10,20])"
   ]
  },
  {
   "cell_type": "code",
   "execution_count": 813,
   "id": "b5efe929",
   "metadata": {},
   "outputs": [],
   "source": [
    "n2=np.array([20,30])"
   ]
  },
  {
   "cell_type": "code",
   "execution_count": 814,
   "id": "12bc085a",
   "metadata": {},
   "outputs": [
    {
     "data": {
      "text/plain": [
       "80"
      ]
     },
     "execution_count": 814,
     "metadata": {},
     "output_type": "execute_result"
    }
   ],
   "source": [
    "np.sum([n1,n2])"
   ]
  },
  {
   "cell_type": "code",
   "execution_count": 815,
   "id": "3548b406",
   "metadata": {},
   "outputs": [
    {
     "data": {
      "text/plain": [
       "array([15, 25])"
      ]
     },
     "execution_count": 815,
     "metadata": {},
     "output_type": "execute_result"
    }
   ],
   "source": [
    "n1+5"
   ]
  },
  {
   "cell_type": "code",
   "execution_count": 816,
   "id": "62d6b725",
   "metadata": {},
   "outputs": [
    {
     "data": {
      "text/plain": [
       "array([12, 22])"
      ]
     },
     "execution_count": 816,
     "metadata": {},
     "output_type": "execute_result"
    }
   ],
   "source": [
    "n1+2"
   ]
  },
  {
   "cell_type": "code",
   "execution_count": 817,
   "id": "01119849",
   "metadata": {},
   "outputs": [
    {
     "data": {
      "text/plain": [
       "array([ 90, 180])"
      ]
     },
     "execution_count": 817,
     "metadata": {},
     "output_type": "execute_result"
    }
   ],
   "source": [
    "n1*9"
   ]
  },
  {
   "cell_type": "code",
   "execution_count": 818,
   "id": "cebfba1a",
   "metadata": {},
   "outputs": [
    {
     "data": {
      "text/plain": [
       "15.0"
      ]
     },
     "execution_count": 818,
     "metadata": {},
     "output_type": "execute_result"
    }
   ],
   "source": [
    "np.mean(n1)"
   ]
  },
  {
   "cell_type": "code",
   "execution_count": 819,
   "id": "78d67c86",
   "metadata": {},
   "outputs": [
    {
     "data": {
      "text/plain": [
       "15.0"
      ]
     },
     "execution_count": 819,
     "metadata": {},
     "output_type": "execute_result"
    }
   ],
   "source": [
    "np.median(n1)"
   ]
  },
  {
   "cell_type": "code",
   "execution_count": 820,
   "id": "c4e4d8a1",
   "metadata": {},
   "outputs": [
    {
     "ename": "AttributeError",
     "evalue": "module 'numpy' has no attribute 'mode'",
     "output_type": "error",
     "traceback": [
      "\u001b[1;31m---------------------------------------------------------------------------\u001b[0m",
      "\u001b[1;31mAttributeError\u001b[0m                            Traceback (most recent call last)",
      "\u001b[1;32m<ipython-input-820-aa485b321aa5>\u001b[0m in \u001b[0;36m<module>\u001b[1;34m\u001b[0m\n\u001b[1;32m----> 1\u001b[1;33m \u001b[0mnp\u001b[0m\u001b[1;33m.\u001b[0m\u001b[0mmode\u001b[0m\u001b[1;33m(\u001b[0m\u001b[0mn1\u001b[0m\u001b[1;33m)\u001b[0m\u001b[1;33m\u001b[0m\u001b[1;33m\u001b[0m\u001b[0m\n\u001b[0m",
      "\u001b[1;32m~\\Anaconda3\\lib\\site-packages\\numpy\\__init__.py\u001b[0m in \u001b[0;36m__getattr__\u001b[1;34m(attr)\u001b[0m\n\u001b[0;32m    301\u001b[0m                 \u001b[1;32mreturn\u001b[0m \u001b[0mTester\u001b[0m\u001b[1;33m\u001b[0m\u001b[1;33m\u001b[0m\u001b[0m\n\u001b[0;32m    302\u001b[0m \u001b[1;33m\u001b[0m\u001b[0m\n\u001b[1;32m--> 303\u001b[1;33m             raise AttributeError(\"module {!r} has no attribute \"\n\u001b[0m\u001b[0;32m    304\u001b[0m                                  \"{!r}\".format(__name__, attr))\n\u001b[0;32m    305\u001b[0m \u001b[1;33m\u001b[0m\u001b[0m\n",
      "\u001b[1;31mAttributeError\u001b[0m: module 'numpy' has no attribute 'mode'"
     ]
    }
   ],
   "source": [
    "np.mode(n1)"
   ]
  },
  {
   "cell_type": "code",
   "execution_count": null,
   "id": "b137f119",
   "metadata": {},
   "outputs": [],
   "source": [
    "n2=np.array([10,10,20])"
   ]
  },
  {
   "cell_type": "code",
   "execution_count": null,
   "id": "d603e056",
   "metadata": {},
   "outputs": [],
   "source": [
    "np.mode(n2)"
   ]
  },
  {
   "cell_type": "code",
   "execution_count": null,
   "id": "6fb4cc0f",
   "metadata": {},
   "outputs": [],
   "source": [
    "np.std(n1)"
   ]
  },
  {
   "cell_type": "code",
   "execution_count": 821,
   "id": "be5171f5",
   "metadata": {},
   "outputs": [],
   "source": [
    "n1=np.random.randint(1,100,40)"
   ]
  },
  {
   "cell_type": "code",
   "execution_count": 822,
   "id": "b7c76b4f",
   "metadata": {},
   "outputs": [
    {
     "data": {
      "text/plain": [
       "array([99, 94, 47, 85, 83,  4, 41, 84, 67, 25, 11, 13,  1, 65, 58, 27, 71,\n",
       "       11, 10,  1, 54, 32, 90, 68, 87, 71, 68, 79, 32, 48, 11, 37, 95, 94,\n",
       "       32, 35, 26, 42, 21, 85])"
      ]
     },
     "execution_count": 822,
     "metadata": {},
     "output_type": "execute_result"
    }
   ],
   "source": [
    "n1"
   ]
  },
  {
   "cell_type": "code",
   "execution_count": 823,
   "id": "f368738d",
   "metadata": {},
   "outputs": [
    {
     "data": {
      "text/plain": [
       "50.1"
      ]
     },
     "execution_count": 823,
     "metadata": {},
     "output_type": "execute_result"
    }
   ],
   "source": [
    "np.mean(n1)"
   ]
  },
  {
   "cell_type": "code",
   "execution_count": 824,
   "id": "a7d674b1",
   "metadata": {},
   "outputs": [
    {
     "data": {
      "text/plain": [
       "19.0"
      ]
     },
     "execution_count": 824,
     "metadata": {},
     "output_type": "execute_result"
    }
   ],
   "source": [
    "np.median(19)"
   ]
  },
  {
   "cell_type": "code",
   "execution_count": 825,
   "id": "f4a3b406",
   "metadata": {},
   "outputs": [
    {
     "data": {
      "text/plain": [
       "47.5"
      ]
     },
     "execution_count": 825,
     "metadata": {},
     "output_type": "execute_result"
    }
   ],
   "source": [
    "np.median(n1)"
   ]
  },
  {
   "cell_type": "code",
   "execution_count": 826,
   "id": "cae1de4e",
   "metadata": {},
   "outputs": [
    {
     "data": {
      "text/plain": [
       "array([99, 94, 47, 85, 83,  4, 41, 84, 67, 25, 11, 13,  1, 65, 58, 27, 71,\n",
       "       11, 10,  1, 54, 32, 90, 68, 87, 71, 68, 79, 32, 48, 11, 37, 95, 94,\n",
       "       32, 35, 26, 42, 21, 85])"
      ]
     },
     "execution_count": 826,
     "metadata": {},
     "output_type": "execute_result"
    }
   ],
   "source": [
    "n1"
   ]
  },
  {
   "cell_type": "code",
   "execution_count": 827,
   "id": "91c04ca0",
   "metadata": {},
   "outputs": [],
   "source": [
    "np.save(\"my_numpy\",n1)"
   ]
  },
  {
   "cell_type": "code",
   "execution_count": 828,
   "id": "6b5f17f6",
   "metadata": {},
   "outputs": [],
   "source": [
    "n2=np.load(\"my_numpy.npy\")"
   ]
  },
  {
   "cell_type": "code",
   "execution_count": 829,
   "id": "475e0f5e",
   "metadata": {},
   "outputs": [
    {
     "data": {
      "text/plain": [
       "array([99, 94, 47, 85, 83,  4, 41, 84, 67, 25, 11, 13,  1, 65, 58, 27, 71,\n",
       "       11, 10,  1, 54, 32, 90, 68, 87, 71, 68, 79, 32, 48, 11, 37, 95, 94,\n",
       "       32, 35, 26, 42, 21, 85])"
      ]
     },
     "execution_count": 829,
     "metadata": {},
     "output_type": "execute_result"
    }
   ],
   "source": [
    "n2"
   ]
  },
  {
   "cell_type": "code",
   "execution_count": null,
   "id": "98209942",
   "metadata": {},
   "outputs": [],
   "source": []
  },
  {
   "cell_type": "code",
   "execution_count": 830,
   "id": "6a535ab6",
   "metadata": {},
   "outputs": [],
   "source": [
    "# series object is the one dimensional lebeled array"
   ]
  },
  {
   "cell_type": "code",
   "execution_count": 831,
   "id": "79c8bea8",
   "metadata": {},
   "outputs": [],
   "source": [
    "import pandas as pd"
   ]
  },
  {
   "cell_type": "code",
   "execution_count": 832,
   "id": "a1bec877",
   "metadata": {},
   "outputs": [],
   "source": [
    "s1=pd.Series([1,2,3,4,5])"
   ]
  },
  {
   "cell_type": "code",
   "execution_count": 833,
   "id": "de5ba4bb",
   "metadata": {},
   "outputs": [
    {
     "data": {
      "text/plain": [
       "0    1\n",
       "1    2\n",
       "2    3\n",
       "3    4\n",
       "4    5\n",
       "dtype: int64"
      ]
     },
     "execution_count": 833,
     "metadata": {},
     "output_type": "execute_result"
    }
   ],
   "source": [
    "s1"
   ]
  },
  {
   "cell_type": "code",
   "execution_count": 834,
   "id": "6cf08d10",
   "metadata": {},
   "outputs": [
    {
     "ename": "TypeError",
     "evalue": "'Series' object is not callable",
     "output_type": "error",
     "traceback": [
      "\u001b[1;31m---------------------------------------------------------------------------\u001b[0m",
      "\u001b[1;31mTypeError\u001b[0m                                 Traceback (most recent call last)",
      "\u001b[1;32m<ipython-input-834-ded3df344030>\u001b[0m in \u001b[0;36m<module>\u001b[1;34m\u001b[0m\n\u001b[1;32m----> 1\u001b[1;33m \u001b[0ms1\u001b[0m\u001b[1;33m(\u001b[0m\u001b[0mtype\u001b[0m\u001b[1;33m)\u001b[0m\u001b[1;33m\u001b[0m\u001b[1;33m\u001b[0m\u001b[0m\n\u001b[0m",
      "\u001b[1;31mTypeError\u001b[0m: 'Series' object is not callable"
     ]
    }
   ],
   "source": [
    "s1(type)"
   ]
  },
  {
   "cell_type": "code",
   "execution_count": 835,
   "id": "22faae99",
   "metadata": {},
   "outputs": [
    {
     "ename": "AttributeError",
     "evalue": "'Series' object has no attribute 'type'",
     "output_type": "error",
     "traceback": [
      "\u001b[1;31m---------------------------------------------------------------------------\u001b[0m",
      "\u001b[1;31mAttributeError\u001b[0m                            Traceback (most recent call last)",
      "\u001b[1;32m<ipython-input-835-9ab206a7810b>\u001b[0m in \u001b[0;36m<module>\u001b[1;34m\u001b[0m\n\u001b[1;32m----> 1\u001b[1;33m \u001b[0ms1\u001b[0m\u001b[1;33m.\u001b[0m\u001b[0mtype\u001b[0m\u001b[1;33m(\u001b[0m\u001b[1;33m)\u001b[0m\u001b[1;33m\u001b[0m\u001b[1;33m\u001b[0m\u001b[0m\n\u001b[0m",
      "\u001b[1;32m~\\Anaconda3\\lib\\site-packages\\pandas\\core\\generic.py\u001b[0m in \u001b[0;36m__getattr__\u001b[1;34m(self, name)\u001b[0m\n\u001b[0;32m   5463\u001b[0m             \u001b[1;32mif\u001b[0m \u001b[0mself\u001b[0m\u001b[1;33m.\u001b[0m\u001b[0m_info_axis\u001b[0m\u001b[1;33m.\u001b[0m\u001b[0m_can_hold_identifiers_and_holds_name\u001b[0m\u001b[1;33m(\u001b[0m\u001b[0mname\u001b[0m\u001b[1;33m)\u001b[0m\u001b[1;33m:\u001b[0m\u001b[1;33m\u001b[0m\u001b[1;33m\u001b[0m\u001b[0m\n\u001b[0;32m   5464\u001b[0m                 \u001b[1;32mreturn\u001b[0m \u001b[0mself\u001b[0m\u001b[1;33m[\u001b[0m\u001b[0mname\u001b[0m\u001b[1;33m]\u001b[0m\u001b[1;33m\u001b[0m\u001b[1;33m\u001b[0m\u001b[0m\n\u001b[1;32m-> 5465\u001b[1;33m             \u001b[1;32mreturn\u001b[0m \u001b[0mobject\u001b[0m\u001b[1;33m.\u001b[0m\u001b[0m__getattribute__\u001b[0m\u001b[1;33m(\u001b[0m\u001b[0mself\u001b[0m\u001b[1;33m,\u001b[0m \u001b[0mname\u001b[0m\u001b[1;33m)\u001b[0m\u001b[1;33m\u001b[0m\u001b[1;33m\u001b[0m\u001b[0m\n\u001b[0m\u001b[0;32m   5466\u001b[0m \u001b[1;33m\u001b[0m\u001b[0m\n\u001b[0;32m   5467\u001b[0m     \u001b[1;32mdef\u001b[0m \u001b[0m__setattr__\u001b[0m\u001b[1;33m(\u001b[0m\u001b[0mself\u001b[0m\u001b[1;33m,\u001b[0m \u001b[0mname\u001b[0m\u001b[1;33m:\u001b[0m \u001b[0mstr\u001b[0m\u001b[1;33m,\u001b[0m \u001b[0mvalue\u001b[0m\u001b[1;33m)\u001b[0m \u001b[1;33m->\u001b[0m \u001b[1;32mNone\u001b[0m\u001b[1;33m:\u001b[0m\u001b[1;33m\u001b[0m\u001b[1;33m\u001b[0m\u001b[0m\n",
      "\u001b[1;31mAttributeError\u001b[0m: 'Series' object has no attribute 'type'"
     ]
    }
   ],
   "source": [
    "s1.type()"
   ]
  },
  {
   "cell_type": "code",
   "execution_count": 836,
   "id": "81a97755",
   "metadata": {},
   "outputs": [
    {
     "data": {
      "text/plain": [
       "pandas.core.series.Series"
      ]
     },
     "execution_count": 836,
     "metadata": {},
     "output_type": "execute_result"
    }
   ],
   "source": [
    "type(s1)"
   ]
  },
  {
   "cell_type": "markdown",
   "id": "7c976783",
   "metadata": {},
   "source": [
    "### s1"
   ]
  },
  {
   "cell_type": "code",
   "execution_count": 837,
   "id": "735f530a",
   "metadata": {},
   "outputs": [],
   "source": [
    "s5=pd.Series({\"K1\":10,\"K2\":20,\"K3\":30})"
   ]
  },
  {
   "cell_type": "code",
   "execution_count": 838,
   "id": "4c4a8950",
   "metadata": {},
   "outputs": [
    {
     "data": {
      "text/plain": [
       "K1    10\n",
       "K2    20\n",
       "K3    30\n",
       "dtype: int64"
      ]
     },
     "execution_count": 838,
     "metadata": {},
     "output_type": "execute_result"
    }
   ],
   "source": [
    "s5"
   ]
  },
  {
   "cell_type": "code",
   "execution_count": 839,
   "id": "27fcbd78",
   "metadata": {},
   "outputs": [],
   "source": [
    "s1=pd.Series([1,2,3,4,5,6,7])"
   ]
  },
  {
   "cell_type": "code",
   "execution_count": 840,
   "id": "a9a69844",
   "metadata": {},
   "outputs": [
    {
     "data": {
      "text/plain": [
       "0    1\n",
       "1    2\n",
       "2    3\n",
       "3    4\n",
       "4    5\n",
       "5    6\n",
       "6    7\n",
       "dtype: int64"
      ]
     },
     "execution_count": 840,
     "metadata": {},
     "output_type": "execute_result"
    }
   ],
   "source": [
    "s1\n"
   ]
  },
  {
   "cell_type": "code",
   "execution_count": 841,
   "id": "24395c3e",
   "metadata": {},
   "outputs": [
    {
     "data": {
      "text/plain": [
       "0    1\n",
       "1    2\n",
       "2    3\n",
       "3    4\n",
       "4    5\n",
       "5    6\n",
       "6    7\n",
       "dtype: int64"
      ]
     },
     "execution_count": 841,
     "metadata": {},
     "output_type": "execute_result"
    }
   ],
   "source": [
    "s1"
   ]
  },
  {
   "cell_type": "code",
   "execution_count": 842,
   "id": "8fdb3620",
   "metadata": {},
   "outputs": [
    {
     "data": {
      "text/plain": [
       "0     6\n",
       "1     7\n",
       "2     8\n",
       "3     9\n",
       "4    10\n",
       "5    11\n",
       "6    12\n",
       "dtype: int64"
      ]
     },
     "execution_count": 842,
     "metadata": {},
     "output_type": "execute_result"
    }
   ],
   "source": [
    "s1+5"
   ]
  },
  {
   "cell_type": "code",
   "execution_count": 843,
   "id": "4dfdc547",
   "metadata": {},
   "outputs": [
    {
     "data": {
      "text/plain": [
       "0   -99\n",
       "1   -98\n",
       "2   -97\n",
       "3   -96\n",
       "4   -95\n",
       "5   -94\n",
       "6   -93\n",
       "dtype: int64"
      ]
     },
     "execution_count": 843,
     "metadata": {},
     "output_type": "execute_result"
    }
   ],
   "source": [
    "s1-100"
   ]
  },
  {
   "cell_type": "code",
   "execution_count": 844,
   "id": "49c131a0",
   "metadata": {},
   "outputs": [
    {
     "ename": "AttributeError",
     "evalue": "module 'pandas' has no attribute 'series'",
     "output_type": "error",
     "traceback": [
      "\u001b[1;31m---------------------------------------------------------------------------\u001b[0m",
      "\u001b[1;31mAttributeError\u001b[0m                            Traceback (most recent call last)",
      "\u001b[1;32m<ipython-input-844-e8c7e811cea8>\u001b[0m in \u001b[0;36m<module>\u001b[1;34m\u001b[0m\n\u001b[1;32m----> 1\u001b[1;33m \u001b[0ms2\u001b[0m\u001b[1;33m=\u001b[0m\u001b[0mpd\u001b[0m\u001b[1;33m.\u001b[0m\u001b[0mseries\u001b[0m\u001b[1;33m\u001b[0m\u001b[1;33m\u001b[0m\u001b[0m\n\u001b[0m",
      "\u001b[1;32m~\\Anaconda3\\lib\\site-packages\\pandas\\__init__.py\u001b[0m in \u001b[0;36m__getattr__\u001b[1;34m(name)\u001b[0m\n\u001b[0;32m    242\u001b[0m         \u001b[1;32mreturn\u001b[0m \u001b[0m_SparseArray\u001b[0m\u001b[1;33m\u001b[0m\u001b[1;33m\u001b[0m\u001b[0m\n\u001b[0;32m    243\u001b[0m \u001b[1;33m\u001b[0m\u001b[0m\n\u001b[1;32m--> 244\u001b[1;33m     \u001b[1;32mraise\u001b[0m \u001b[0mAttributeError\u001b[0m\u001b[1;33m(\u001b[0m\u001b[1;34mf\"module 'pandas' has no attribute '{name}'\"\u001b[0m\u001b[1;33m)\u001b[0m\u001b[1;33m\u001b[0m\u001b[1;33m\u001b[0m\u001b[0m\n\u001b[0m\u001b[0;32m    245\u001b[0m \u001b[1;33m\u001b[0m\u001b[0m\n\u001b[0;32m    246\u001b[0m \u001b[1;33m\u001b[0m\u001b[0m\n",
      "\u001b[1;31mAttributeError\u001b[0m: module 'pandas' has no attribute 'series'"
     ]
    }
   ],
   "source": [
    "s2=pd.series"
   ]
  },
  {
   "cell_type": "code",
   "execution_count": 845,
   "id": "1175b09c",
   "metadata": {},
   "outputs": [
    {
     "data": {
      "text/html": [
       "<div>\n",
       "<style scoped>\n",
       "    .dataframe tbody tr th:only-of-type {\n",
       "        vertical-align: middle;\n",
       "    }\n",
       "\n",
       "    .dataframe tbody tr th {\n",
       "        vertical-align: top;\n",
       "    }\n",
       "\n",
       "    .dataframe thead th {\n",
       "        text-align: right;\n",
       "    }\n",
       "</style>\n",
       "<table border=\"1\" class=\"dataframe\">\n",
       "  <thead>\n",
       "    <tr style=\"text-align: right;\">\n",
       "      <th></th>\n",
       "      <th>Name</th>\n",
       "      <th>Marks</th>\n",
       "    </tr>\n",
       "  </thead>\n",
       "  <tbody>\n",
       "    <tr>\n",
       "      <th>0</th>\n",
       "      <td>Annie</td>\n",
       "      <td>75</td>\n",
       "    </tr>\n",
       "    <tr>\n",
       "      <th>1</th>\n",
       "      <td>Bob</td>\n",
       "      <td>12</td>\n",
       "    </tr>\n",
       "    <tr>\n",
       "      <th>2</th>\n",
       "      <td>Mat</td>\n",
       "      <td>82</td>\n",
       "    </tr>\n",
       "  </tbody>\n",
       "</table>\n",
       "</div>"
      ],
      "text/plain": [
       "    Name  Marks\n",
       "0  Annie     75\n",
       "1    Bob     12\n",
       "2    Mat     82"
      ]
     },
     "execution_count": 845,
     "metadata": {},
     "output_type": "execute_result"
    }
   ],
   "source": [
    "pd.DataFrame({\"Name\":[\"Annie\",\"Bob\",\"Mat\"], \"Marks\":[75,12,82]})"
   ]
  },
  {
   "cell_type": "code",
   "execution_count": 846,
   "id": "1ddecc47",
   "metadata": {},
   "outputs": [
    {
     "ename": "FileNotFoundError",
     "evalue": "[Errno 2] No such file or directory: 'iris.csv'",
     "output_type": "error",
     "traceback": [
      "\u001b[1;31m---------------------------------------------------------------------------\u001b[0m",
      "\u001b[1;31mFileNotFoundError\u001b[0m                         Traceback (most recent call last)",
      "\u001b[1;32m<ipython-input-846-1a0bd1f08d2e>\u001b[0m in \u001b[0;36m<module>\u001b[1;34m\u001b[0m\n\u001b[1;32m----> 1\u001b[1;33m \u001b[0miris\u001b[0m\u001b[1;33m=\u001b[0m\u001b[0mpd\u001b[0m\u001b[1;33m.\u001b[0m\u001b[0mread_csv\u001b[0m\u001b[1;33m(\u001b[0m\u001b[1;34m\"iris.csv\"\u001b[0m\u001b[1;33m)\u001b[0m\u001b[1;33m\u001b[0m\u001b[1;33m\u001b[0m\u001b[0m\n\u001b[0m",
      "\u001b[1;32m~\\Anaconda3\\lib\\site-packages\\pandas\\io\\parsers.py\u001b[0m in \u001b[0;36mread_csv\u001b[1;34m(filepath_or_buffer, sep, delimiter, header, names, index_col, usecols, squeeze, prefix, mangle_dupe_cols, dtype, engine, converters, true_values, false_values, skipinitialspace, skiprows, skipfooter, nrows, na_values, keep_default_na, na_filter, verbose, skip_blank_lines, parse_dates, infer_datetime_format, keep_date_col, date_parser, dayfirst, cache_dates, iterator, chunksize, compression, thousands, decimal, lineterminator, quotechar, quoting, doublequote, escapechar, comment, encoding, dialect, error_bad_lines, warn_bad_lines, delim_whitespace, low_memory, memory_map, float_precision, storage_options)\u001b[0m\n\u001b[0;32m    608\u001b[0m     \u001b[0mkwds\u001b[0m\u001b[1;33m.\u001b[0m\u001b[0mupdate\u001b[0m\u001b[1;33m(\u001b[0m\u001b[0mkwds_defaults\u001b[0m\u001b[1;33m)\u001b[0m\u001b[1;33m\u001b[0m\u001b[1;33m\u001b[0m\u001b[0m\n\u001b[0;32m    609\u001b[0m \u001b[1;33m\u001b[0m\u001b[0m\n\u001b[1;32m--> 610\u001b[1;33m     \u001b[1;32mreturn\u001b[0m \u001b[0m_read\u001b[0m\u001b[1;33m(\u001b[0m\u001b[0mfilepath_or_buffer\u001b[0m\u001b[1;33m,\u001b[0m \u001b[0mkwds\u001b[0m\u001b[1;33m)\u001b[0m\u001b[1;33m\u001b[0m\u001b[1;33m\u001b[0m\u001b[0m\n\u001b[0m\u001b[0;32m    611\u001b[0m \u001b[1;33m\u001b[0m\u001b[0m\n\u001b[0;32m    612\u001b[0m \u001b[1;33m\u001b[0m\u001b[0m\n",
      "\u001b[1;32m~\\Anaconda3\\lib\\site-packages\\pandas\\io\\parsers.py\u001b[0m in \u001b[0;36m_read\u001b[1;34m(filepath_or_buffer, kwds)\u001b[0m\n\u001b[0;32m    460\u001b[0m \u001b[1;33m\u001b[0m\u001b[0m\n\u001b[0;32m    461\u001b[0m     \u001b[1;31m# Create the parser.\u001b[0m\u001b[1;33m\u001b[0m\u001b[1;33m\u001b[0m\u001b[1;33m\u001b[0m\u001b[0m\n\u001b[1;32m--> 462\u001b[1;33m     \u001b[0mparser\u001b[0m \u001b[1;33m=\u001b[0m \u001b[0mTextFileReader\u001b[0m\u001b[1;33m(\u001b[0m\u001b[0mfilepath_or_buffer\u001b[0m\u001b[1;33m,\u001b[0m \u001b[1;33m**\u001b[0m\u001b[0mkwds\u001b[0m\u001b[1;33m)\u001b[0m\u001b[1;33m\u001b[0m\u001b[1;33m\u001b[0m\u001b[0m\n\u001b[0m\u001b[0;32m    463\u001b[0m \u001b[1;33m\u001b[0m\u001b[0m\n\u001b[0;32m    464\u001b[0m     \u001b[1;32mif\u001b[0m \u001b[0mchunksize\u001b[0m \u001b[1;32mor\u001b[0m \u001b[0miterator\u001b[0m\u001b[1;33m:\u001b[0m\u001b[1;33m\u001b[0m\u001b[1;33m\u001b[0m\u001b[0m\n",
      "\u001b[1;32m~\\Anaconda3\\lib\\site-packages\\pandas\\io\\parsers.py\u001b[0m in \u001b[0;36m__init__\u001b[1;34m(self, f, engine, **kwds)\u001b[0m\n\u001b[0;32m    817\u001b[0m             \u001b[0mself\u001b[0m\u001b[1;33m.\u001b[0m\u001b[0moptions\u001b[0m\u001b[1;33m[\u001b[0m\u001b[1;34m\"has_index_names\"\u001b[0m\u001b[1;33m]\u001b[0m \u001b[1;33m=\u001b[0m \u001b[0mkwds\u001b[0m\u001b[1;33m[\u001b[0m\u001b[1;34m\"has_index_names\"\u001b[0m\u001b[1;33m]\u001b[0m\u001b[1;33m\u001b[0m\u001b[1;33m\u001b[0m\u001b[0m\n\u001b[0;32m    818\u001b[0m \u001b[1;33m\u001b[0m\u001b[0m\n\u001b[1;32m--> 819\u001b[1;33m         \u001b[0mself\u001b[0m\u001b[1;33m.\u001b[0m\u001b[0m_engine\u001b[0m \u001b[1;33m=\u001b[0m \u001b[0mself\u001b[0m\u001b[1;33m.\u001b[0m\u001b[0m_make_engine\u001b[0m\u001b[1;33m(\u001b[0m\u001b[0mself\u001b[0m\u001b[1;33m.\u001b[0m\u001b[0mengine\u001b[0m\u001b[1;33m)\u001b[0m\u001b[1;33m\u001b[0m\u001b[1;33m\u001b[0m\u001b[0m\n\u001b[0m\u001b[0;32m    820\u001b[0m \u001b[1;33m\u001b[0m\u001b[0m\n\u001b[0;32m    821\u001b[0m     \u001b[1;32mdef\u001b[0m \u001b[0mclose\u001b[0m\u001b[1;33m(\u001b[0m\u001b[0mself\u001b[0m\u001b[1;33m)\u001b[0m\u001b[1;33m:\u001b[0m\u001b[1;33m\u001b[0m\u001b[1;33m\u001b[0m\u001b[0m\n",
      "\u001b[1;32m~\\Anaconda3\\lib\\site-packages\\pandas\\io\\parsers.py\u001b[0m in \u001b[0;36m_make_engine\u001b[1;34m(self, engine)\u001b[0m\n\u001b[0;32m   1048\u001b[0m             )\n\u001b[0;32m   1049\u001b[0m         \u001b[1;31m# error: Too many arguments for \"ParserBase\"\u001b[0m\u001b[1;33m\u001b[0m\u001b[1;33m\u001b[0m\u001b[1;33m\u001b[0m\u001b[0m\n\u001b[1;32m-> 1050\u001b[1;33m         \u001b[1;32mreturn\u001b[0m \u001b[0mmapping\u001b[0m\u001b[1;33m[\u001b[0m\u001b[0mengine\u001b[0m\u001b[1;33m]\u001b[0m\u001b[1;33m(\u001b[0m\u001b[0mself\u001b[0m\u001b[1;33m.\u001b[0m\u001b[0mf\u001b[0m\u001b[1;33m,\u001b[0m \u001b[1;33m**\u001b[0m\u001b[0mself\u001b[0m\u001b[1;33m.\u001b[0m\u001b[0moptions\u001b[0m\u001b[1;33m)\u001b[0m  \u001b[1;31m# type: ignore[call-arg]\u001b[0m\u001b[1;33m\u001b[0m\u001b[1;33m\u001b[0m\u001b[0m\n\u001b[0m\u001b[0;32m   1051\u001b[0m \u001b[1;33m\u001b[0m\u001b[0m\n\u001b[0;32m   1052\u001b[0m     \u001b[1;32mdef\u001b[0m \u001b[0m_failover_to_python\u001b[0m\u001b[1;33m(\u001b[0m\u001b[0mself\u001b[0m\u001b[1;33m)\u001b[0m\u001b[1;33m:\u001b[0m\u001b[1;33m\u001b[0m\u001b[1;33m\u001b[0m\u001b[0m\n",
      "\u001b[1;32m~\\Anaconda3\\lib\\site-packages\\pandas\\io\\parsers.py\u001b[0m in \u001b[0;36m__init__\u001b[1;34m(self, src, **kwds)\u001b[0m\n\u001b[0;32m   1865\u001b[0m \u001b[1;33m\u001b[0m\u001b[0m\n\u001b[0;32m   1866\u001b[0m         \u001b[1;31m# open handles\u001b[0m\u001b[1;33m\u001b[0m\u001b[1;33m\u001b[0m\u001b[1;33m\u001b[0m\u001b[0m\n\u001b[1;32m-> 1867\u001b[1;33m         \u001b[0mself\u001b[0m\u001b[1;33m.\u001b[0m\u001b[0m_open_handles\u001b[0m\u001b[1;33m(\u001b[0m\u001b[0msrc\u001b[0m\u001b[1;33m,\u001b[0m \u001b[0mkwds\u001b[0m\u001b[1;33m)\u001b[0m\u001b[1;33m\u001b[0m\u001b[1;33m\u001b[0m\u001b[0m\n\u001b[0m\u001b[0;32m   1868\u001b[0m         \u001b[1;32massert\u001b[0m \u001b[0mself\u001b[0m\u001b[1;33m.\u001b[0m\u001b[0mhandles\u001b[0m \u001b[1;32mis\u001b[0m \u001b[1;32mnot\u001b[0m \u001b[1;32mNone\u001b[0m\u001b[1;33m\u001b[0m\u001b[1;33m\u001b[0m\u001b[0m\n\u001b[0;32m   1869\u001b[0m         \u001b[1;32mfor\u001b[0m \u001b[0mkey\u001b[0m \u001b[1;32min\u001b[0m \u001b[1;33m(\u001b[0m\u001b[1;34m\"storage_options\"\u001b[0m\u001b[1;33m,\u001b[0m \u001b[1;34m\"encoding\"\u001b[0m\u001b[1;33m,\u001b[0m \u001b[1;34m\"memory_map\"\u001b[0m\u001b[1;33m,\u001b[0m \u001b[1;34m\"compression\"\u001b[0m\u001b[1;33m)\u001b[0m\u001b[1;33m:\u001b[0m\u001b[1;33m\u001b[0m\u001b[1;33m\u001b[0m\u001b[0m\n",
      "\u001b[1;32m~\\Anaconda3\\lib\\site-packages\\pandas\\io\\parsers.py\u001b[0m in \u001b[0;36m_open_handles\u001b[1;34m(self, src, kwds)\u001b[0m\n\u001b[0;32m   1360\u001b[0m         \u001b[0mLet\u001b[0m \u001b[0mthe\u001b[0m \u001b[0mreaders\u001b[0m \u001b[0mopen\u001b[0m \u001b[0mIOHanldes\u001b[0m \u001b[0mafter\u001b[0m \u001b[0mthey\u001b[0m \u001b[0mare\u001b[0m \u001b[0mdone\u001b[0m \u001b[1;32mwith\u001b[0m \u001b[0mtheir\u001b[0m \u001b[0mpotential\u001b[0m \u001b[0mraises\u001b[0m\u001b[1;33m.\u001b[0m\u001b[1;33m\u001b[0m\u001b[1;33m\u001b[0m\u001b[0m\n\u001b[0;32m   1361\u001b[0m         \"\"\"\n\u001b[1;32m-> 1362\u001b[1;33m         self.handles = get_handle(\n\u001b[0m\u001b[0;32m   1363\u001b[0m             \u001b[0msrc\u001b[0m\u001b[1;33m,\u001b[0m\u001b[1;33m\u001b[0m\u001b[1;33m\u001b[0m\u001b[0m\n\u001b[0;32m   1364\u001b[0m             \u001b[1;34m\"r\"\u001b[0m\u001b[1;33m,\u001b[0m\u001b[1;33m\u001b[0m\u001b[1;33m\u001b[0m\u001b[0m\n",
      "\u001b[1;32m~\\Anaconda3\\lib\\site-packages\\pandas\\io\\common.py\u001b[0m in \u001b[0;36mget_handle\u001b[1;34m(path_or_buf, mode, encoding, compression, memory_map, is_text, errors, storage_options)\u001b[0m\n\u001b[0;32m    640\u001b[0m                 \u001b[0merrors\u001b[0m \u001b[1;33m=\u001b[0m \u001b[1;34m\"replace\"\u001b[0m\u001b[1;33m\u001b[0m\u001b[1;33m\u001b[0m\u001b[0m\n\u001b[0;32m    641\u001b[0m             \u001b[1;31m# Encoding\u001b[0m\u001b[1;33m\u001b[0m\u001b[1;33m\u001b[0m\u001b[1;33m\u001b[0m\u001b[0m\n\u001b[1;32m--> 642\u001b[1;33m             handle = open(\n\u001b[0m\u001b[0;32m    643\u001b[0m                 \u001b[0mhandle\u001b[0m\u001b[1;33m,\u001b[0m\u001b[1;33m\u001b[0m\u001b[1;33m\u001b[0m\u001b[0m\n\u001b[0;32m    644\u001b[0m                 \u001b[0mioargs\u001b[0m\u001b[1;33m.\u001b[0m\u001b[0mmode\u001b[0m\u001b[1;33m,\u001b[0m\u001b[1;33m\u001b[0m\u001b[1;33m\u001b[0m\u001b[0m\n",
      "\u001b[1;31mFileNotFoundError\u001b[0m: [Errno 2] No such file or directory: 'iris.csv'"
     ]
    }
   ],
   "source": [
    "iris=pd.read_csv(\"iris.csv\")"
   ]
  },
  {
   "cell_type": "code",
   "execution_count": 847,
   "id": "6e601acc",
   "metadata": {},
   "outputs": [],
   "source": [
    "def hello():\n",
    "     print (\"Hello World\")"
   ]
  },
  {
   "cell_type": "code",
   "execution_count": 848,
   "id": "26d36547",
   "metadata": {},
   "outputs": [
    {
     "name": "stdout",
     "output_type": "stream",
     "text": [
      "Hello World\n"
     ]
    }
   ],
   "source": [
    "hello()"
   ]
  },
  {
   "cell_type": "code",
   "execution_count": 849,
   "id": "1c382d20",
   "metadata": {},
   "outputs": [
    {
     "ename": "SyntaxError",
     "evalue": "invalid syntax (<ipython-input-849-aa14115b0e41>, line 1)",
     "output_type": "error",
     "traceback": [
      "\u001b[1;36m  File \u001b[1;32m\"<ipython-input-849-aa14115b0e41>\"\u001b[1;36m, line \u001b[1;32m1\u001b[0m\n\u001b[1;33m    def add 10 (x):\u001b[0m\n\u001b[1;37m            ^\u001b[0m\n\u001b[1;31mSyntaxError\u001b[0m\u001b[1;31m:\u001b[0m invalid syntax\n"
     ]
    }
   ],
   "source": [
    "def add 10 (x): \n",
    "     return x+10"
   ]
  },
  {
   "cell_type": "markdown",
   "id": "7092acbb",
   "metadata": {},
   "source": [
    "lamda"
   ]
  },
  {
   "cell_type": "code",
   "execution_count": null,
   "id": "7d841230",
   "metadata": {},
   "outputs": [],
   "source": []
  },
  {
   "cell_type": "code",
   "execution_count": null,
   "id": "a7fd1c81",
   "metadata": {},
   "outputs": [],
   "source": []
  },
  {
   "cell_type": "code",
   "execution_count": null,
   "id": "35f3f518",
   "metadata": {},
   "outputs": [],
   "source": []
  },
  {
   "cell_type": "code",
   "execution_count": 850,
   "id": "5e1f769c",
   "metadata": {},
   "outputs": [
    {
     "ename": "NameError",
     "evalue": "name 'iris' is not defined",
     "output_type": "error",
     "traceback": [
      "\u001b[1;31m---------------------------------------------------------------------------\u001b[0m",
      "\u001b[1;31mNameError\u001b[0m                                 Traceback (most recent call last)",
      "\u001b[1;32m<ipython-input-850-5c93502afc24>\u001b[0m in \u001b[0;36m<module>\u001b[1;34m\u001b[0m\n\u001b[1;32m----> 1\u001b[1;33m \u001b[0miris\u001b[0m\u001b[1;33m.\u001b[0m\u001b[0mhead\u001b[0m\u001b[1;33m(\u001b[0m\u001b[1;33m)\u001b[0m\u001b[1;33m\u001b[0m\u001b[1;33m\u001b[0m\u001b[0m\n\u001b[0m",
      "\u001b[1;31mNameError\u001b[0m: name 'iris' is not defined"
     ]
    }
   ],
   "source": [
    "iris.head()"
   ]
  },
  {
   "cell_type": "code",
   "execution_count": 851,
   "id": "a5890377",
   "metadata": {},
   "outputs": [
    {
     "ename": "NameError",
     "evalue": "name 'weather' is not defined",
     "output_type": "error",
     "traceback": [
      "\u001b[1;31m---------------------------------------------------------------------------\u001b[0m",
      "\u001b[1;31mNameError\u001b[0m                                 Traceback (most recent call last)",
      "\u001b[1;32m<ipython-input-851-101620f88653>\u001b[0m in \u001b[0;36m<module>\u001b[1;34m\u001b[0m\n\u001b[1;32m----> 1\u001b[1;33m \u001b[0mweather\u001b[0m\u001b[1;33m.\u001b[0m\u001b[0mhead\u001b[0m\u001b[1;33m(\u001b[0m\u001b[1;33m)\u001b[0m\u001b[1;33m\u001b[0m\u001b[1;33m\u001b[0m\u001b[0m\n\u001b[0m",
      "\u001b[1;31mNameError\u001b[0m: name 'weather' is not defined"
     ]
    }
   ],
   "source": [
    "weather.head()"
   ]
  },
  {
   "cell_type": "code",
   "execution_count": 852,
   "id": "0b7a5b4f",
   "metadata": {},
   "outputs": [
    {
     "data": {
      "text/plain": [
       "<bound method NDFrame.head of              Date/Time  Temp_C  Dew Point Temp_C  Rel Hum_%  Wind Speed_km/h  \\\n",
       "0        1/1/2012 0:00    -1.8              -3.9         86                4   \n",
       "1        1/1/2012 1:00    -1.8              -3.7         87                4   \n",
       "2        1/1/2012 2:00    -1.8              -3.4         89                7   \n",
       "3        1/1/2012 3:00    -1.5              -3.2         88                6   \n",
       "4        1/1/2012 4:00    -1.5              -3.3         88                7   \n",
       "...                ...     ...               ...        ...              ...   \n",
       "8779  12/31/2012 19:00     0.1              -2.7         81               30   \n",
       "8780  12/31/2012 20:00     0.2              -2.4         83               24   \n",
       "8781  12/31/2012 21:00    -0.5              -1.5         93               28   \n",
       "8782  12/31/2012 22:00    -0.2              -1.8         89               28   \n",
       "8783  12/31/2012 23:00     0.0              -2.1         86               30   \n",
       "\n",
       "      Visibility_km  Press_kPa               Weather  \n",
       "0               8.0     101.24                   Fog  \n",
       "1               8.0     101.24                   Fog  \n",
       "2               4.0     101.26  Freezing Drizzle,Fog  \n",
       "3               4.0     101.27  Freezing Drizzle,Fog  \n",
       "4               4.8     101.23                   Fog  \n",
       "...             ...        ...                   ...  \n",
       "8779            9.7     100.13                  Snow  \n",
       "8780            9.7     100.03                  Snow  \n",
       "8781            4.8      99.95                  Snow  \n",
       "8782            9.7      99.91                  Snow  \n",
       "8783           11.3      99.89                  Snow  \n",
       "\n",
       "[8784 rows x 8 columns]>"
      ]
     },
     "execution_count": 852,
     "metadata": {},
     "output_type": "execute_result"
    }
   ],
   "source": [
    "df.head"
   ]
  },
  {
   "cell_type": "code",
   "execution_count": 853,
   "id": "9d9c76cb",
   "metadata": {},
   "outputs": [
    {
     "ename": "TypeError",
     "evalue": "'tuple' object is not callable",
     "output_type": "error",
     "traceback": [
      "\u001b[1;31m---------------------------------------------------------------------------\u001b[0m",
      "\u001b[1;31mTypeError\u001b[0m                                 Traceback (most recent call last)",
      "\u001b[1;32m<ipython-input-853-0e566b70f572>\u001b[0m in \u001b[0;36m<module>\u001b[1;34m\u001b[0m\n\u001b[1;32m----> 1\u001b[1;33m \u001b[0mdf\u001b[0m\u001b[1;33m.\u001b[0m\u001b[0mshape\u001b[0m\u001b[1;33m(\u001b[0m\u001b[1;33m)\u001b[0m\u001b[1;33m\u001b[0m\u001b[1;33m\u001b[0m\u001b[0m\n\u001b[0m",
      "\u001b[1;31mTypeError\u001b[0m: 'tuple' object is not callable"
     ]
    }
   ],
   "source": [
    "df.shape()"
   ]
  },
  {
   "cell_type": "code",
   "execution_count": null,
   "id": "70cf3dbc",
   "metadata": {},
   "outputs": [],
   "source": [
    "df.shape"
   ]
  },
  {
   "cell_type": "code",
   "execution_count": 854,
   "id": "54a99091",
   "metadata": {},
   "outputs": [
    {
     "data": {
      "text/html": [
       "<div>\n",
       "<style scoped>\n",
       "    .dataframe tbody tr th:only-of-type {\n",
       "        vertical-align: middle;\n",
       "    }\n",
       "\n",
       "    .dataframe tbody tr th {\n",
       "        vertical-align: top;\n",
       "    }\n",
       "\n",
       "    .dataframe thead th {\n",
       "        text-align: right;\n",
       "    }\n",
       "</style>\n",
       "<table border=\"1\" class=\"dataframe\">\n",
       "  <thead>\n",
       "    <tr style=\"text-align: right;\">\n",
       "      <th></th>\n",
       "      <th>Temp_C</th>\n",
       "      <th>Dew Point Temp_C</th>\n",
       "      <th>Rel Hum_%</th>\n",
       "      <th>Wind Speed_km/h</th>\n",
       "      <th>Visibility_km</th>\n",
       "      <th>Press_kPa</th>\n",
       "    </tr>\n",
       "  </thead>\n",
       "  <tbody>\n",
       "    <tr>\n",
       "      <th>count</th>\n",
       "      <td>8784.000000</td>\n",
       "      <td>8784.000000</td>\n",
       "      <td>8784.000000</td>\n",
       "      <td>8784.000000</td>\n",
       "      <td>8784.000000</td>\n",
       "      <td>8784.000000</td>\n",
       "    </tr>\n",
       "    <tr>\n",
       "      <th>mean</th>\n",
       "      <td>8.798144</td>\n",
       "      <td>2.555294</td>\n",
       "      <td>67.431694</td>\n",
       "      <td>14.945469</td>\n",
       "      <td>27.664447</td>\n",
       "      <td>101.051623</td>\n",
       "    </tr>\n",
       "    <tr>\n",
       "      <th>std</th>\n",
       "      <td>11.687883</td>\n",
       "      <td>10.883072</td>\n",
       "      <td>16.918881</td>\n",
       "      <td>8.688696</td>\n",
       "      <td>12.622688</td>\n",
       "      <td>0.844005</td>\n",
       "    </tr>\n",
       "    <tr>\n",
       "      <th>min</th>\n",
       "      <td>-23.300000</td>\n",
       "      <td>-28.500000</td>\n",
       "      <td>18.000000</td>\n",
       "      <td>0.000000</td>\n",
       "      <td>0.200000</td>\n",
       "      <td>97.520000</td>\n",
       "    </tr>\n",
       "    <tr>\n",
       "      <th>25%</th>\n",
       "      <td>0.100000</td>\n",
       "      <td>-5.900000</td>\n",
       "      <td>56.000000</td>\n",
       "      <td>9.000000</td>\n",
       "      <td>24.100000</td>\n",
       "      <td>100.560000</td>\n",
       "    </tr>\n",
       "    <tr>\n",
       "      <th>50%</th>\n",
       "      <td>9.300000</td>\n",
       "      <td>3.300000</td>\n",
       "      <td>68.000000</td>\n",
       "      <td>13.000000</td>\n",
       "      <td>25.000000</td>\n",
       "      <td>101.070000</td>\n",
       "    </tr>\n",
       "    <tr>\n",
       "      <th>75%</th>\n",
       "      <td>18.800000</td>\n",
       "      <td>11.800000</td>\n",
       "      <td>81.000000</td>\n",
       "      <td>20.000000</td>\n",
       "      <td>25.000000</td>\n",
       "      <td>101.590000</td>\n",
       "    </tr>\n",
       "    <tr>\n",
       "      <th>max</th>\n",
       "      <td>33.000000</td>\n",
       "      <td>24.400000</td>\n",
       "      <td>100.000000</td>\n",
       "      <td>83.000000</td>\n",
       "      <td>48.300000</td>\n",
       "      <td>103.650000</td>\n",
       "    </tr>\n",
       "  </tbody>\n",
       "</table>\n",
       "</div>"
      ],
      "text/plain": [
       "            Temp_C  Dew Point Temp_C    Rel Hum_%  Wind Speed_km/h  \\\n",
       "count  8784.000000       8784.000000  8784.000000      8784.000000   \n",
       "mean      8.798144          2.555294    67.431694        14.945469   \n",
       "std      11.687883         10.883072    16.918881         8.688696   \n",
       "min     -23.300000        -28.500000    18.000000         0.000000   \n",
       "25%       0.100000         -5.900000    56.000000         9.000000   \n",
       "50%       9.300000          3.300000    68.000000        13.000000   \n",
       "75%      18.800000         11.800000    81.000000        20.000000   \n",
       "max      33.000000         24.400000   100.000000        83.000000   \n",
       "\n",
       "       Visibility_km    Press_kPa  \n",
       "count    8784.000000  8784.000000  \n",
       "mean       27.664447   101.051623  \n",
       "std        12.622688     0.844005  \n",
       "min         0.200000    97.520000  \n",
       "25%        24.100000   100.560000  \n",
       "50%        25.000000   101.070000  \n",
       "75%        25.000000   101.590000  \n",
       "max        48.300000   103.650000  "
      ]
     },
     "execution_count": 854,
     "metadata": {},
     "output_type": "execute_result"
    }
   ],
   "source": [
    "df.describe()"
   ]
  },
  {
   "cell_type": "code",
   "execution_count": 855,
   "id": "d22f1769",
   "metadata": {},
   "outputs": [
    {
     "data": {
      "text/html": [
       "<div>\n",
       "<style scoped>\n",
       "    .dataframe tbody tr th:only-of-type {\n",
       "        vertical-align: middle;\n",
       "    }\n",
       "\n",
       "    .dataframe tbody tr th {\n",
       "        vertical-align: top;\n",
       "    }\n",
       "\n",
       "    .dataframe thead th {\n",
       "        text-align: right;\n",
       "    }\n",
       "</style>\n",
       "<table border=\"1\" class=\"dataframe\">\n",
       "  <thead>\n",
       "    <tr style=\"text-align: right;\">\n",
       "      <th></th>\n",
       "      <th>Date/Time</th>\n",
       "      <th>Temp_C</th>\n",
       "    </tr>\n",
       "  </thead>\n",
       "  <tbody>\n",
       "    <tr>\n",
       "      <th>0</th>\n",
       "      <td>1/1/2012 0:00</td>\n",
       "      <td>-1.8</td>\n",
       "    </tr>\n",
       "    <tr>\n",
       "      <th>1</th>\n",
       "      <td>1/1/2012 1:00</td>\n",
       "      <td>-1.8</td>\n",
       "    </tr>\n",
       "    <tr>\n",
       "      <th>2</th>\n",
       "      <td>1/1/2012 2:00</td>\n",
       "      <td>-1.8</td>\n",
       "    </tr>\n",
       "  </tbody>\n",
       "</table>\n",
       "</div>"
      ],
      "text/plain": [
       "       Date/Time  Temp_C\n",
       "0  1/1/2012 0:00    -1.8\n",
       "1  1/1/2012 1:00    -1.8\n",
       "2  1/1/2012 2:00    -1.8"
      ]
     },
     "execution_count": 855,
     "metadata": {},
     "output_type": "execute_result"
    }
   ],
   "source": [
    "df.iloc[0:3,0:2]"
   ]
  },
  {
   "cell_type": "code",
   "execution_count": 856,
   "id": "9bf13eb0",
   "metadata": {},
   "outputs": [
    {
     "data": {
      "text/html": [
       "<div>\n",
       "<style scoped>\n",
       "    .dataframe tbody tr th:only-of-type {\n",
       "        vertical-align: middle;\n",
       "    }\n",
       "\n",
       "    .dataframe tbody tr th {\n",
       "        vertical-align: top;\n",
       "    }\n",
       "\n",
       "    .dataframe thead th {\n",
       "        text-align: right;\n",
       "    }\n",
       "</style>\n",
       "<table border=\"1\" class=\"dataframe\">\n",
       "  <thead>\n",
       "    <tr style=\"text-align: right;\">\n",
       "      <th></th>\n",
       "      <th>Temp_C</th>\n",
       "      <th>Dew Point Temp_C</th>\n",
       "    </tr>\n",
       "  </thead>\n",
       "  <tbody>\n",
       "    <tr>\n",
       "      <th>0</th>\n",
       "      <td>-1.8</td>\n",
       "      <td>-3.9</td>\n",
       "    </tr>\n",
       "    <tr>\n",
       "      <th>1</th>\n",
       "      <td>-1.8</td>\n",
       "      <td>-3.7</td>\n",
       "    </tr>\n",
       "    <tr>\n",
       "      <th>2</th>\n",
       "      <td>-1.8</td>\n",
       "      <td>-3.4</td>\n",
       "    </tr>\n",
       "    <tr>\n",
       "      <th>3</th>\n",
       "      <td>-1.5</td>\n",
       "      <td>-3.2</td>\n",
       "    </tr>\n",
       "  </tbody>\n",
       "</table>\n",
       "</div>"
      ],
      "text/plain": [
       "   Temp_C  Dew Point Temp_C\n",
       "0    -1.8              -3.9\n",
       "1    -1.8              -3.7\n",
       "2    -1.8              -3.4\n",
       "3    -1.5              -3.2"
      ]
     },
     "execution_count": 856,
     "metadata": {},
     "output_type": "execute_result"
    }
   ],
   "source": [
    "df.loc[0:3,(\"Temp_C\",\"Dew Point Temp_C\")]"
   ]
  },
  {
   "cell_type": "code",
   "execution_count": 857,
   "id": "efff1d6d",
   "metadata": {},
   "outputs": [
    {
     "data": {
      "text/html": [
       "<div>\n",
       "<style scoped>\n",
       "    .dataframe tbody tr th:only-of-type {\n",
       "        vertical-align: middle;\n",
       "    }\n",
       "\n",
       "    .dataframe tbody tr th {\n",
       "        vertical-align: top;\n",
       "    }\n",
       "\n",
       "    .dataframe thead th {\n",
       "        text-align: right;\n",
       "    }\n",
       "</style>\n",
       "<table border=\"1\" class=\"dataframe\">\n",
       "  <thead>\n",
       "    <tr style=\"text-align: right;\">\n",
       "      <th></th>\n",
       "      <th>Date/Time</th>\n",
       "      <th>Temp_C</th>\n",
       "      <th>Dew Point Temp_C</th>\n",
       "      <th>Rel Hum_%</th>\n",
       "      <th>Wind Speed_km/h</th>\n",
       "      <th>Visibility_km</th>\n",
       "      <th>Press_kPa</th>\n",
       "      <th>Weather</th>\n",
       "    </tr>\n",
       "  </thead>\n",
       "  <tbody>\n",
       "    <tr>\n",
       "      <th>0</th>\n",
       "      <td>1/1/2012 0:00</td>\n",
       "      <td>-1.8</td>\n",
       "      <td>-3.9</td>\n",
       "      <td>86</td>\n",
       "      <td>4</td>\n",
       "      <td>8.0</td>\n",
       "      <td>101.24</td>\n",
       "      <td>Fog</td>\n",
       "    </tr>\n",
       "    <tr>\n",
       "      <th>3</th>\n",
       "      <td>1/1/2012 3:00</td>\n",
       "      <td>-1.5</td>\n",
       "      <td>-3.2</td>\n",
       "      <td>88</td>\n",
       "      <td>6</td>\n",
       "      <td>4.0</td>\n",
       "      <td>101.27</td>\n",
       "      <td>Freezing Drizzle,Fog</td>\n",
       "    </tr>\n",
       "    <tr>\n",
       "      <th>4</th>\n",
       "      <td>1/1/2012 4:00</td>\n",
       "      <td>-1.5</td>\n",
       "      <td>-3.3</td>\n",
       "      <td>88</td>\n",
       "      <td>7</td>\n",
       "      <td>4.8</td>\n",
       "      <td>101.23</td>\n",
       "      <td>Fog</td>\n",
       "    </tr>\n",
       "    <tr>\n",
       "      <th>5</th>\n",
       "      <td>1/1/2012 5:00</td>\n",
       "      <td>-1.4</td>\n",
       "      <td>-3.3</td>\n",
       "      <td>87</td>\n",
       "      <td>9</td>\n",
       "      <td>6.4</td>\n",
       "      <td>101.27</td>\n",
       "      <td>Fog</td>\n",
       "    </tr>\n",
       "    <tr>\n",
       "      <th>6</th>\n",
       "      <td>1/1/2012 6:00</td>\n",
       "      <td>-1.5</td>\n",
       "      <td>-3.1</td>\n",
       "      <td>89</td>\n",
       "      <td>7</td>\n",
       "      <td>6.4</td>\n",
       "      <td>101.29</td>\n",
       "      <td>Fog</td>\n",
       "    </tr>\n",
       "    <tr>\n",
       "      <th>...</th>\n",
       "      <td>...</td>\n",
       "      <td>...</td>\n",
       "      <td>...</td>\n",
       "      <td>...</td>\n",
       "      <td>...</td>\n",
       "      <td>...</td>\n",
       "      <td>...</td>\n",
       "      <td>...</td>\n",
       "    </tr>\n",
       "    <tr>\n",
       "      <th>8779</th>\n",
       "      <td>12/31/2012 19:00</td>\n",
       "      <td>0.1</td>\n",
       "      <td>-2.7</td>\n",
       "      <td>81</td>\n",
       "      <td>30</td>\n",
       "      <td>9.7</td>\n",
       "      <td>100.13</td>\n",
       "      <td>Snow</td>\n",
       "    </tr>\n",
       "    <tr>\n",
       "      <th>8780</th>\n",
       "      <td>12/31/2012 20:00</td>\n",
       "      <td>0.2</td>\n",
       "      <td>-2.4</td>\n",
       "      <td>83</td>\n",
       "      <td>24</td>\n",
       "      <td>9.7</td>\n",
       "      <td>100.03</td>\n",
       "      <td>Snow</td>\n",
       "    </tr>\n",
       "    <tr>\n",
       "      <th>8781</th>\n",
       "      <td>12/31/2012 21:00</td>\n",
       "      <td>-0.5</td>\n",
       "      <td>-1.5</td>\n",
       "      <td>93</td>\n",
       "      <td>28</td>\n",
       "      <td>4.8</td>\n",
       "      <td>99.95</td>\n",
       "      <td>Snow</td>\n",
       "    </tr>\n",
       "    <tr>\n",
       "      <th>8782</th>\n",
       "      <td>12/31/2012 22:00</td>\n",
       "      <td>-0.2</td>\n",
       "      <td>-1.8</td>\n",
       "      <td>89</td>\n",
       "      <td>28</td>\n",
       "      <td>9.7</td>\n",
       "      <td>99.91</td>\n",
       "      <td>Snow</td>\n",
       "    </tr>\n",
       "    <tr>\n",
       "      <th>8783</th>\n",
       "      <td>12/31/2012 23:00</td>\n",
       "      <td>0.0</td>\n",
       "      <td>-2.1</td>\n",
       "      <td>86</td>\n",
       "      <td>30</td>\n",
       "      <td>11.3</td>\n",
       "      <td>99.89</td>\n",
       "      <td>Snow</td>\n",
       "    </tr>\n",
       "  </tbody>\n",
       "</table>\n",
       "<p>8782 rows × 8 columns</p>\n",
       "</div>"
      ],
      "text/plain": [
       "             Date/Time  Temp_C  Dew Point Temp_C  Rel Hum_%  Wind Speed_km/h  \\\n",
       "0        1/1/2012 0:00    -1.8              -3.9         86                4   \n",
       "3        1/1/2012 3:00    -1.5              -3.2         88                6   \n",
       "4        1/1/2012 4:00    -1.5              -3.3         88                7   \n",
       "5        1/1/2012 5:00    -1.4              -3.3         87                9   \n",
       "6        1/1/2012 6:00    -1.5              -3.1         89                7   \n",
       "...                ...     ...               ...        ...              ...   \n",
       "8779  12/31/2012 19:00     0.1              -2.7         81               30   \n",
       "8780  12/31/2012 20:00     0.2              -2.4         83               24   \n",
       "8781  12/31/2012 21:00    -0.5              -1.5         93               28   \n",
       "8782  12/31/2012 22:00    -0.2              -1.8         89               28   \n",
       "8783  12/31/2012 23:00     0.0              -2.1         86               30   \n",
       "\n",
       "      Visibility_km  Press_kPa               Weather  \n",
       "0               8.0     101.24                   Fog  \n",
       "3               4.0     101.27  Freezing Drizzle,Fog  \n",
       "4               4.8     101.23                   Fog  \n",
       "5               6.4     101.27                   Fog  \n",
       "6               6.4     101.29                   Fog  \n",
       "...             ...        ...                   ...  \n",
       "8779            9.7     100.13                  Snow  \n",
       "8780            9.7     100.03                  Snow  \n",
       "8781            4.8      99.95                  Snow  \n",
       "8782            9.7      99.91                  Snow  \n",
       "8783           11.3      99.89                  Snow  \n",
       "\n",
       "[8782 rows x 8 columns]"
      ]
     },
     "execution_count": 857,
     "metadata": {},
     "output_type": "execute_result"
    }
   ],
   "source": [
    "df.drop([1,2], axis=0)"
   ]
  },
  {
   "cell_type": "code",
   "execution_count": 858,
   "id": "5c76a8b0",
   "metadata": {},
   "outputs": [
    {
     "data": {
      "text/plain": [
       "<bound method NDFrame._add_numeric_operations.<locals>.mean of              Date/Time  Temp_C  Dew Point Temp_C  Rel Hum_%  Wind Speed_km/h  \\\n",
       "0        1/1/2012 0:00    -1.8              -3.9         86                4   \n",
       "1        1/1/2012 1:00    -1.8              -3.7         87                4   \n",
       "2        1/1/2012 2:00    -1.8              -3.4         89                7   \n",
       "3        1/1/2012 3:00    -1.5              -3.2         88                6   \n",
       "4        1/1/2012 4:00    -1.5              -3.3         88                7   \n",
       "...                ...     ...               ...        ...              ...   \n",
       "8779  12/31/2012 19:00     0.1              -2.7         81               30   \n",
       "8780  12/31/2012 20:00     0.2              -2.4         83               24   \n",
       "8781  12/31/2012 21:00    -0.5              -1.5         93               28   \n",
       "8782  12/31/2012 22:00    -0.2              -1.8         89               28   \n",
       "8783  12/31/2012 23:00     0.0              -2.1         86               30   \n",
       "\n",
       "      Visibility_km  Press_kPa               Weather  \n",
       "0               8.0     101.24                   Fog  \n",
       "1               8.0     101.24                   Fog  \n",
       "2               4.0     101.26  Freezing Drizzle,Fog  \n",
       "3               4.0     101.27  Freezing Drizzle,Fog  \n",
       "4               4.8     101.23                   Fog  \n",
       "...             ...        ...                   ...  \n",
       "8779            9.7     100.13                  Snow  \n",
       "8780            9.7     100.03                  Snow  \n",
       "8781            4.8      99.95                  Snow  \n",
       "8782            9.7      99.91                  Snow  \n",
       "8783           11.3      99.89                  Snow  \n",
       "\n",
       "[8784 rows x 8 columns]>"
      ]
     },
     "execution_count": 858,
     "metadata": {},
     "output_type": "execute_result"
    }
   ],
   "source": [
    "df.mean"
   ]
  },
  {
   "cell_type": "code",
   "execution_count": 859,
   "id": "5e7070a2",
   "metadata": {},
   "outputs": [
    {
     "data": {
      "text/plain": [
       "Date/Time           1/1/2012 0:00\n",
       "Temp_C                      -23.3\n",
       "Dew Point Temp_C            -28.5\n",
       "Rel Hum_%                      18\n",
       "Wind Speed_km/h                 0\n",
       "Visibility_km                 0.2\n",
       "Press_kPa                   97.52\n",
       "Weather                     Clear\n",
       "dtype: object"
      ]
     },
     "execution_count": 859,
     "metadata": {},
     "output_type": "execute_result"
    }
   ],
   "source": [
    "df.min()"
   ]
  },
  {
   "cell_type": "code",
   "execution_count": 860,
   "id": "2f58b941",
   "metadata": {},
   "outputs": [
    {
     "data": {
      "text/plain": [
       "<bound method NDFrame._add_numeric_operations.<locals>.max of              Date/Time  Temp_C  Dew Point Temp_C  Rel Hum_%  Wind Speed_km/h  \\\n",
       "0        1/1/2012 0:00    -1.8              -3.9         86                4   \n",
       "1        1/1/2012 1:00    -1.8              -3.7         87                4   \n",
       "2        1/1/2012 2:00    -1.8              -3.4         89                7   \n",
       "3        1/1/2012 3:00    -1.5              -3.2         88                6   \n",
       "4        1/1/2012 4:00    -1.5              -3.3         88                7   \n",
       "...                ...     ...               ...        ...              ...   \n",
       "8779  12/31/2012 19:00     0.1              -2.7         81               30   \n",
       "8780  12/31/2012 20:00     0.2              -2.4         83               24   \n",
       "8781  12/31/2012 21:00    -0.5              -1.5         93               28   \n",
       "8782  12/31/2012 22:00    -0.2              -1.8         89               28   \n",
       "8783  12/31/2012 23:00     0.0              -2.1         86               30   \n",
       "\n",
       "      Visibility_km  Press_kPa               Weather  \n",
       "0               8.0     101.24                   Fog  \n",
       "1               8.0     101.24                   Fog  \n",
       "2               4.0     101.26  Freezing Drizzle,Fog  \n",
       "3               4.0     101.27  Freezing Drizzle,Fog  \n",
       "4               4.8     101.23                   Fog  \n",
       "...             ...        ...                   ...  \n",
       "8779            9.7     100.13                  Snow  \n",
       "8780            9.7     100.03                  Snow  \n",
       "8781            4.8      99.95                  Snow  \n",
       "8782            9.7      99.91                  Snow  \n",
       "8783           11.3      99.89                  Snow  \n",
       "\n",
       "[8784 rows x 8 columns]>"
      ]
     },
     "execution_count": 860,
     "metadata": {},
     "output_type": "execute_result"
    }
   ],
   "source": [
    "df.max"
   ]
  },
  {
   "cell_type": "code",
   "execution_count": 861,
   "id": "c4b72e93",
   "metadata": {},
   "outputs": [
    {
     "data": {
      "text/plain": [
       "<bound method NDFrame._add_numeric_operations.<locals>.median of              Date/Time  Temp_C  Dew Point Temp_C  Rel Hum_%  Wind Speed_km/h  \\\n",
       "0        1/1/2012 0:00    -1.8              -3.9         86                4   \n",
       "1        1/1/2012 1:00    -1.8              -3.7         87                4   \n",
       "2        1/1/2012 2:00    -1.8              -3.4         89                7   \n",
       "3        1/1/2012 3:00    -1.5              -3.2         88                6   \n",
       "4        1/1/2012 4:00    -1.5              -3.3         88                7   \n",
       "...                ...     ...               ...        ...              ...   \n",
       "8779  12/31/2012 19:00     0.1              -2.7         81               30   \n",
       "8780  12/31/2012 20:00     0.2              -2.4         83               24   \n",
       "8781  12/31/2012 21:00    -0.5              -1.5         93               28   \n",
       "8782  12/31/2012 22:00    -0.2              -1.8         89               28   \n",
       "8783  12/31/2012 23:00     0.0              -2.1         86               30   \n",
       "\n",
       "      Visibility_km  Press_kPa               Weather  \n",
       "0               8.0     101.24                   Fog  \n",
       "1               8.0     101.24                   Fog  \n",
       "2               4.0     101.26  Freezing Drizzle,Fog  \n",
       "3               4.0     101.27  Freezing Drizzle,Fog  \n",
       "4               4.8     101.23                   Fog  \n",
       "...             ...        ...                   ...  \n",
       "8779            9.7     100.13                  Snow  \n",
       "8780            9.7     100.03                  Snow  \n",
       "8781            4.8      99.95                  Snow  \n",
       "8782            9.7      99.91                  Snow  \n",
       "8783           11.3      99.89                  Snow  \n",
       "\n",
       "[8784 rows x 8 columns]>"
      ]
     },
     "execution_count": 861,
     "metadata": {},
     "output_type": "execute_result"
    }
   ],
   "source": [
    "df.median"
   ]
  },
  {
   "cell_type": "code",
   "execution_count": 862,
   "id": "4db50e41",
   "metadata": {},
   "outputs": [
    {
     "data": {
      "text/plain": [
       "<bound method NDFrame.head of              Date/Time  Temp_C  Dew Point Temp_C  Rel Hum_%  Wind Speed_km/h  \\\n",
       "0        1/1/2012 0:00    -1.8              -3.9         86                4   \n",
       "1        1/1/2012 1:00    -1.8              -3.7         87                4   \n",
       "2        1/1/2012 2:00    -1.8              -3.4         89                7   \n",
       "3        1/1/2012 3:00    -1.5              -3.2         88                6   \n",
       "4        1/1/2012 4:00    -1.5              -3.3         88                7   \n",
       "...                ...     ...               ...        ...              ...   \n",
       "8779  12/31/2012 19:00     0.1              -2.7         81               30   \n",
       "8780  12/31/2012 20:00     0.2              -2.4         83               24   \n",
       "8781  12/31/2012 21:00    -0.5              -1.5         93               28   \n",
       "8782  12/31/2012 22:00    -0.2              -1.8         89               28   \n",
       "8783  12/31/2012 23:00     0.0              -2.1         86               30   \n",
       "\n",
       "      Visibility_km  Press_kPa               Weather  \n",
       "0               8.0     101.24                   Fog  \n",
       "1               8.0     101.24                   Fog  \n",
       "2               4.0     101.26  Freezing Drizzle,Fog  \n",
       "3               4.0     101.27  Freezing Drizzle,Fog  \n",
       "4               4.8     101.23                   Fog  \n",
       "...             ...        ...                   ...  \n",
       "8779            9.7     100.13                  Snow  \n",
       "8780            9.7     100.03                  Snow  \n",
       "8781            4.8      99.95                  Snow  \n",
       "8782            9.7      99.91                  Snow  \n",
       "8783           11.3      99.89                  Snow  \n",
       "\n",
       "[8784 rows x 8 columns]>"
      ]
     },
     "execution_count": 862,
     "metadata": {},
     "output_type": "execute_result"
    }
   ],
   "source": [
    "df.head"
   ]
  },
  {
   "cell_type": "code",
   "execution_count": 863,
   "id": "66e23b38",
   "metadata": {},
   "outputs": [],
   "source": [
    "def double_make(s):\n",
    "    return s*2"
   ]
  },
  {
   "cell_type": "code",
   "execution_count": 864,
   "id": "bc51965c",
   "metadata": {},
   "outputs": [
    {
     "data": {
      "text/html": [
       "<div>\n",
       "<style scoped>\n",
       "    .dataframe tbody tr th:only-of-type {\n",
       "        vertical-align: middle;\n",
       "    }\n",
       "\n",
       "    .dataframe tbody tr th {\n",
       "        vertical-align: top;\n",
       "    }\n",
       "\n",
       "    .dataframe thead th {\n",
       "        text-align: right;\n",
       "    }\n",
       "</style>\n",
       "<table border=\"1\" class=\"dataframe\">\n",
       "  <thead>\n",
       "    <tr style=\"text-align: right;\">\n",
       "      <th></th>\n",
       "      <th>Temp_C</th>\n",
       "      <th>Dew Point Temp_C</th>\n",
       "    </tr>\n",
       "  </thead>\n",
       "  <tbody>\n",
       "    <tr>\n",
       "      <th>0</th>\n",
       "      <td>-3.6</td>\n",
       "      <td>-7.8</td>\n",
       "    </tr>\n",
       "    <tr>\n",
       "      <th>1</th>\n",
       "      <td>-3.6</td>\n",
       "      <td>-7.4</td>\n",
       "    </tr>\n",
       "    <tr>\n",
       "      <th>2</th>\n",
       "      <td>-3.6</td>\n",
       "      <td>-6.8</td>\n",
       "    </tr>\n",
       "    <tr>\n",
       "      <th>3</th>\n",
       "      <td>-3.0</td>\n",
       "      <td>-6.4</td>\n",
       "    </tr>\n",
       "    <tr>\n",
       "      <th>4</th>\n",
       "      <td>-3.0</td>\n",
       "      <td>-6.6</td>\n",
       "    </tr>\n",
       "    <tr>\n",
       "      <th>...</th>\n",
       "      <td>...</td>\n",
       "      <td>...</td>\n",
       "    </tr>\n",
       "    <tr>\n",
       "      <th>8779</th>\n",
       "      <td>0.2</td>\n",
       "      <td>-5.4</td>\n",
       "    </tr>\n",
       "    <tr>\n",
       "      <th>8780</th>\n",
       "      <td>0.4</td>\n",
       "      <td>-4.8</td>\n",
       "    </tr>\n",
       "    <tr>\n",
       "      <th>8781</th>\n",
       "      <td>-1.0</td>\n",
       "      <td>-3.0</td>\n",
       "    </tr>\n",
       "    <tr>\n",
       "      <th>8782</th>\n",
       "      <td>-0.4</td>\n",
       "      <td>-3.6</td>\n",
       "    </tr>\n",
       "    <tr>\n",
       "      <th>8783</th>\n",
       "      <td>0.0</td>\n",
       "      <td>-4.2</td>\n",
       "    </tr>\n",
       "  </tbody>\n",
       "</table>\n",
       "<p>8784 rows × 2 columns</p>\n",
       "</div>"
      ],
      "text/plain": [
       "      Temp_C  Dew Point Temp_C\n",
       "0       -3.6              -7.8\n",
       "1       -3.6              -7.4\n",
       "2       -3.6              -6.8\n",
       "3       -3.0              -6.4\n",
       "4       -3.0              -6.6\n",
       "...      ...               ...\n",
       "8779     0.2              -5.4\n",
       "8780     0.4              -4.8\n",
       "8781    -1.0              -3.0\n",
       "8782    -0.4              -3.6\n",
       "8783     0.0              -4.2\n",
       "\n",
       "[8784 rows x 2 columns]"
      ]
     },
     "execution_count": 864,
     "metadata": {},
     "output_type": "execute_result"
    }
   ],
   "source": [
    "df[[\"Temp_C\",\"Dew Point Temp_C\"]].apply(double_make)"
   ]
  },
  {
   "cell_type": "code",
   "execution_count": 865,
   "id": "fd4d9918",
   "metadata": {},
   "outputs": [
    {
     "data": {
      "text/plain": [
       " 16.6    65\n",
       " 1.1     58\n",
       " 0.8     47\n",
       " 1.5     45\n",
       " 19.3    44\n",
       "         ..\n",
       "-18.4     1\n",
       "-21.0     1\n",
       " 32.3     1\n",
       " 32.0     1\n",
       "-21.1     1\n",
       "Name: Temp_C, Length: 533, dtype: int64"
      ]
     },
     "execution_count": 865,
     "metadata": {},
     "output_type": "execute_result"
    }
   ],
   "source": [
    "df[\"Temp_C\"].value_counts()"
   ]
  },
  {
   "cell_type": "code",
   "execution_count": 866,
   "id": "3e0ed063",
   "metadata": {},
   "outputs": [
    {
     "data": {
      "text/html": [
       "<div>\n",
       "<style scoped>\n",
       "    .dataframe tbody tr th:only-of-type {\n",
       "        vertical-align: middle;\n",
       "    }\n",
       "\n",
       "    .dataframe tbody tr th {\n",
       "        vertical-align: top;\n",
       "    }\n",
       "\n",
       "    .dataframe thead th {\n",
       "        text-align: right;\n",
       "    }\n",
       "</style>\n",
       "<table border=\"1\" class=\"dataframe\">\n",
       "  <thead>\n",
       "    <tr style=\"text-align: right;\">\n",
       "      <th></th>\n",
       "      <th>Date/Time</th>\n",
       "      <th>Temp_C</th>\n",
       "      <th>Dew Point Temp_C</th>\n",
       "      <th>Rel Hum_%</th>\n",
       "      <th>Wind Speed_km/h</th>\n",
       "      <th>Visibility_km</th>\n",
       "      <th>Press_kPa</th>\n",
       "      <th>Weather</th>\n",
       "    </tr>\n",
       "  </thead>\n",
       "  <tbody>\n",
       "    <tr>\n",
       "      <th>344</th>\n",
       "      <td>1/15/2012 8:00</td>\n",
       "      <td>-23.3</td>\n",
       "      <td>-28.5</td>\n",
       "      <td>62</td>\n",
       "      <td>7</td>\n",
       "      <td>24.1</td>\n",
       "      <td>102.45</td>\n",
       "      <td>Clear</td>\n",
       "    </tr>\n",
       "    <tr>\n",
       "      <th>342</th>\n",
       "      <td>1/15/2012 6:00</td>\n",
       "      <td>-23.2</td>\n",
       "      <td>-28.5</td>\n",
       "      <td>62</td>\n",
       "      <td>7</td>\n",
       "      <td>25.0</td>\n",
       "      <td>102.28</td>\n",
       "      <td>Mostly Cloudy</td>\n",
       "    </tr>\n",
       "    <tr>\n",
       "      <th>343</th>\n",
       "      <td>1/15/2012 7:00</td>\n",
       "      <td>-22.8</td>\n",
       "      <td>-28.0</td>\n",
       "      <td>62</td>\n",
       "      <td>9</td>\n",
       "      <td>25.0</td>\n",
       "      <td>102.37</td>\n",
       "      <td>Mainly Clear</td>\n",
       "    </tr>\n",
       "    <tr>\n",
       "      <th>345</th>\n",
       "      <td>1/15/2012 9:00</td>\n",
       "      <td>-22.2</td>\n",
       "      <td>-27.8</td>\n",
       "      <td>60</td>\n",
       "      <td>9</td>\n",
       "      <td>48.3</td>\n",
       "      <td>102.57</td>\n",
       "      <td>Mainly Clear</td>\n",
       "    </tr>\n",
       "    <tr>\n",
       "      <th>338</th>\n",
       "      <td>1/15/2012 2:00</td>\n",
       "      <td>-21.4</td>\n",
       "      <td>-26.6</td>\n",
       "      <td>63</td>\n",
       "      <td>9</td>\n",
       "      <td>25.0</td>\n",
       "      <td>101.99</td>\n",
       "      <td>Cloudy</td>\n",
       "    </tr>\n",
       "    <tr>\n",
       "      <th>...</th>\n",
       "      <td>...</td>\n",
       "      <td>...</td>\n",
       "      <td>...</td>\n",
       "      <td>...</td>\n",
       "      <td>...</td>\n",
       "      <td>...</td>\n",
       "      <td>...</td>\n",
       "      <td>...</td>\n",
       "    </tr>\n",
       "    <tr>\n",
       "      <th>4694</th>\n",
       "      <td>7/14/2012 14:00</td>\n",
       "      <td>32.7</td>\n",
       "      <td>15.3</td>\n",
       "      <td>35</td>\n",
       "      <td>28</td>\n",
       "      <td>48.3</td>\n",
       "      <td>101.35</td>\n",
       "      <td>Mainly Clear</td>\n",
       "    </tr>\n",
       "    <tr>\n",
       "      <th>5199</th>\n",
       "      <td>8/4/2012 15:00</td>\n",
       "      <td>32.8</td>\n",
       "      <td>18.8</td>\n",
       "      <td>44</td>\n",
       "      <td>17</td>\n",
       "      <td>24.1</td>\n",
       "      <td>101.39</td>\n",
       "      <td>Clear</td>\n",
       "    </tr>\n",
       "    <tr>\n",
       "      <th>4696</th>\n",
       "      <td>7/14/2012 16:00</td>\n",
       "      <td>32.9</td>\n",
       "      <td>15.3</td>\n",
       "      <td>35</td>\n",
       "      <td>24</td>\n",
       "      <td>48.3</td>\n",
       "      <td>101.26</td>\n",
       "      <td>Mainly Clear</td>\n",
       "    </tr>\n",
       "    <tr>\n",
       "      <th>4143</th>\n",
       "      <td>6/21/2012 15:00</td>\n",
       "      <td>33.0</td>\n",
       "      <td>19.0</td>\n",
       "      <td>44</td>\n",
       "      <td>24</td>\n",
       "      <td>24.1</td>\n",
       "      <td>100.20</td>\n",
       "      <td>Mainly Clear</td>\n",
       "    </tr>\n",
       "    <tr>\n",
       "      <th>4695</th>\n",
       "      <td>7/14/2012 15:00</td>\n",
       "      <td>33.0</td>\n",
       "      <td>16.8</td>\n",
       "      <td>38</td>\n",
       "      <td>22</td>\n",
       "      <td>48.3</td>\n",
       "      <td>101.31</td>\n",
       "      <td>Mainly Clear</td>\n",
       "    </tr>\n",
       "  </tbody>\n",
       "</table>\n",
       "<p>8784 rows × 8 columns</p>\n",
       "</div>"
      ],
      "text/plain": [
       "            Date/Time  Temp_C  Dew Point Temp_C  Rel Hum_%  Wind Speed_km/h  \\\n",
       "344    1/15/2012 8:00   -23.3             -28.5         62                7   \n",
       "342    1/15/2012 6:00   -23.2             -28.5         62                7   \n",
       "343    1/15/2012 7:00   -22.8             -28.0         62                9   \n",
       "345    1/15/2012 9:00   -22.2             -27.8         60                9   \n",
       "338    1/15/2012 2:00   -21.4             -26.6         63                9   \n",
       "...               ...     ...               ...        ...              ...   \n",
       "4694  7/14/2012 14:00    32.7              15.3         35               28   \n",
       "5199   8/4/2012 15:00    32.8              18.8         44               17   \n",
       "4696  7/14/2012 16:00    32.9              15.3         35               24   \n",
       "4143  6/21/2012 15:00    33.0              19.0         44               24   \n",
       "4695  7/14/2012 15:00    33.0              16.8         38               22   \n",
       "\n",
       "      Visibility_km  Press_kPa        Weather  \n",
       "344            24.1     102.45          Clear  \n",
       "342            25.0     102.28  Mostly Cloudy  \n",
       "343            25.0     102.37   Mainly Clear  \n",
       "345            48.3     102.57   Mainly Clear  \n",
       "338            25.0     101.99         Cloudy  \n",
       "...             ...        ...            ...  \n",
       "4694           48.3     101.35   Mainly Clear  \n",
       "5199           24.1     101.39          Clear  \n",
       "4696           48.3     101.26   Mainly Clear  \n",
       "4143           24.1     100.20   Mainly Clear  \n",
       "4695           48.3     101.31   Mainly Clear  \n",
       "\n",
       "[8784 rows x 8 columns]"
      ]
     },
     "execution_count": 866,
     "metadata": {},
     "output_type": "execute_result"
    }
   ],
   "source": [
    "df.sort_values(by=\"Temp_C\")"
   ]
  },
  {
   "cell_type": "code",
   "execution_count": 867,
   "id": "9f2c2b67",
   "metadata": {},
   "outputs": [],
   "source": [
    "import numpy as np\n",
    "\n"
   ]
  },
  {
   "cell_type": "code",
   "execution_count": 868,
   "id": "608f929b",
   "metadata": {},
   "outputs": [],
   "source": [
    "from matplotlib import pyplot as plt"
   ]
  },
  {
   "cell_type": "code",
   "execution_count": 869,
   "id": "7978c003",
   "metadata": {},
   "outputs": [],
   "source": [
    "x=np.arange(1,11)"
   ]
  },
  {
   "cell_type": "code",
   "execution_count": 870,
   "id": "bc2c677a",
   "metadata": {},
   "outputs": [],
   "source": [
    "y=x*x"
   ]
  },
  {
   "cell_type": "code",
   "execution_count": 871,
   "id": "37f0530f",
   "metadata": {},
   "outputs": [
    {
     "data": {
      "text/plain": [
       "[<matplotlib.lines.Line2D at 0x201bc7575b0>]"
      ]
     },
     "execution_count": 871,
     "metadata": {},
     "output_type": "execute_result"
    },
    {
     "data": {
      "image/png": "[encoded data removed]",
      "text/plain": [
       "<Figure size 432x288 with 1 Axes>"
      ]
     },
     "metadata": {
      "needs_background": "light"
     },
     "output_type": "display_data"
    }
   ],
   "source": [
    "plt.plot(x,y)"
   ]
  },
  {
   "cell_type": "code",
   "execution_count": 872,
   "id": "06cfbaad",
   "metadata": {},
   "outputs": [
    {
     "data": {
      "text/plain": [
       "[<matplotlib.lines.Line2D at 0x201bc79cfa0>]"
      ]
     },
     "execution_count": 872,
     "metadata": {},
     "output_type": "execute_result"
    },
    {
     "data": {
      "image/png": "[encoded data removed]",
      "text/plain": [
       "<Figure size 432x288 with 1 Axes>"
      ]
     },
     "metadata": {
      "needs_background": "light"
     },
     "output_type": "display_data"
    }
   ],
   "source": [
    "plt.plot(x,y)"
   ]
  },
  {
   "cell_type": "code",
   "execution_count": 873,
   "id": "ccd769b0",
   "metadata": {},
   "outputs": [
    {
     "ename": "ValueError",
     "evalue": "The truth value of an array with more than one element is ambiguous. Use a.any() or a.all()",
     "output_type": "error",
     "traceback": [
      "\u001b[1;31m---------------------------------------------------------------------------\u001b[0m",
      "\u001b[1;31mValueError\u001b[0m                                Traceback (most recent call last)",
      "\u001b[1;32m<ipython-input-873-b77f518fea3d>\u001b[0m in \u001b[0;36m<module>\u001b[1;34m\u001b[0m\n\u001b[1;32m----> 1\u001b[1;33m \u001b[0mplt\u001b[0m\u001b[1;33m.\u001b[0m\u001b[0mshow\u001b[0m\u001b[1;33m(\u001b[0m\u001b[0mx\u001b[0m\u001b[1;33m,\u001b[0m\u001b[0my\u001b[0m\u001b[1;33m)\u001b[0m\u001b[1;33m\u001b[0m\u001b[1;33m\u001b[0m\u001b[0m\n\u001b[0m",
      "\u001b[1;32m~\\Anaconda3\\lib\\site-packages\\matplotlib\\pyplot.py\u001b[0m in \u001b[0;36mshow\u001b[1;34m(*args, **kwargs)\u001b[0m\n\u001b[0;32m    351\u001b[0m     \"\"\"\n\u001b[0;32m    352\u001b[0m     \u001b[0m_warn_if_gui_out_of_main_thread\u001b[0m\u001b[1;33m(\u001b[0m\u001b[1;33m)\u001b[0m\u001b[1;33m\u001b[0m\u001b[1;33m\u001b[0m\u001b[0m\n\u001b[1;32m--> 353\u001b[1;33m     \u001b[1;32mreturn\u001b[0m \u001b[0m_backend_mod\u001b[0m\u001b[1;33m.\u001b[0m\u001b[0mshow\u001b[0m\u001b[1;33m(\u001b[0m\u001b[1;33m*\u001b[0m\u001b[0margs\u001b[0m\u001b[1;33m,\u001b[0m \u001b[1;33m**\u001b[0m\u001b[0mkwargs\u001b[0m\u001b[1;33m)\u001b[0m\u001b[1;33m\u001b[0m\u001b[1;33m\u001b[0m\u001b[0m\n\u001b[0m\u001b[0;32m    354\u001b[0m \u001b[1;33m\u001b[0m\u001b[0m\n\u001b[0;32m    355\u001b[0m \u001b[1;33m\u001b[0m\u001b[0m\n",
      "\u001b[1;32m~\\Anaconda3\\lib\\site-packages\\ipykernel\\pylab\\backend_inline.py\u001b[0m in \u001b[0;36mshow\u001b[1;34m(close, block)\u001b[0m\n\u001b[0;32m     47\u001b[0m         \u001b[1;31m# only call close('all') if any to close\u001b[0m\u001b[1;33m\u001b[0m\u001b[1;33m\u001b[0m\u001b[1;33m\u001b[0m\u001b[0m\n\u001b[0;32m     48\u001b[0m         \u001b[1;31m# close triggers gc.collect, which can be slow\u001b[0m\u001b[1;33m\u001b[0m\u001b[1;33m\u001b[0m\u001b[1;33m\u001b[0m\u001b[0m\n\u001b[1;32m---> 49\u001b[1;33m         \u001b[1;32mif\u001b[0m \u001b[0mclose\u001b[0m \u001b[1;32mand\u001b[0m \u001b[0mGcf\u001b[0m\u001b[1;33m.\u001b[0m\u001b[0mget_all_fig_managers\u001b[0m\u001b[1;33m(\u001b[0m\u001b[1;33m)\u001b[0m\u001b[1;33m:\u001b[0m\u001b[1;33m\u001b[0m\u001b[1;33m\u001b[0m\u001b[0m\n\u001b[0m\u001b[0;32m     50\u001b[0m             \u001b[0mmatplotlib\u001b[0m\u001b[1;33m.\u001b[0m\u001b[0mpyplot\u001b[0m\u001b[1;33m.\u001b[0m\u001b[0mclose\u001b[0m\u001b[1;33m(\u001b[0m\u001b[1;34m'all'\u001b[0m\u001b[1;33m)\u001b[0m\u001b[1;33m\u001b[0m\u001b[1;33m\u001b[0m\u001b[0m\n\u001b[0;32m     51\u001b[0m \u001b[1;33m\u001b[0m\u001b[0m\n",
      "\u001b[1;31mValueError\u001b[0m: The truth value of an array with more than one element is ambiguous. Use a.any() or a.all()"
     ]
    }
   ],
   "source": [
    "plt.show(x,y)"
   ]
  },
  {
   "cell_type": "code",
   "execution_count": null,
   "id": "a977a156",
   "metadata": {},
   "outputs": [],
   "source": [
    "plt.show(x,y)\n",
    "plt.title(\"Line-Plot\")\n",
    "plt.xlabel(\"x-label\")"
   ]
  },
  {
   "cell_type": "code",
   "execution_count": 874,
   "id": "472db3a3",
   "metadata": {},
   "outputs": [
    {
     "data": {
      "text/plain": [
       "Text(0.5, 0, 'x-label')"
      ]
     },
     "execution_count": 874,
     "metadata": {},
     "output_type": "execute_result"
    },
    {
     "data": {
      "image/png": "[encoded data removed]",
      "text/plain": [
       "<Figure size 432x288 with 1 Axes>"
      ]
     },
     "metadata": {
      "needs_background": "light"
     },
     "output_type": "display_data"
    }
   ],
   "source": [
    "plt.xlabel(\"x-label\")"
   ]
  },
  {
   "cell_type": "code",
   "execution_count": null,
   "id": "30b1c8ae",
   "metadata": {},
   "outputs": [],
   "source": []
  },
  {
   "cell_type": "code",
   "execution_count": 875,
   "id": "6818fc92",
   "metadata": {},
   "outputs": [
    {
     "data": {
      "text/plain": [
       "[<matplotlib.lines.Line2D at 0x201bc649fd0>]"
      ]
     },
     "execution_count": 875,
     "metadata": {},
     "output_type": "execute_result"
    },
    {
     "data": {
      "image/png": "[encoded data removed]",
      "text/plain": [
       "<Figure size 432x288 with 1 Axes>"
      ]
     },
     "metadata": {
      "needs_background": "light"
     },
     "output_type": "display_data"
    }
   ],
   "source": [
    "plt.plot(x,y,color=\"g\",linestyle=\":\", linewidth=2)"
   ]
  },
  {
   "cell_type": "code",
   "execution_count": 876,
   "id": "8e5d0b01",
   "metadata": {},
   "outputs": [
    {
     "data": {
      "text/plain": [
       "[<matplotlib.lines.Line2D at 0x201bc459ac0>]"
      ]
     },
     "execution_count": 876,
     "metadata": {},
     "output_type": "execute_result"
    },
    {
     "data": {
      "image/png": "[encoded data removed]",
      "text/plain": [
       "<Figure size 432x288 with 1 Axes>"
      ]
     },
     "metadata": {
      "needs_background": "light"
     },
     "output_type": "display_data"
    }
   ],
   "source": [
    "plt.plot(x,y,color=\"g\",linestyle=\":\", linewidth=21)"
   ]
  },
  {
   "cell_type": "code",
   "execution_count": 877,
   "id": "6fc23d4d",
   "metadata": {},
   "outputs": [
    {
     "data": {
      "text/plain": [
       "[<matplotlib.lines.Line2D at 0x201bc3e5c70>]"
      ]
     },
     "execution_count": 877,
     "metadata": {},
     "output_type": "execute_result"
    },
    {
     "data": {
      "image/png": "[encoded data removed]",
      "text/plain": [
       "<Figure size 432x288 with 1 Axes>"
      ]
     },
     "metadata": {
      "needs_background": "light"
     },
     "output_type": "display_data"
    }
   ],
   "source": [
    "plt.plot(x,y,color=\"r\",linestyle=\":\", linewidth=10)"
   ]
  },
  {
   "cell_type": "code",
   "execution_count": null,
   "id": "f795a0a5",
   "metadata": {},
   "outputs": [],
   "source": []
  },
  {
   "cell_type": "code",
   "execution_count": 878,
   "id": "429b4220",
   "metadata": {},
   "outputs": [],
   "source": [
    "x=np.arange(1,11)"
   ]
  },
  {
   "cell_type": "code",
   "execution_count": 879,
   "id": "64c46834",
   "metadata": {},
   "outputs": [],
   "source": [
    "y1=2*x"
   ]
  },
  {
   "cell_type": "code",
   "execution_count": null,
   "id": "5246d26c",
   "metadata": {},
   "outputs": [],
   "source": []
  },
  {
   "cell_type": "code",
   "execution_count": 880,
   "id": "e40e87a2",
   "metadata": {},
   "outputs": [],
   "source": [
    "y2=3*x"
   ]
  },
  {
   "cell_type": "code",
   "execution_count": 881,
   "id": "fc423cfc",
   "metadata": {},
   "outputs": [
    {
     "data": {
      "text/plain": [
       "<AxesSubplot:>"
      ]
     },
     "execution_count": 881,
     "metadata": {},
     "output_type": "execute_result"
    },
    {
     "data": {
      "image/png": "[encoded data removed]",
      "text/plain": [
       "<Figure size 432x288 with 1 Axes>"
      ]
     },
     "metadata": {
      "needs_background": "light"
     },
     "output_type": "display_data"
    }
   ],
   "source": [
    "plt.subplot(2,1,1)"
   ]
  },
  {
   "cell_type": "code",
   "execution_count": 882,
   "id": "6cb9e521",
   "metadata": {},
   "outputs": [
    {
     "ename": "SyntaxError",
     "evalue": "invalid syntax (<ipython-input-882-33784b689be8>, line 1)",
     "output_type": "error",
     "traceback": [
      "\u001b[1;36m  File \u001b[1;32m\"<ipython-input-882-33784b689be8>\"\u001b[1;36m, line \u001b[1;32m1\u001b[0m\n\u001b[1;33m    plt.plot(x,y1,color=\"r\",linestyle\":\")\u001b[0m\n\u001b[1;37m                                     ^\u001b[0m\n\u001b[1;31mSyntaxError\u001b[0m\u001b[1;31m:\u001b[0m invalid syntax\n"
     ]
    }
   ],
   "source": [
    "plt.plot(x,y1,color=\"r\",linestyle\":\")\n",
    "plt.plot(x,y2),color=\"y\",linewidth=4)\n",
    "plt.grid(True)\n",
    "plt.show()"
   ]
  },
  {
   "cell_type": "code",
   "execution_count": 883,
   "id": "dab3669f",
   "metadata": {},
   "outputs": [],
   "source": [
    "student={\"Bob\":87,\"Matt\":56,\"Sam\":27}"
   ]
  },
  {
   "cell_type": "code",
   "execution_count": 884,
   "id": "5b135cc6",
   "metadata": {},
   "outputs": [],
   "source": [
    "names=list(student.keys())\n",
    "values=list(student.values())"
   ]
  },
  {
   "cell_type": "code",
   "execution_count": 885,
   "id": "5c2e9fb3",
   "metadata": {},
   "outputs": [
    {
     "data": {
      "image/png": "[encoded data removed]",
      "text/plain": [
       "<Figure size 432x288 with 1 Axes>"
      ]
     },
     "metadata": {
      "needs_background": "light"
     },
     "output_type": "display_data"
    }
   ],
   "source": [
    "plt.bar(names,values)\n",
    "plt.show()"
   ]
  },
  {
   "cell_type": "code",
   "execution_count": 886,
   "id": "f7518a36",
   "metadata": {},
   "outputs": [],
   "source": [
    "import numpy as np"
   ]
  },
  {
   "cell_type": "code",
   "execution_count": 887,
   "id": "dd74f5a1",
   "metadata": {},
   "outputs": [],
   "source": [
    "x=[2,4,6,7,8,9,10,11]\n",
    "y=[5,3,2,1,3,5,8,9]"
   ]
  },
  {
   "cell_type": "code",
   "execution_count": 888,
   "id": "9e82c93c",
   "metadata": {},
   "outputs": [
    {
     "data": {
      "text/plain": [
       "<matplotlib.collections.PathCollection at 0x201bc072b80>"
      ]
     },
     "execution_count": 888,
     "metadata": {},
     "output_type": "execute_result"
    },
    {
     "data": {
      "image/png": "[encoded data removed]",
      "text/plain": [
       "<Figure size 432x288 with 1 Axes>"
      ]
     },
     "metadata": {
      "needs_background": "light"
     },
     "output_type": "display_data"
    }
   ],
   "source": [
    "plt.scatter(x,y)"
   ]
  },
  {
   "cell_type": "code",
   "execution_count": 889,
   "id": "4ced830d",
   "metadata": {},
   "outputs": [
    {
     "ename": "ValueError",
     "evalue": "x and y must be the same size",
     "output_type": "error",
     "traceback": [
      "\u001b[1;31m---------------------------------------------------------------------------\u001b[0m",
      "\u001b[1;31mValueError\u001b[0m                                Traceback (most recent call last)",
      "\u001b[1;32m<ipython-input-889-f431118743cf>\u001b[0m in \u001b[0;36m<module>\u001b[1;34m\u001b[0m\n\u001b[1;32m----> 1\u001b[1;33m \u001b[0mplt\u001b[0m\u001b[1;33m.\u001b[0m\u001b[0mscatter\u001b[0m\u001b[1;33m(\u001b[0m\u001b[0mx\u001b[0m\u001b[1;33m,\u001b[0m\u001b[0ma\u001b[0m\u001b[1;33m,\u001b[0m\u001b[0mmarker\u001b[0m\u001b[1;33m=\u001b[0m\u001b[1;34m\"*\"\u001b[0m\u001b[1;33m,\u001b[0m\u001b[0mc\u001b[0m\u001b[1;33m=\u001b[0m\u001b[1;34m\"g\"\u001b[0m\u001b[1;33m,\u001b[0m\u001b[0ms\u001b[0m\u001b[1;33m=\u001b[0m\u001b[1;36m10\u001b[0m\u001b[1;33m)\u001b[0m\u001b[1;33m\u001b[0m\u001b[1;33m\u001b[0m\u001b[0m\n\u001b[0m",
      "\u001b[1;32m~\\Anaconda3\\lib\\site-packages\\matplotlib\\pyplot.py\u001b[0m in \u001b[0;36mscatter\u001b[1;34m(x, y, s, c, marker, cmap, norm, vmin, vmax, alpha, linewidths, verts, edgecolors, plotnonfinite, data, **kwargs)\u001b[0m\n\u001b[0;32m   2888\u001b[0m         \u001b[0mverts\u001b[0m\u001b[1;33m=\u001b[0m\u001b[0mcbook\u001b[0m\u001b[1;33m.\u001b[0m\u001b[0mdeprecation\u001b[0m\u001b[1;33m.\u001b[0m\u001b[0m_deprecated_parameter\u001b[0m\u001b[1;33m,\u001b[0m\u001b[1;33m\u001b[0m\u001b[1;33m\u001b[0m\u001b[0m\n\u001b[0;32m   2889\u001b[0m         edgecolors=None, *, plotnonfinite=False, data=None, **kwargs):\n\u001b[1;32m-> 2890\u001b[1;33m     __ret = gca().scatter(\n\u001b[0m\u001b[0;32m   2891\u001b[0m         \u001b[0mx\u001b[0m\u001b[1;33m,\u001b[0m \u001b[0my\u001b[0m\u001b[1;33m,\u001b[0m \u001b[0ms\u001b[0m\u001b[1;33m=\u001b[0m\u001b[0ms\u001b[0m\u001b[1;33m,\u001b[0m \u001b[0mc\u001b[0m\u001b[1;33m=\u001b[0m\u001b[0mc\u001b[0m\u001b[1;33m,\u001b[0m \u001b[0mmarker\u001b[0m\u001b[1;33m=\u001b[0m\u001b[0mmarker\u001b[0m\u001b[1;33m,\u001b[0m \u001b[0mcmap\u001b[0m\u001b[1;33m=\u001b[0m\u001b[0mcmap\u001b[0m\u001b[1;33m,\u001b[0m \u001b[0mnorm\u001b[0m\u001b[1;33m=\u001b[0m\u001b[0mnorm\u001b[0m\u001b[1;33m,\u001b[0m\u001b[1;33m\u001b[0m\u001b[1;33m\u001b[0m\u001b[0m\n\u001b[0;32m   2892\u001b[0m         \u001b[0mvmin\u001b[0m\u001b[1;33m=\u001b[0m\u001b[0mvmin\u001b[0m\u001b[1;33m,\u001b[0m \u001b[0mvmax\u001b[0m\u001b[1;33m=\u001b[0m\u001b[0mvmax\u001b[0m\u001b[1;33m,\u001b[0m \u001b[0malpha\u001b[0m\u001b[1;33m=\u001b[0m\u001b[0malpha\u001b[0m\u001b[1;33m,\u001b[0m \u001b[0mlinewidths\u001b[0m\u001b[1;33m=\u001b[0m\u001b[0mlinewidths\u001b[0m\u001b[1;33m,\u001b[0m\u001b[1;33m\u001b[0m\u001b[1;33m\u001b[0m\u001b[0m\n",
      "\u001b[1;32m~\\Anaconda3\\lib\\site-packages\\matplotlib\\__init__.py\u001b[0m in \u001b[0;36minner\u001b[1;34m(ax, data, *args, **kwargs)\u001b[0m\n\u001b[0;32m   1445\u001b[0m     \u001b[1;32mdef\u001b[0m \u001b[0minner\u001b[0m\u001b[1;33m(\u001b[0m\u001b[0max\u001b[0m\u001b[1;33m,\u001b[0m \u001b[1;33m*\u001b[0m\u001b[0margs\u001b[0m\u001b[1;33m,\u001b[0m \u001b[0mdata\u001b[0m\u001b[1;33m=\u001b[0m\u001b[1;32mNone\u001b[0m\u001b[1;33m,\u001b[0m \u001b[1;33m**\u001b[0m\u001b[0mkwargs\u001b[0m\u001b[1;33m)\u001b[0m\u001b[1;33m:\u001b[0m\u001b[1;33m\u001b[0m\u001b[1;33m\u001b[0m\u001b[0m\n\u001b[0;32m   1446\u001b[0m         \u001b[1;32mif\u001b[0m \u001b[0mdata\u001b[0m \u001b[1;32mis\u001b[0m \u001b[1;32mNone\u001b[0m\u001b[1;33m:\u001b[0m\u001b[1;33m\u001b[0m\u001b[1;33m\u001b[0m\u001b[0m\n\u001b[1;32m-> 1447\u001b[1;33m             \u001b[1;32mreturn\u001b[0m \u001b[0mfunc\u001b[0m\u001b[1;33m(\u001b[0m\u001b[0max\u001b[0m\u001b[1;33m,\u001b[0m \u001b[1;33m*\u001b[0m\u001b[0mmap\u001b[0m\u001b[1;33m(\u001b[0m\u001b[0msanitize_sequence\u001b[0m\u001b[1;33m,\u001b[0m \u001b[0margs\u001b[0m\u001b[1;33m)\u001b[0m\u001b[1;33m,\u001b[0m \u001b[1;33m**\u001b[0m\u001b[0mkwargs\u001b[0m\u001b[1;33m)\u001b[0m\u001b[1;33m\u001b[0m\u001b[1;33m\u001b[0m\u001b[0m\n\u001b[0m\u001b[0;32m   1448\u001b[0m \u001b[1;33m\u001b[0m\u001b[0m\n\u001b[0;32m   1449\u001b[0m         \u001b[0mbound\u001b[0m \u001b[1;33m=\u001b[0m \u001b[0mnew_sig\u001b[0m\u001b[1;33m.\u001b[0m\u001b[0mbind\u001b[0m\u001b[1;33m(\u001b[0m\u001b[0max\u001b[0m\u001b[1;33m,\u001b[0m \u001b[1;33m*\u001b[0m\u001b[0margs\u001b[0m\u001b[1;33m,\u001b[0m \u001b[1;33m**\u001b[0m\u001b[0mkwargs\u001b[0m\u001b[1;33m)\u001b[0m\u001b[1;33m\u001b[0m\u001b[1;33m\u001b[0m\u001b[0m\n",
      "\u001b[1;32m~\\Anaconda3\\lib\\site-packages\\matplotlib\\cbook\\deprecation.py\u001b[0m in \u001b[0;36mwrapper\u001b[1;34m(*inner_args, **inner_kwargs)\u001b[0m\n\u001b[0;32m    409\u001b[0m                          \u001b[1;32melse\u001b[0m \u001b[0mdeprecation_addendum\u001b[0m\u001b[1;33m,\u001b[0m\u001b[1;33m\u001b[0m\u001b[1;33m\u001b[0m\u001b[0m\n\u001b[0;32m    410\u001b[0m                 **kwargs)\n\u001b[1;32m--> 411\u001b[1;33m         \u001b[1;32mreturn\u001b[0m \u001b[0mfunc\u001b[0m\u001b[1;33m(\u001b[0m\u001b[1;33m*\u001b[0m\u001b[0minner_args\u001b[0m\u001b[1;33m,\u001b[0m \u001b[1;33m**\u001b[0m\u001b[0minner_kwargs\u001b[0m\u001b[1;33m)\u001b[0m\u001b[1;33m\u001b[0m\u001b[1;33m\u001b[0m\u001b[0m\n\u001b[0m\u001b[0;32m    412\u001b[0m \u001b[1;33m\u001b[0m\u001b[0m\n\u001b[0;32m    413\u001b[0m     \u001b[1;32mreturn\u001b[0m \u001b[0mwrapper\u001b[0m\u001b[1;33m\u001b[0m\u001b[1;33m\u001b[0m\u001b[0m\n",
      "\u001b[1;32m~\\Anaconda3\\lib\\site-packages\\matplotlib\\axes\\_axes.py\u001b[0m in \u001b[0;36mscatter\u001b[1;34m(self, x, y, s, c, marker, cmap, norm, vmin, vmax, alpha, linewidths, verts, edgecolors, plotnonfinite, **kwargs)\u001b[0m\n\u001b[0;32m   4439\u001b[0m         \u001b[0my\u001b[0m \u001b[1;33m=\u001b[0m \u001b[0mnp\u001b[0m\u001b[1;33m.\u001b[0m\u001b[0mma\u001b[0m\u001b[1;33m.\u001b[0m\u001b[0mravel\u001b[0m\u001b[1;33m(\u001b[0m\u001b[0my\u001b[0m\u001b[1;33m)\u001b[0m\u001b[1;33m\u001b[0m\u001b[1;33m\u001b[0m\u001b[0m\n\u001b[0;32m   4440\u001b[0m         \u001b[1;32mif\u001b[0m \u001b[0mx\u001b[0m\u001b[1;33m.\u001b[0m\u001b[0msize\u001b[0m \u001b[1;33m!=\u001b[0m \u001b[0my\u001b[0m\u001b[1;33m.\u001b[0m\u001b[0msize\u001b[0m\u001b[1;33m:\u001b[0m\u001b[1;33m\u001b[0m\u001b[1;33m\u001b[0m\u001b[0m\n\u001b[1;32m-> 4441\u001b[1;33m             \u001b[1;32mraise\u001b[0m \u001b[0mValueError\u001b[0m\u001b[1;33m(\u001b[0m\u001b[1;34m\"x and y must be the same size\"\u001b[0m\u001b[1;33m)\u001b[0m\u001b[1;33m\u001b[0m\u001b[1;33m\u001b[0m\u001b[0m\n\u001b[0m\u001b[0;32m   4442\u001b[0m \u001b[1;33m\u001b[0m\u001b[0m\n\u001b[0;32m   4443\u001b[0m         \u001b[1;32mif\u001b[0m \u001b[0ms\u001b[0m \u001b[1;32mis\u001b[0m \u001b[1;32mNone\u001b[0m\u001b[1;33m:\u001b[0m\u001b[1;33m\u001b[0m\u001b[1;33m\u001b[0m\u001b[0m\n",
      "\u001b[1;31mValueError\u001b[0m: x and y must be the same size"
     ]
    },
    {
     "data": {
      "image/png": "[encoded data removed]",
      "text/plain": [
       "<Figure size 432x288 with 1 Axes>"
      ]
     },
     "metadata": {
      "needs_background": "light"
     },
     "output_type": "display_data"
    }
   ],
   "source": [
    "plt.scatter(x,a,marker=\"*\",c=\"g\",s=10)"
   ]
  },
  {
   "cell_type": "code",
   "execution_count": null,
   "id": "9befac47",
   "metadata": {},
   "outputs": [],
   "source": [
    "data=[2,3,3,4,5,5,5,6]"
   ]
  },
  {
   "cell_type": "code",
   "execution_count": 890,
   "id": "4a2c0061",
   "metadata": {},
   "outputs": [
    {
     "data": {
      "image/png": "[encoded data removed]",
      "text/plain": [
       "<Figure size 432x288 with 1 Axes>"
      ]
     },
     "metadata": {
      "needs_background": "light"
     },
     "output_type": "display_data"
    }
   ],
   "source": [
    "plt.hist(data,color=\"r\", bins=25)\n",
    "plt.show()"
   ]
  },
  {
   "cell_type": "code",
   "execution_count": 891,
   "id": "883ac85a",
   "metadata": {},
   "outputs": [
    {
     "data": {
      "text/plain": [
       "<bound method NDFrame.head of              Date/Time  Temp_C  Dew Point Temp_C  Rel Hum_%  Wind Speed_km/h  \\\n",
       "0        1/1/2012 0:00    -1.8              -3.9         86                4   \n",
       "1        1/1/2012 1:00    -1.8              -3.7         87                4   \n",
       "2        1/1/2012 2:00    -1.8              -3.4         89                7   \n",
       "3        1/1/2012 3:00    -1.5              -3.2         88                6   \n",
       "4        1/1/2012 4:00    -1.5              -3.3         88                7   \n",
       "...                ...     ...               ...        ...              ...   \n",
       "8779  12/31/2012 19:00     0.1              -2.7         81               30   \n",
       "8780  12/31/2012 20:00     0.2              -2.4         83               24   \n",
       "8781  12/31/2012 21:00    -0.5              -1.5         93               28   \n",
       "8782  12/31/2012 22:00    -0.2              -1.8         89               28   \n",
       "8783  12/31/2012 23:00     0.0              -2.1         86               30   \n",
       "\n",
       "      Visibility_km  Press_kPa               Weather  \n",
       "0               8.0     101.24                   Fog  \n",
       "1               8.0     101.24                   Fog  \n",
       "2               4.0     101.26  Freezing Drizzle,Fog  \n",
       "3               4.0     101.27  Freezing Drizzle,Fog  \n",
       "4               4.8     101.23                   Fog  \n",
       "...             ...        ...                   ...  \n",
       "8779            9.7     100.13                  Snow  \n",
       "8780            9.7     100.03                  Snow  \n",
       "8781            4.8      99.95                  Snow  \n",
       "8782            9.7      99.91                  Snow  \n",
       "8783           11.3      99.89                  Snow  \n",
       "\n",
       "[8784 rows x 8 columns]>"
      ]
     },
     "execution_count": 891,
     "metadata": {},
     "output_type": "execute_result"
    }
   ],
   "source": [
    "df.head"
   ]
  },
  {
   "cell_type": "code",
   "execution_count": 892,
   "id": "83814125",
   "metadata": {},
   "outputs": [
    {
     "data": {
      "text/plain": [
       "(array([  50.,  245.,  691., 1037., 1469., 1109., 1338., 1450., 1142.,\n",
       "         253.]),\n",
       " array([-23.3 , -17.67, -12.04,  -6.41,  -0.78,   4.85,  10.48,  16.11,\n",
       "         21.74,  27.37,  33.  ]),\n",
       " <BarContainer object of 10 artists>)"
      ]
     },
     "execution_count": 892,
     "metadata": {},
     "output_type": "execute_result"
    },
    {
     "data": {
      "image/png": "[encoded data removed]",
      "text/plain": [
       "<Figure size 432x288 with 1 Axes>"
      ]
     },
     "metadata": {
      "needs_background": "light"
     },
     "output_type": "display_data"
    }
   ],
   "source": [
    "plt.hist(df[\"Temp_C\"])"
   ]
  },
  {
   "cell_type": "code",
   "execution_count": 893,
   "id": "3a08fd96",
   "metadata": {},
   "outputs": [
    {
     "data": {
      "text/plain": [
       "{'whiskers': [<matplotlib.lines.Line2D at 0x201bc3ccb50>,\n",
       "  <matplotlib.lines.Line2D at 0x201bc3cceb0>],\n",
       " 'caps': [<matplotlib.lines.Line2D at 0x201bc3c2250>,\n",
       "  <matplotlib.lines.Line2D at 0x201bc3c25b0>],\n",
       " 'boxes': [<matplotlib.lines.Line2D at 0x201bc3cc7f0>],\n",
       " 'medians': [<matplotlib.lines.Line2D at 0x201bc3c2910>],\n",
       " 'fliers': [<matplotlib.lines.Line2D at 0x201bc3c2c70>],\n",
       " 'means': []}"
      ]
     },
     "execution_count": 893,
     "metadata": {},
     "output_type": "execute_result"
    },
    {
     "data": {
      "image/png": "[encoded data removed]",
      "text/plain": [
       "<Figure size 432x288 with 1 Axes>"
      ]
     },
     "metadata": {
      "needs_background": "light"
     },
     "output_type": "display_data"
    }
   ],
   "source": [
    "plt.boxplot(df[\"Temp_C\"])"
   ]
  },
  {
   "cell_type": "code",
   "execution_count": 894,
   "id": "cede7b99",
   "metadata": {},
   "outputs": [
    {
     "data": {
      "text/plain": [
       "{'bodies': [<matplotlib.collections.PolyCollection at 0x201bc19d970>],\n",
       " 'cmaxes': <matplotlib.collections.LineCollection at 0x201bc19daf0>,\n",
       " 'cmins': <matplotlib.collections.LineCollection at 0x201bc19da90>,\n",
       " 'cbars': <matplotlib.collections.LineCollection at 0x201bc1c6340>}"
      ]
     },
     "execution_count": 894,
     "metadata": {},
     "output_type": "execute_result"
    },
    {
     "data": {
      "image/png": "[encoded data removed]",
      "text/plain": [
       "<Figure size 432x288 with 1 Axes>"
      ]
     },
     "metadata": {
      "needs_background": "light"
     },
     "output_type": "display_data"
    }
   ],
   "source": [
    "plt.violinplot(df[\"Temp_C\"])"
   ]
  },
  {
   "cell_type": "code",
   "execution_count": 895,
   "id": "aec7e821",
   "metadata": {},
   "outputs": [
    {
     "ename": "ValueError",
     "evalue": "Wedge sizes 'x' must be non negative values",
     "output_type": "error",
     "traceback": [
      "\u001b[1;31m---------------------------------------------------------------------------\u001b[0m",
      "\u001b[1;31mValueError\u001b[0m                                Traceback (most recent call last)",
      "\u001b[1;32m<ipython-input-895-57e7c59b5b3a>\u001b[0m in \u001b[0;36m<module>\u001b[1;34m\u001b[0m\n\u001b[1;32m----> 1\u001b[1;33m \u001b[0mplt\u001b[0m\u001b[1;33m.\u001b[0m\u001b[0mpie\u001b[0m\u001b[1;33m(\u001b[0m\u001b[0mdf\u001b[0m\u001b[1;33m[\u001b[0m\u001b[1;34m\"Temp_C\"\u001b[0m\u001b[1;33m]\u001b[0m\u001b[1;33m)\u001b[0m\u001b[1;33m\u001b[0m\u001b[1;33m\u001b[0m\u001b[0m\n\u001b[0m",
      "\u001b[1;32m~\\Anaconda3\\lib\\site-packages\\matplotlib\\pyplot.py\u001b[0m in \u001b[0;36mpie\u001b[1;34m(x, explode, labels, colors, autopct, pctdistance, shadow, labeldistance, startangle, radius, counterclock, wedgeprops, textprops, center, frame, rotatelabels, normalize, data)\u001b[0m\n\u001b[0;32m   2825\u001b[0m         \u001b[0mtextprops\u001b[0m\u001b[1;33m=\u001b[0m\u001b[1;32mNone\u001b[0m\u001b[1;33m,\u001b[0m \u001b[0mcenter\u001b[0m\u001b[1;33m=\u001b[0m\u001b[1;33m(\u001b[0m\u001b[1;36m0\u001b[0m\u001b[1;33m,\u001b[0m \u001b[1;36m0\u001b[0m\u001b[1;33m)\u001b[0m\u001b[1;33m,\u001b[0m \u001b[0mframe\u001b[0m\u001b[1;33m=\u001b[0m\u001b[1;32mFalse\u001b[0m\u001b[1;33m,\u001b[0m\u001b[1;33m\u001b[0m\u001b[1;33m\u001b[0m\u001b[0m\n\u001b[0;32m   2826\u001b[0m         rotatelabels=False, *, normalize=None, data=None):\n\u001b[1;32m-> 2827\u001b[1;33m     return gca().pie(\n\u001b[0m\u001b[0;32m   2828\u001b[0m         \u001b[0mx\u001b[0m\u001b[1;33m,\u001b[0m \u001b[0mexplode\u001b[0m\u001b[1;33m=\u001b[0m\u001b[0mexplode\u001b[0m\u001b[1;33m,\u001b[0m \u001b[0mlabels\u001b[0m\u001b[1;33m=\u001b[0m\u001b[0mlabels\u001b[0m\u001b[1;33m,\u001b[0m \u001b[0mcolors\u001b[0m\u001b[1;33m=\u001b[0m\u001b[0mcolors\u001b[0m\u001b[1;33m,\u001b[0m\u001b[1;33m\u001b[0m\u001b[1;33m\u001b[0m\u001b[0m\n\u001b[0;32m   2829\u001b[0m         \u001b[0mautopct\u001b[0m\u001b[1;33m=\u001b[0m\u001b[0mautopct\u001b[0m\u001b[1;33m,\u001b[0m \u001b[0mpctdistance\u001b[0m\u001b[1;33m=\u001b[0m\u001b[0mpctdistance\u001b[0m\u001b[1;33m,\u001b[0m \u001b[0mshadow\u001b[0m\u001b[1;33m=\u001b[0m\u001b[0mshadow\u001b[0m\u001b[1;33m,\u001b[0m\u001b[1;33m\u001b[0m\u001b[1;33m\u001b[0m\u001b[0m\n",
      "\u001b[1;32m~\\Anaconda3\\lib\\site-packages\\matplotlib\\__init__.py\u001b[0m in \u001b[0;36minner\u001b[1;34m(ax, data, *args, **kwargs)\u001b[0m\n\u001b[0;32m   1445\u001b[0m     \u001b[1;32mdef\u001b[0m \u001b[0minner\u001b[0m\u001b[1;33m(\u001b[0m\u001b[0max\u001b[0m\u001b[1;33m,\u001b[0m \u001b[1;33m*\u001b[0m\u001b[0margs\u001b[0m\u001b[1;33m,\u001b[0m \u001b[0mdata\u001b[0m\u001b[1;33m=\u001b[0m\u001b[1;32mNone\u001b[0m\u001b[1;33m,\u001b[0m \u001b[1;33m**\u001b[0m\u001b[0mkwargs\u001b[0m\u001b[1;33m)\u001b[0m\u001b[1;33m:\u001b[0m\u001b[1;33m\u001b[0m\u001b[1;33m\u001b[0m\u001b[0m\n\u001b[0;32m   1446\u001b[0m         \u001b[1;32mif\u001b[0m \u001b[0mdata\u001b[0m \u001b[1;32mis\u001b[0m \u001b[1;32mNone\u001b[0m\u001b[1;33m:\u001b[0m\u001b[1;33m\u001b[0m\u001b[1;33m\u001b[0m\u001b[0m\n\u001b[1;32m-> 1447\u001b[1;33m             \u001b[1;32mreturn\u001b[0m \u001b[0mfunc\u001b[0m\u001b[1;33m(\u001b[0m\u001b[0max\u001b[0m\u001b[1;33m,\u001b[0m \u001b[1;33m*\u001b[0m\u001b[0mmap\u001b[0m\u001b[1;33m(\u001b[0m\u001b[0msanitize_sequence\u001b[0m\u001b[1;33m,\u001b[0m \u001b[0margs\u001b[0m\u001b[1;33m)\u001b[0m\u001b[1;33m,\u001b[0m \u001b[1;33m**\u001b[0m\u001b[0mkwargs\u001b[0m\u001b[1;33m)\u001b[0m\u001b[1;33m\u001b[0m\u001b[1;33m\u001b[0m\u001b[0m\n\u001b[0m\u001b[0;32m   1448\u001b[0m \u001b[1;33m\u001b[0m\u001b[0m\n\u001b[0;32m   1449\u001b[0m         \u001b[0mbound\u001b[0m \u001b[1;33m=\u001b[0m \u001b[0mnew_sig\u001b[0m\u001b[1;33m.\u001b[0m\u001b[0mbind\u001b[0m\u001b[1;33m(\u001b[0m\u001b[0max\u001b[0m\u001b[1;33m,\u001b[0m \u001b[1;33m*\u001b[0m\u001b[0margs\u001b[0m\u001b[1;33m,\u001b[0m \u001b[1;33m**\u001b[0m\u001b[0mkwargs\u001b[0m\u001b[1;33m)\u001b[0m\u001b[1;33m\u001b[0m\u001b[1;33m\u001b[0m\u001b[0m\n",
      "\u001b[1;32m~\\Anaconda3\\lib\\site-packages\\matplotlib\\axes\\_axes.py\u001b[0m in \u001b[0;36mpie\u001b[1;34m(self, x, explode, labels, colors, autopct, pctdistance, shadow, labeldistance, startangle, radius, counterclock, wedgeprops, textprops, center, frame, rotatelabels, normalize)\u001b[0m\n\u001b[0;32m   2998\u001b[0m \u001b[1;33m\u001b[0m\u001b[0m\n\u001b[0;32m   2999\u001b[0m         \u001b[1;32mif\u001b[0m \u001b[0mnp\u001b[0m\u001b[1;33m.\u001b[0m\u001b[0many\u001b[0m\u001b[1;33m(\u001b[0m\u001b[0mx\u001b[0m \u001b[1;33m<\u001b[0m \u001b[1;36m0\u001b[0m\u001b[1;33m)\u001b[0m\u001b[1;33m:\u001b[0m\u001b[1;33m\u001b[0m\u001b[1;33m\u001b[0m\u001b[0m\n\u001b[1;32m-> 3000\u001b[1;33m             \u001b[1;32mraise\u001b[0m \u001b[0mValueError\u001b[0m\u001b[1;33m(\u001b[0m\u001b[1;34m\"Wedge sizes 'x' must be non negative values\"\u001b[0m\u001b[1;33m)\u001b[0m\u001b[1;33m\u001b[0m\u001b[1;33m\u001b[0m\u001b[0m\n\u001b[0m\u001b[0;32m   3001\u001b[0m \u001b[1;33m\u001b[0m\u001b[0m\n\u001b[0;32m   3002\u001b[0m         \u001b[0msx\u001b[0m \u001b[1;33m=\u001b[0m \u001b[0mx\u001b[0m\u001b[1;33m.\u001b[0m\u001b[0msum\u001b[0m\u001b[1;33m(\u001b[0m\u001b[1;33m)\u001b[0m\u001b[1;33m\u001b[0m\u001b[1;33m\u001b[0m\u001b[0m\n",
      "\u001b[1;31mValueError\u001b[0m: Wedge sizes 'x' must be non negative values"
     ]
    },
    {
     "data": {
      "image/png": "[encoded data removed]",
      "text/plain": [
       "<Figure size 432x288 with 1 Axes>"
      ]
     },
     "metadata": {
      "needs_background": "light"
     },
     "output_type": "display_data"
    }
   ],
   "source": [
    "plt.pie(df[\"Temp_C\"])"
   ]
  },
  {
   "cell_type": "code",
   "execution_count": null,
   "id": "2928874b",
   "metadata": {},
   "outputs": [],
   "source": [
    "fruit=[\"Apple\", \"Banana\", \"Mango\",\"Guava\"]"
   ]
  },
  {
   "cell_type": "code",
   "execution_count": 896,
   "id": "08c67f39",
   "metadata": {},
   "outputs": [],
   "source": [
    "quantity=[10,15,20,5]"
   ]
  },
  {
   "cell_type": "code",
   "execution_count": 897,
   "id": "3e85de45",
   "metadata": {},
   "outputs": [
    {
     "ename": "ValueError",
     "evalue": "'label' must be of length 'x'",
     "output_type": "error",
     "traceback": [
      "\u001b[1;31m---------------------------------------------------------------------------\u001b[0m",
      "\u001b[1;31mValueError\u001b[0m                                Traceback (most recent call last)",
      "\u001b[1;32m<ipython-input-897-76842253466b>\u001b[0m in \u001b[0;36m<module>\u001b[1;34m\u001b[0m\n\u001b[1;32m----> 1\u001b[1;33m \u001b[0mplt\u001b[0m\u001b[1;33m.\u001b[0m\u001b[0mpie\u001b[0m\u001b[1;33m(\u001b[0m\u001b[0mquantity\u001b[0m\u001b[1;33m,\u001b[0m\u001b[0mlabels\u001b[0m\u001b[1;33m=\u001b[0m\u001b[0mfruit\u001b[0m\u001b[1;33m)\u001b[0m\u001b[1;33m\u001b[0m\u001b[1;33m\u001b[0m\u001b[0m\n\u001b[0m",
      "\u001b[1;32m~\\Anaconda3\\lib\\site-packages\\matplotlib\\pyplot.py\u001b[0m in \u001b[0;36mpie\u001b[1;34m(x, explode, labels, colors, autopct, pctdistance, shadow, labeldistance, startangle, radius, counterclock, wedgeprops, textprops, center, frame, rotatelabels, normalize, data)\u001b[0m\n\u001b[0;32m   2825\u001b[0m         \u001b[0mtextprops\u001b[0m\u001b[1;33m=\u001b[0m\u001b[1;32mNone\u001b[0m\u001b[1;33m,\u001b[0m \u001b[0mcenter\u001b[0m\u001b[1;33m=\u001b[0m\u001b[1;33m(\u001b[0m\u001b[1;36m0\u001b[0m\u001b[1;33m,\u001b[0m \u001b[1;36m0\u001b[0m\u001b[1;33m)\u001b[0m\u001b[1;33m,\u001b[0m \u001b[0mframe\u001b[0m\u001b[1;33m=\u001b[0m\u001b[1;32mFalse\u001b[0m\u001b[1;33m,\u001b[0m\u001b[1;33m\u001b[0m\u001b[1;33m\u001b[0m\u001b[0m\n\u001b[0;32m   2826\u001b[0m         rotatelabels=False, *, normalize=None, data=None):\n\u001b[1;32m-> 2827\u001b[1;33m     return gca().pie(\n\u001b[0m\u001b[0;32m   2828\u001b[0m         \u001b[0mx\u001b[0m\u001b[1;33m,\u001b[0m \u001b[0mexplode\u001b[0m\u001b[1;33m=\u001b[0m\u001b[0mexplode\u001b[0m\u001b[1;33m,\u001b[0m \u001b[0mlabels\u001b[0m\u001b[1;33m=\u001b[0m\u001b[0mlabels\u001b[0m\u001b[1;33m,\u001b[0m \u001b[0mcolors\u001b[0m\u001b[1;33m=\u001b[0m\u001b[0mcolors\u001b[0m\u001b[1;33m,\u001b[0m\u001b[1;33m\u001b[0m\u001b[1;33m\u001b[0m\u001b[0m\n\u001b[0;32m   2829\u001b[0m         \u001b[0mautopct\u001b[0m\u001b[1;33m=\u001b[0m\u001b[0mautopct\u001b[0m\u001b[1;33m,\u001b[0m \u001b[0mpctdistance\u001b[0m\u001b[1;33m=\u001b[0m\u001b[0mpctdistance\u001b[0m\u001b[1;33m,\u001b[0m \u001b[0mshadow\u001b[0m\u001b[1;33m=\u001b[0m\u001b[0mshadow\u001b[0m\u001b[1;33m,\u001b[0m\u001b[1;33m\u001b[0m\u001b[1;33m\u001b[0m\u001b[0m\n",
      "\u001b[1;32m~\\Anaconda3\\lib\\site-packages\\matplotlib\\__init__.py\u001b[0m in \u001b[0;36minner\u001b[1;34m(ax, data, *args, **kwargs)\u001b[0m\n\u001b[0;32m   1445\u001b[0m     \u001b[1;32mdef\u001b[0m \u001b[0minner\u001b[0m\u001b[1;33m(\u001b[0m\u001b[0max\u001b[0m\u001b[1;33m,\u001b[0m \u001b[1;33m*\u001b[0m\u001b[0margs\u001b[0m\u001b[1;33m,\u001b[0m \u001b[0mdata\u001b[0m\u001b[1;33m=\u001b[0m\u001b[1;32mNone\u001b[0m\u001b[1;33m,\u001b[0m \u001b[1;33m**\u001b[0m\u001b[0mkwargs\u001b[0m\u001b[1;33m)\u001b[0m\u001b[1;33m:\u001b[0m\u001b[1;33m\u001b[0m\u001b[1;33m\u001b[0m\u001b[0m\n\u001b[0;32m   1446\u001b[0m         \u001b[1;32mif\u001b[0m \u001b[0mdata\u001b[0m \u001b[1;32mis\u001b[0m \u001b[1;32mNone\u001b[0m\u001b[1;33m:\u001b[0m\u001b[1;33m\u001b[0m\u001b[1;33m\u001b[0m\u001b[0m\n\u001b[1;32m-> 1447\u001b[1;33m             \u001b[1;32mreturn\u001b[0m \u001b[0mfunc\u001b[0m\u001b[1;33m(\u001b[0m\u001b[0max\u001b[0m\u001b[1;33m,\u001b[0m \u001b[1;33m*\u001b[0m\u001b[0mmap\u001b[0m\u001b[1;33m(\u001b[0m\u001b[0msanitize_sequence\u001b[0m\u001b[1;33m,\u001b[0m \u001b[0margs\u001b[0m\u001b[1;33m)\u001b[0m\u001b[1;33m,\u001b[0m \u001b[1;33m**\u001b[0m\u001b[0mkwargs\u001b[0m\u001b[1;33m)\u001b[0m\u001b[1;33m\u001b[0m\u001b[1;33m\u001b[0m\u001b[0m\n\u001b[0m\u001b[0;32m   1448\u001b[0m \u001b[1;33m\u001b[0m\u001b[0m\n\u001b[0;32m   1449\u001b[0m         \u001b[0mbound\u001b[0m \u001b[1;33m=\u001b[0m \u001b[0mnew_sig\u001b[0m\u001b[1;33m.\u001b[0m\u001b[0mbind\u001b[0m\u001b[1;33m(\u001b[0m\u001b[0max\u001b[0m\u001b[1;33m,\u001b[0m \u001b[1;33m*\u001b[0m\u001b[0margs\u001b[0m\u001b[1;33m,\u001b[0m \u001b[1;33m**\u001b[0m\u001b[0mkwargs\u001b[0m\u001b[1;33m)\u001b[0m\u001b[1;33m\u001b[0m\u001b[1;33m\u001b[0m\u001b[0m\n",
      "\u001b[1;32m~\\Anaconda3\\lib\\site-packages\\matplotlib\\axes\\_axes.py\u001b[0m in \u001b[0;36mpie\u001b[1;34m(self, x, explode, labels, colors, autopct, pctdistance, shadow, labeldistance, startangle, radius, counterclock, wedgeprops, textprops, center, frame, rotatelabels, normalize)\u001b[0m\n\u001b[0;32m   3022\u001b[0m             \u001b[0mexplode\u001b[0m \u001b[1;33m=\u001b[0m \u001b[1;33m[\u001b[0m\u001b[1;36m0\u001b[0m\u001b[1;33m]\u001b[0m \u001b[1;33m*\u001b[0m \u001b[0mlen\u001b[0m\u001b[1;33m(\u001b[0m\u001b[0mx\u001b[0m\u001b[1;33m)\u001b[0m\u001b[1;33m\u001b[0m\u001b[1;33m\u001b[0m\u001b[0m\n\u001b[0;32m   3023\u001b[0m         \u001b[1;32mif\u001b[0m \u001b[0mlen\u001b[0m\u001b[1;33m(\u001b[0m\u001b[0mx\u001b[0m\u001b[1;33m)\u001b[0m \u001b[1;33m!=\u001b[0m \u001b[0mlen\u001b[0m\u001b[1;33m(\u001b[0m\u001b[0mlabels\u001b[0m\u001b[1;33m)\u001b[0m\u001b[1;33m:\u001b[0m\u001b[1;33m\u001b[0m\u001b[1;33m\u001b[0m\u001b[0m\n\u001b[1;32m-> 3024\u001b[1;33m             \u001b[1;32mraise\u001b[0m \u001b[0mValueError\u001b[0m\u001b[1;33m(\u001b[0m\u001b[1;34m\"'label' must be of length 'x'\"\u001b[0m\u001b[1;33m)\u001b[0m\u001b[1;33m\u001b[0m\u001b[1;33m\u001b[0m\u001b[0m\n\u001b[0m\u001b[0;32m   3025\u001b[0m         \u001b[1;32mif\u001b[0m \u001b[0mlen\u001b[0m\u001b[1;33m(\u001b[0m\u001b[0mx\u001b[0m\u001b[1;33m)\u001b[0m \u001b[1;33m!=\u001b[0m \u001b[0mlen\u001b[0m\u001b[1;33m(\u001b[0m\u001b[0mexplode\u001b[0m\u001b[1;33m)\u001b[0m\u001b[1;33m:\u001b[0m\u001b[1;33m\u001b[0m\u001b[1;33m\u001b[0m\u001b[0m\n\u001b[0;32m   3026\u001b[0m             \u001b[1;32mraise\u001b[0m \u001b[0mValueError\u001b[0m\u001b[1;33m(\u001b[0m\u001b[1;34m\"'explode' must be of length 'x'\"\u001b[0m\u001b[1;33m)\u001b[0m\u001b[1;33m\u001b[0m\u001b[1;33m\u001b[0m\u001b[0m\n",
      "\u001b[1;31mValueError\u001b[0m: 'label' must be of length 'x'"
     ]
    },
    {
     "data": {
      "image/png": "[encoded data removed]",
      "text/plain": [
       "<Figure size 432x288 with 1 Axes>"
      ]
     },
     "metadata": {
      "needs_background": "light"
     },
     "output_type": "display_data"
    }
   ],
   "source": [
    "plt.pie(quantity,labels=fruit)"
   ]
  },
  {
   "cell_type": "code",
   "execution_count": 898,
   "id": "e4fbf859",
   "metadata": {},
   "outputs": [],
   "source": [
    "import seaborn as sns\n",
    "from matplotlib import pyplot as plt"
   ]
  },
  {
   "cell_type": "code",
   "execution_count": 899,
   "id": "9524dc28",
   "metadata": {},
   "outputs": [
    {
     "data": {
      "text/html": [
       "<div>\n",
       "<style scoped>\n",
       "    .dataframe tbody tr th:only-of-type {\n",
       "        vertical-align: middle;\n",
       "    }\n",
       "\n",
       "    .dataframe tbody tr th {\n",
       "        vertical-align: top;\n",
       "    }\n",
       "\n",
       "    .dataframe thead th {\n",
       "        text-align: right;\n",
       "    }\n",
       "</style>\n",
       "<table border=\"1\" class=\"dataframe\">\n",
       "  <thead>\n",
       "    <tr style=\"text-align: right;\">\n",
       "      <th></th>\n",
       "      <th>subject</th>\n",
       "      <th>timepoint</th>\n",
       "      <th>event</th>\n",
       "      <th>region</th>\n",
       "      <th>signal</th>\n",
       "    </tr>\n",
       "  </thead>\n",
       "  <tbody>\n",
       "    <tr>\n",
       "      <th>0</th>\n",
       "      <td>s13</td>\n",
       "      <td>18</td>\n",
       "      <td>stim</td>\n",
       "      <td>parietal</td>\n",
       "      <td>-0.017552</td>\n",
       "    </tr>\n",
       "    <tr>\n",
       "      <th>1</th>\n",
       "      <td>s5</td>\n",
       "      <td>14</td>\n",
       "      <td>stim</td>\n",
       "      <td>parietal</td>\n",
       "      <td>-0.080883</td>\n",
       "    </tr>\n",
       "    <tr>\n",
       "      <th>2</th>\n",
       "      <td>s12</td>\n",
       "      <td>18</td>\n",
       "      <td>stim</td>\n",
       "      <td>parietal</td>\n",
       "      <td>-0.081033</td>\n",
       "    </tr>\n",
       "    <tr>\n",
       "      <th>3</th>\n",
       "      <td>s11</td>\n",
       "      <td>18</td>\n",
       "      <td>stim</td>\n",
       "      <td>parietal</td>\n",
       "      <td>-0.046134</td>\n",
       "    </tr>\n",
       "    <tr>\n",
       "      <th>4</th>\n",
       "      <td>s10</td>\n",
       "      <td>18</td>\n",
       "      <td>stim</td>\n",
       "      <td>parietal</td>\n",
       "      <td>-0.037970</td>\n",
       "    </tr>\n",
       "  </tbody>\n",
       "</table>\n",
       "</div>"
      ],
      "text/plain": [
       "  subject  timepoint event    region    signal\n",
       "0     s13         18  stim  parietal -0.017552\n",
       "1      s5         14  stim  parietal -0.080883\n",
       "2     s12         18  stim  parietal -0.081033\n",
       "3     s11         18  stim  parietal -0.046134\n",
       "4     s10         18  stim  parietal -0.037970"
      ]
     },
     "execution_count": 899,
     "metadata": {},
     "output_type": "execute_result"
    }
   ],
   "source": [
    "fmri=sns.load_dataset(\"fmri\")\n",
    "fmri.head()"
   ]
  },
  {
   "cell_type": "code",
   "execution_count": 902,
   "id": "f40cfb2c",
   "metadata": {},
   "outputs": [
    {
     "ename": "SyntaxError",
     "evalue": "invalid syntax (<ipython-input-902-204f9a0d4bd5>, line 1)",
     "output_type": "error",
     "traceback": [
      "\u001b[1;36m  File \u001b[1;32m\"<ipython-input-902-204f9a0d4bd5>\"\u001b[1;36m, line \u001b[1;32m1\u001b[0m\n\u001b[1;33m    sns.lineplot(x=(\"timepoint\",y=\"signal\", data=fmri)\u001b[0m\n\u001b[1;37m                                 ^\u001b[0m\n\u001b[1;31mSyntaxError\u001b[0m\u001b[1;31m:\u001b[0m invalid syntax\n"
     ]
    }
   ],
   "source": [
    "sns.lineplot(x=(\"timepoint\",y=\"signal\", data=fmri)\n",
    "             plt.show()"
   ]
  },
  {
   "cell_type": "code",
   "execution_count": 903,
   "id": "3325ddc9",
   "metadata": {},
   "outputs": [
    {
     "data": {
      "text/plain": [
       "(1064, 5)"
      ]
     },
     "execution_count": 903,
     "metadata": {},
     "output_type": "execute_result"
    }
   ],
   "source": [
    "fmri.shape"
   ]
  },
  {
   "cell_type": "code",
   "execution_count": 904,
   "id": "a00a1de4",
   "metadata": {},
   "outputs": [
    {
     "ename": "SyntaxError",
     "evalue": "invalid syntax (<ipython-input-904-204f9a0d4bd5>, line 1)",
     "output_type": "error",
     "traceback": [
      "\u001b[1;36m  File \u001b[1;32m\"<ipython-input-904-204f9a0d4bd5>\"\u001b[1;36m, line \u001b[1;32m1\u001b[0m\n\u001b[1;33m    sns.lineplot(x=(\"timepoint\",y=\"signal\", data=fmri)\u001b[0m\n\u001b[1;37m                                 ^\u001b[0m\n\u001b[1;31mSyntaxError\u001b[0m\u001b[1;31m:\u001b[0m invalid syntax\n"
     ]
    }
   ],
   "source": [
    "sns.lineplot(x=(\"timepoint\",y=\"signal\", data=fmri)\n",
    "             plt.show()"
   ]
  },
  {
   "cell_type": "code",
   "execution_count": 905,
   "id": "9c1a278b",
   "metadata": {},
   "outputs": [
    {
     "ename": "SyntaxError",
     "evalue": "invalid syntax (<ipython-input-905-204f9a0d4bd5>, line 1)",
     "output_type": "error",
     "traceback": [
      "\u001b[1;36m  File \u001b[1;32m\"<ipython-input-905-204f9a0d4bd5>\"\u001b[1;36m, line \u001b[1;32m1\u001b[0m\n\u001b[1;33m    sns.lineplot(x=(\"timepoint\",y=\"signal\", data=fmri)\u001b[0m\n\u001b[1;37m                                 ^\u001b[0m\n\u001b[1;31mSyntaxError\u001b[0m\u001b[1;31m:\u001b[0m invalid syntax\n"
     ]
    }
   ],
   "source": [
    "sns.lineplot(x=(\"timepoint\",y=\"signal\", data=fmri)\n",
    "             plt.show()"
   ]
  },
  {
   "cell_type": "code",
   "execution_count": 906,
   "id": "54ef6535",
   "metadata": {},
   "outputs": [],
   "source": [
    "import pandas as pd"
   ]
  },
  {
   "cell_type": "code",
   "execution_count": 1,
   "id": "d377cffb",
   "metadata": {},
   "outputs": [],
   "source": [
    "a=10"
   ]
  },
  {
   "cell_type": "code",
   "execution_count": 2,
   "id": "fec84d2d",
   "metadata": {},
   "outputs": [],
   "source": [
    "A=100"
   ]
  },
  {
   "cell_type": "code",
   "execution_count": 3,
   "id": "c8c2172c",
   "metadata": {},
   "outputs": [
    {
     "name": "stdout",
     "output_type": "stream",
     "text": [
      "10\n"
     ]
    }
   ],
   "source": [
    "print(a)"
   ]
  },
  {
   "cell_type": "code",
   "execution_count": 4,
   "id": "47601689",
   "metadata": {},
   "outputs": [
    {
     "name": "stdout",
     "output_type": "stream",
     "text": [
      "100\n"
     ]
    }
   ],
   "source": [
    "print(A)"
   ]
  },
  {
   "cell_type": "code",
   "execution_count": 5,
   "id": "50b9a995",
   "metadata": {},
   "outputs": [],
   "source": [
    "b=10.0"
   ]
  },
  {
   "cell_type": "code",
   "execution_count": 6,
   "id": "e6e42ea1",
   "metadata": {},
   "outputs": [
    {
     "data": {
      "text/plain": [
       "int"
      ]
     },
     "execution_count": 6,
     "metadata": {},
     "output_type": "execute_result"
    }
   ],
   "source": [
    "type(a)"
   ]
  },
  {
   "cell_type": "code",
   "execution_count": 7,
   "id": "eb91c579",
   "metadata": {},
   "outputs": [
    {
     "data": {
      "text/plain": [
       "float"
      ]
     },
     "execution_count": 7,
     "metadata": {},
     "output_type": "execute_result"
    }
   ],
   "source": [
    "type(b)"
   ]
  },
  {
   "cell_type": "code",
   "execution_count": 8,
   "id": "2eaf1d60",
   "metadata": {},
   "outputs": [],
   "source": [
    "x=3+5j"
   ]
  },
  {
   "cell_type": "code",
   "execution_count": 9,
   "id": "dbedd9b3",
   "metadata": {},
   "outputs": [],
   "source": [
    "name=\"shreenath\""
   ]
  },
  {
   "cell_type": "code",
   "execution_count": 10,
   "id": "ee1ec194",
   "metadata": {},
   "outputs": [
    {
     "data": {
      "text/plain": [
       "str"
      ]
     },
     "execution_count": 10,
     "metadata": {},
     "output_type": "execute_result"
    }
   ],
   "source": [
    "type(name)"
   ]
  },
  {
   "cell_type": "code",
   "execution_count": null,
   "id": "e21ee2a1",
   "metadata": {},
   "outputs": [],
   "source": []
  }
 ],
 "metadata": {
  "kernelspec": {
   "display_name": "Python 3 (ipykernel)",
   "language": "python",
   "name": "python3"
  },
  "language_info": {
   "codemirror_mode": {
    "name": "ipython",
    "version": 3
   },
   "file_extension": ".py",
   "mimetype": "text/x-python",
   "name": "python",
   "nbconvert_exporter": "python",
   "pygments_lexer": "ipython3",
   "version": "3.9.13"
  }
 },
 "nbformat": 4,
 "nbformat_minor": 5
}
